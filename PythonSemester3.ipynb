{
  "nbformat": 4,
  "nbformat_minor": 0,
  "metadata": {
    "colab": {
      "provenance": [],
      "collapsed_sections": [
        "Uaw_Uh5xf-V8",
        "QZMZRtmagdPt",
        "OGhQDoIWglPx",
        "nt1lyDlumQrs",
        "Kdi3UQePol3R",
        "C8xSiINexhpp",
        "XQTon1j4ObZb",
        "IbIsU1orOcum",
        "4h0wqWqPPQIz",
        "osbEGNewQJim",
        "67n7EcalQKqP",
        "bBwwJHtoQLnL",
        "2Kzz6M18fisR",
        "mF2OE96XNF0K",
        "Ytka0p82pwFK",
        "LiXYR3mu5V1i",
        "C0bd9eaa6kw2",
        "fmSsKTilAvcd",
        "8YcqTIgspRoL",
        "TSBEwpgR2lv_",
        "4cxMq-Dp2va1",
        "fELjyM-o2z0E",
        "N9hXUccm20nX"
      ],
      "authorship_tag": "ABX9TyOa//0dpMaBC9P7gRukQhFn",
      "include_colab_link": true
    },
    "kernelspec": {
      "name": "python3",
      "display_name": "Python 3"
    },
    "language_info": {
      "name": "python"
    }
  },
  "cells": [
    {
      "cell_type": "markdown",
      "metadata": {
        "id": "view-in-github",
        "colab_type": "text"
      },
      "source": [
        "<a href=\"https://colab.research.google.com/github/8268826/PythonPracticalSemester3/blob/main/PythonSemester3.ipynb\" target=\"_parent\"><img src=\"https://colab.research.google.com/assets/colab-badge.svg\" alt=\"Open In Colab\"/></a>"
      ]
    },
    {
      "cell_type": "markdown",
      "source": [
        "# Практическое занятие №1"
      ],
      "metadata": {
        "id": "Uaw_Uh5xf-V8"
      }
    },
    {
      "cell_type": "markdown",
      "source": [
        "## 1. Первое знакомство с языком"
      ],
      "metadata": {
        "id": "QZMZRtmagdPt"
      }
    },
    {
      "cell_type": "markdown",
      "source": [
        "### Задание 1.1"
      ],
      "metadata": {
        "id": "OGhQDoIWglPx"
      }
    },
    {
      "cell_type": "markdown",
      "source": [
        "1)"
      ],
      "metadata": {
        "id": "A7tJVKnwgxCh"
      }
    },
    {
      "cell_type": "code",
      "execution_count": null,
      "metadata": {
        "id": "Z586UaTDf9bn"
      },
      "outputs": [],
      "source": [
        "import antigravity"
      ]
    },
    {
      "cell_type": "markdown",
      "source": [
        "2)"
      ],
      "metadata": {
        "id": "XyUEhJXdhqHP"
      }
    },
    {
      "cell_type": "code",
      "source": [
        "import __hello__"
      ],
      "metadata": {
        "colab": {
          "base_uri": "https://localhost:8080/"
        },
        "id": "E9bXQaaHiK5H",
        "outputId": "e7ee6cb8-2ef9-4d8a-8931-4764b192d02d"
      },
      "execution_count": null,
      "outputs": [
        {
          "output_type": "stream",
          "name": "stdout",
          "text": [
            "Hello world!\n"
          ]
        }
      ]
    },
    {
      "cell_type": "markdown",
      "source": [
        "3)"
      ],
      "metadata": {
        "id": "wrFaRLlhicc7"
      }
    },
    {
      "cell_type": "code",
      "source": [
        "from __future__ import braces"
      ],
      "metadata": {
        "id": "cotB7xCoidym"
      },
      "execution_count": null,
      "outputs": []
    },
    {
      "cell_type": "markdown",
      "source": [
        "4)"
      ],
      "metadata": {
        "id": "3kCjufXLk5sb"
      }
    },
    {
      "cell_type": "code",
      "source": [
        "from __future__ import barry_as_FLUFL\n",
        "print(1 <> 2)"
      ],
      "metadata": {
        "colab": {
          "base_uri": "https://localhost:8080/"
        },
        "id": "pTXkTxgVk6kL",
        "outputId": "dee0de1a-cdf7-43b9-c34f-2cb40152c4a5"
      },
      "execution_count": null,
      "outputs": [
        {
          "output_type": "stream",
          "name": "stdout",
          "text": [
            "True\n"
          ]
        }
      ]
    },
    {
      "cell_type": "markdown",
      "source": [
        "### Задание 1.2"
      ],
      "metadata": {
        "id": "nt1lyDlumQrs"
      }
    },
    {
      "cell_type": "code",
      "source": [
        "x = 42 #decimal\n",
        "print(x)\n",
        "\n",
        "x = 0b101010 #binary\n",
        "print(x)\n",
        "\n",
        "x = 0x2A #hexadecimal\n",
        "print(x)\n",
        "\n",
        "x = 0o52 #octal\n",
        "print(x)\n",
        "\n",
        "x = \"42\" #string\n",
        "print(int(x))\n",
        "\n",
        "x = [\"4\", \"2\"] #array\n",
        "print(int(\"\".join(x)))\n",
        "\n",
        "x = (\"4\", \"2\") #tuple\n",
        "print(int(\"\".join(x)))\n",
        "\n",
        "x = {\"ones\": 2, \"tens\": 4} #dictionary\n",
        "print(int(str(x['tens']) + str(x['ones'])))\n",
        "\n",
        "x = {\"42\"} #set\n",
        "print(int(\"\".join(x)))\n",
        "\n",
        "x = f\"{4}{2}\" #string format\n",
        "print(int(x))\n"
      ],
      "metadata": {
        "colab": {
          "base_uri": "https://localhost:8080/"
        },
        "id": "4R0YtfhOnI2l",
        "outputId": "ad75aa67-15ef-43d0-f37b-898e0c40ca61"
      },
      "execution_count": null,
      "outputs": [
        {
          "output_type": "stream",
          "name": "stdout",
          "text": [
            "42\n",
            "42\n",
            "42\n",
            "42\n",
            "42\n",
            "42\n",
            "42\n",
            "42\n",
            "42\n",
            "42\n"
          ]
        }
      ]
    },
    {
      "cell_type": "markdown",
      "source": [
        "### Задание 1.3"
      ],
      "metadata": {
        "id": "Kdi3UQePol3R"
      }
    },
    {
      "cell_type": "markdown",
      "source": [
        "В Python диапазон чисел зависит от типа данных. Числа с плавающей запятой могут иметь очень большие или очень маленькие значения. Самое большое используемое число с плавающей запятой - 1.7976931348623157e+308, а самое маленькое - 5e-324. Самое большое значение, которое можно получить до переполнения, - 9.223372036854776e+18."
      ],
      "metadata": {
        "id": "cA6AIsgkrtbs"
      }
    },
    {
      "cell_type": "markdown",
      "source": [
        "### Задание 1.4"
      ],
      "metadata": {
        "id": "hXRrHpNErm6t"
      }
    },
    {
      "cell_type": "markdown",
      "source": [
        "Функция divmod() - это встроенная функция в Python, которая возвращает одновременно частное и остаток от деления. Она принимает два аргумента, a и b, и возвращает кортеж из двух значений: (a // b, a % b)."
      ],
      "metadata": {
        "id": "Vn8EZY2Ns2si"
      }
    },
    {
      "cell_type": "code",
      "source": [
        "result = divmod(10, 3)\n",
        "print(result)"
      ],
      "metadata": {
        "colab": {
          "base_uri": "https://localhost:8080/"
        },
        "id": "biL6ae-OszYi",
        "outputId": "6a888ff2-ef6c-4050-cae6-cff9d9beb40c"
      },
      "execution_count": null,
      "outputs": [
        {
          "output_type": "stream",
          "name": "stdout",
          "text": [
            "(3, 1)\n"
          ]
        }
      ]
    },
    {
      "cell_type": "markdown",
      "source": [
        "### Задание 1.5"
      ],
      "metadata": {
        "id": "rgYQIwKbs-uR"
      }
    },
    {
      "cell_type": "code",
      "source": [
        "a = 10\n",
        "while a >= 0:\n",
        "    a -= 0.1"
      ],
      "metadata": {
        "id": "ouAUlCgWtaCZ"
      },
      "execution_count": null,
      "outputs": []
    },
    {
      "cell_type": "markdown",
      "source": [
        "### Задание 1.6"
      ],
      "metadata": {
        "id": "R39af40vtjt9"
      }
    },
    {
      "cell_type": "markdown",
      "source": [
        "Данная программа зависает, потому что результат выражения 2 ** z очень велик и не может быть представлен в допустимых границах целочисленного типа данных."
      ],
      "metadata": {
        "id": "ON7XElG6t4Qr"
      }
    },
    {
      "cell_type": "code",
      "source": [
        "z = 1\n",
        "z << 40\n",
        "result = 2.0 ** z\n",
        "print(result)"
      ],
      "metadata": {
        "colab": {
          "base_uri": "https://localhost:8080/"
        },
        "id": "ibfkN8k0uDlN",
        "outputId": "ea092509-4e65-4cb6-c77c-e09f07f9cd68"
      },
      "execution_count": null,
      "outputs": [
        {
          "output_type": "stream",
          "name": "stdout",
          "text": [
            "2.0\n"
          ]
        }
      ]
    },
    {
      "cell_type": "markdown",
      "source": [
        "### Задание 1.7"
      ],
      "metadata": {
        "id": "R2e6vg57vbgn"
      }
    },
    {
      "cell_type": "markdown",
      "source": [
        "Оператор ++i не является допустимым в Python, что приведет к ошибке синтаксиса."
      ],
      "metadata": {
        "id": "WQ_Fg08iv0Au"
      }
    },
    {
      "cell_type": "code",
      "source": [
        "i = 0\n",
        "while i < 10:\n",
        "    print(i)\n",
        "    i += 1"
      ],
      "metadata": {
        "colab": {
          "base_uri": "https://localhost:8080/"
        },
        "id": "aU6OVDrvvgvr",
        "outputId": "975d45b0-5898-4999-b161-86788ca5ceda"
      },
      "execution_count": null,
      "outputs": [
        {
          "output_type": "stream",
          "name": "stdout",
          "text": [
            "0\n",
            "1\n",
            "2\n",
            "3\n",
            "4\n",
            "5\n",
            "6\n",
            "7\n",
            "8\n",
            "9\n"
          ]
        }
      ]
    },
    {
      "cell_type": "markdown",
      "source": [
        "### Задание 1.8"
      ],
      "metadata": {
        "id": "wkMXBBomv2DP"
      }
    },
    {
      "cell_type": "markdown",
      "source": [
        "True = 1, False = 0"
      ],
      "metadata": {
        "id": "cE16PcXpwMnJ"
      }
    },
    {
      "cell_type": "code",
      "source": [
        "(True * 2 + False) * -True"
      ],
      "metadata": {
        "colab": {
          "base_uri": "https://localhost:8080/"
        },
        "id": "DjkpfRGjv_rr",
        "outputId": "73ff5029-c649-4660-d389-47d41d11deb5"
      },
      "execution_count": null,
      "outputs": [
        {
          "output_type": "execute_result",
          "data": {
            "text/plain": [
              "-2"
            ]
          },
          "metadata": {},
          "execution_count": 44
        }
      ]
    },
    {
      "cell_type": "markdown",
      "source": [
        "### Задание 1.9"
      ],
      "metadata": {
        "id": "koEPQ7-Qw8Ax"
      }
    },
    {
      "cell_type": "code",
      "source": [
        "x = 5\n",
        "1 < x < 10 # 5 > 1 & 5 < 10"
      ],
      "metadata": {
        "colab": {
          "base_uri": "https://localhost:8080/"
        },
        "id": "3_M9pJv7w93z",
        "outputId": "f21e2f12-5801-4370-e3d3-38291a8750b1"
      },
      "execution_count": null,
      "outputs": [
        {
          "output_type": "execute_result",
          "data": {
            "text/plain": [
              "True"
            ]
          },
          "metadata": {},
          "execution_count": 45
        }
      ]
    },
    {
      "cell_type": "code",
      "source": [
        "x = 5\n",
        "1 < (x < 10) # 5 < 10 = False = 0; 1 < 0 = False"
      ],
      "metadata": {
        "colab": {
          "base_uri": "https://localhost:8080/"
        },
        "id": "VJnNvPYgxHDo",
        "outputId": "58a874d6-3137-44ca-ce61-b90ea0f2c23d"
      },
      "execution_count": null,
      "outputs": [
        {
          "output_type": "execute_result",
          "data": {
            "text/plain": [
              "False"
            ]
          },
          "metadata": {},
          "execution_count": 47
        }
      ]
    },
    {
      "cell_type": "markdown",
      "source": [
        "##2. Сообщения об ошибках"
      ],
      "metadata": {
        "id": "C8xSiINexhpp"
      }
    },
    {
      "cell_type": "markdown",
      "source": [
        "### Задание 2.1"
      ],
      "metadata": {
        "id": "AUBEN54FxmYB"
      }
    },
    {
      "cell_type": "code",
      "source": [
        "x = 5\n",
        "y = 10\n",
        "print(\"Sum: \" x + y)"
      ],
      "metadata": {
        "colab": {
          "base_uri": "https://localhost:8080/",
          "height": 131
        },
        "id": "25eWzy2hx64_",
        "outputId": "f114ec38-b0de-438d-eb98-65128eceb07c"
      },
      "execution_count": null,
      "outputs": [
        {
          "output_type": "error",
          "ename": "SyntaxError",
          "evalue": "ignored",
          "traceback": [
            "\u001b[0;36m  File \u001b[0;32m\"<ipython-input-1-9d0a0b28e254>\"\u001b[0;36m, line \u001b[0;32m3\u001b[0m\n\u001b[0;31m    print(\"Sum: \" x + y)\u001b[0m\n\u001b[0m                  ^\u001b[0m\n\u001b[0;31mSyntaxError\u001b[0m\u001b[0;31m:\u001b[0m invalid syntax\n"
          ]
        }
      ]
    },
    {
      "cell_type": "code",
      "source": [
        "x = 5\n",
        "y = 10\n",
        "print(\"The sum of x and y is\", x + y)"
      ],
      "metadata": {
        "colab": {
          "base_uri": "https://localhost:8080/"
        },
        "id": "1RJQG-ygyfxk",
        "outputId": "1bda70e3-4201-4902-eceb-473167fc896a"
      },
      "execution_count": null,
      "outputs": [
        {
          "output_type": "stream",
          "name": "stdout",
          "text": [
            "The sum of x and y is 15\n"
          ]
        }
      ]
    },
    {
      "cell_type": "markdown",
      "source": [
        "### Задание 2.2"
      ],
      "metadata": {
        "id": "UPT1LBzvx4WZ"
      }
    },
    {
      "cell_type": "code",
      "source": [
        "\"hello\" = \"world\""
      ],
      "metadata": {
        "colab": {
          "base_uri": "https://localhost:8080/",
          "height": 131
        },
        "id": "uUusQjioytvI",
        "outputId": "02dd797c-5740-453e-ee14-03d5915d66bf"
      },
      "execution_count": null,
      "outputs": [
        {
          "output_type": "error",
          "ename": "SyntaxError",
          "evalue": "ignored",
          "traceback": [
            "\u001b[0;36m  File \u001b[0;32m\"<ipython-input-3-5792bc4df730>\"\u001b[0;36m, line \u001b[0;32m1\u001b[0m\n\u001b[0;31m    \"hello\" = \"world\"\u001b[0m\n\u001b[0m    ^\u001b[0m\n\u001b[0;31mSyntaxError\u001b[0m\u001b[0;31m:\u001b[0m cannot assign to literal\n"
          ]
        }
      ]
    },
    {
      "cell_type": "markdown",
      "source": [
        "### Задание 2.3"
      ],
      "metadata": {
        "id": "2y86xAKXx8TA"
      }
    },
    {
      "cell_type": "code",
      "source": [
        "print(l)"
      ],
      "metadata": {
        "colab": {
          "base_uri": "https://localhost:8080/",
          "height": 166
        },
        "id": "258IBKQzy4nB",
        "outputId": "42c44dbd-59c4-4a6d-8289-dfc8e51e73dc"
      },
      "execution_count": null,
      "outputs": [
        {
          "output_type": "error",
          "ename": "NameError",
          "evalue": "ignored",
          "traceback": [
            "\u001b[0;31m---------------------------------------------------------------------------\u001b[0m",
            "\u001b[0;31mNameError\u001b[0m                                 Traceback (most recent call last)",
            "\u001b[0;32m<ipython-input-4-e6f469464218>\u001b[0m in \u001b[0;36m<module>\u001b[0;34m\u001b[0m\n\u001b[0;32m----> 1\u001b[0;31m \u001b[0mprint\u001b[0m\u001b[0;34m(\u001b[0m\u001b[0ml\u001b[0m\u001b[0;34m)\u001b[0m\u001b[0;34m\u001b[0m\u001b[0;34m\u001b[0m\u001b[0m\n\u001b[0m",
            "\u001b[0;31mNameError\u001b[0m: name 'l' is not defined"
          ]
        }
      ]
    },
    {
      "cell_type": "markdown",
      "source": [
        "### Задание 2.4"
      ],
      "metadata": {
        "id": "zRmGuu2lx9Wd"
      }
    },
    {
      "cell_type": "code",
      "source": [
        "name = \"Tuann"
      ],
      "metadata": {
        "id": "ZgeAklIuzDvV"
      },
      "execution_count": null,
      "outputs": []
    },
    {
      "cell_type": "markdown",
      "source": [
        "### Задание 2.5"
      ],
      "metadata": {
        "id": "vIfzIXLMx-bN"
      }
    },
    {
      "cell_type": "code",
      "source": [
        "x = 5\n",
        "y = \"10\"\n",
        "z = x + y\n"
      ],
      "metadata": {
        "id": "9ZNYZcZ7zMf_"
      },
      "execution_count": null,
      "outputs": []
    },
    {
      "cell_type": "markdown",
      "source": [
        "### Задание 2.6"
      ],
      "metadata": {
        "id": "UVYURcD8x_nz"
      }
    },
    {
      "cell_type": "code",
      "source": [
        "def example_function():\n",
        "print(\"Hello, World!\")"
      ],
      "metadata": {
        "id": "wHVVuG6xzaqL"
      },
      "execution_count": null,
      "outputs": []
    },
    {
      "cell_type": "markdown",
      "source": [
        "### Задание 2.7"
      ],
      "metadata": {
        "id": "W9c-rKmdyAwt"
      }
    },
    {
      "cell_type": "code",
      "source": [
        "def example_function():\n",
        "    print(\"Hello, World!\")\n",
        "  print(\"Goodbye, World!\")"
      ],
      "metadata": {
        "id": "NMV2Gf68zlYt"
      },
      "execution_count": null,
      "outputs": []
    },
    {
      "cell_type": "markdown",
      "source": [
        "### Задание 2.8"
      ],
      "metadata": {
        "id": "sTGWcJDKyBxC"
      }
    },
    {
      "cell_type": "code",
      "source": [
        "import math\n",
        "x = -10\n",
        "y = math.sqrt(x)"
      ],
      "metadata": {
        "id": "e_DbMd--zusm"
      },
      "execution_count": null,
      "outputs": []
    },
    {
      "cell_type": "markdown",
      "source": [
        "### Задание 2.9"
      ],
      "metadata": {
        "id": "qVXne1v-yCze"
      }
    },
    {
      "cell_type": "code",
      "source": [
        "import math\n",
        "x = 10 ** 500\n",
        "y = math.exp(x)\n"
      ],
      "metadata": {
        "id": "LVr6IRZuz6PP"
      },
      "execution_count": null,
      "outputs": []
    },
    {
      "cell_type": "markdown",
      "source": [
        "##3. Арифметика"
      ],
      "metadata": {
        "id": "lVn7QHsYN_rB"
      }
    },
    {
      "cell_type": "markdown",
      "source": [
        "### Задание 3.1"
      ],
      "metadata": {
        "id": "ky3ivOXGOGKc"
      }
    },
    {
      "cell_type": "code",
      "source": [
        "def multiply_by_12(x):\n",
        "  result = 0\n",
        "  for i in range(3):\n",
        "      result += x + x + x + x\n",
        "  return result\n",
        "\n",
        "print(multiply_by_12(1))\n",
        "print(multiply_by_12(2))\n",
        "print(multiply_by_12(3))"
      ],
      "metadata": {
        "colab": {
          "base_uri": "https://localhost:8080/"
        },
        "id": "IS0fBPrvUdUP",
        "outputId": "b3c98b9a-1424-43f2-d9d8-523d3655f562"
      },
      "execution_count": null,
      "outputs": [
        {
          "output_type": "stream",
          "name": "stdout",
          "text": [
            "12\n",
            "24\n",
            "36\n"
          ]
        }
      ]
    },
    {
      "cell_type": "markdown",
      "source": [
        "### Задание 3.2"
      ],
      "metadata": {
        "id": "m8wya4V3OWO5"
      }
    },
    {
      "cell_type": "code",
      "source": [
        "def multiply_by_16(x):\n",
        "  result = 0\n",
        "  for i in range(4):\n",
        "      result += x + x + x + x\n",
        "  return result\n",
        "\n",
        "print(multiply_by_16(1))\n",
        "print(multiply_by_16(2))\n",
        "print(multiply_by_16(3))"
      ],
      "metadata": {
        "colab": {
          "base_uri": "https://localhost:8080/"
        },
        "id": "7s4OA-e5Hj4A",
        "outputId": "ce42c4c2-7c60-42e8-8ebd-890371878638"
      },
      "execution_count": null,
      "outputs": [
        {
          "output_type": "stream",
          "name": "stdout",
          "text": [
            "16\n",
            "32\n",
            "48\n"
          ]
        }
      ]
    },
    {
      "cell_type": "markdown",
      "source": [
        "### Задание 3.3"
      ],
      "metadata": {
        "id": "Q3SgHyLsOXwG"
      }
    },
    {
      "cell_type": "code",
      "source": [
        "def multiply_by_15(x):\n",
        "  result = 0\n",
        "  for i in range(15):\n",
        "    result += x + x + x - x - x\n",
        "  return result\n",
        "\n",
        "print(multiply_by_15(1))\n",
        "print(multiply_by_15(2))\n",
        "print(multiply_by_15(3))"
      ],
      "metadata": {
        "colab": {
          "base_uri": "https://localhost:8080/"
        },
        "id": "Re4bi3RGH5sy",
        "outputId": "a8e4a207-d9a7-4feb-e7b8-ef217e82baae"
      },
      "execution_count": null,
      "outputs": [
        {
          "output_type": "stream",
          "name": "stdout",
          "text": [
            "15\n",
            "30\n",
            "45\n"
          ]
        }
      ]
    },
    {
      "cell_type": "markdown",
      "source": [
        "### Задание 3.4"
      ],
      "metadata": {
        "id": "pO0O5sADOZJm"
      }
    },
    {
      "cell_type": "code",
      "source": [
        "import random\n",
        "\n",
        "def naive_mul(x, y):\n",
        "  r = x\n",
        "  for i in range(0, y - 1):\n",
        "      x = x + r\n",
        "  return x\n",
        "\n",
        "def test():\n",
        "    for _ in range(1000):\n",
        "        a = random.randint(0, 1000)\n",
        "        b = random.randint(0, 1000)\n",
        "        expected = a * b\n",
        "        result = naive_mul(a, b)\n",
        "        assert result == expected, f\"naive_mul({a}, {b}) = {result}; expected {expected}\"\n",
        "\n",
        "test()"
      ],
      "metadata": {
        "id": "EtmxYpydJNEO"
      },
      "execution_count": null,
      "outputs": []
    },
    {
      "cell_type": "markdown",
      "source": [
        "### Задание 3.5"
      ],
      "metadata": {
        "id": "13o5hDPCOZwX"
      }
    },
    {
      "cell_type": "code",
      "source": [
        "def fast_mul(x, y):\n",
        "    result = 0\n",
        "\n",
        "    while y > 0:\n",
        "        if y % 2 == 1:\n",
        "            result += x\n",
        "        x = x << 1\n",
        "        y = y >> 1\n",
        "    return result\n",
        "\n",
        "def test():\n",
        "    for _ in range(1000):\n",
        "        a = random.randint(0, 1000)\n",
        "        b = random.randint(0, 1000)\n",
        "        expected = a * b\n",
        "        result = fast_mul(a, b)\n",
        "        assert result == expected, f\"fast_mul({a}, {b}) = {result}; expected {expected}\"\n",
        "\n",
        "test()"
      ],
      "metadata": {
        "id": "mH5c7lYK6WCx"
      },
      "execution_count": null,
      "outputs": []
    },
    {
      "cell_type": "markdown",
      "source": [
        "### Задание 3.6"
      ],
      "metadata": {
        "id": "iPzNsufZOaaY"
      }
    },
    {
      "cell_type": "code",
      "source": [
        "def fast_pow(x, y):\n",
        "    result = 1\n",
        "    while y > 0:\n",
        "        if y % 2 == 1:\n",
        "            result *= x\n",
        "        x *= x\n",
        "        y = y >> 1\n",
        "    return result\n",
        "\n",
        "\n",
        "def test():\n",
        "    for _ in range(1000):\n",
        "        a = random.randint(0, 1000)\n",
        "        b = random.randint(0, 1000)\n",
        "        expected = a ** b\n",
        "        result = fast_pow(a, b)\n",
        "        assert result == expected, f\"fast_pow({a}, {b}) = {result}; expected {expected}\"\n",
        "\n",
        "test()"
      ],
      "metadata": {
        "id": "lfs0L9Vj7COw"
      },
      "execution_count": null,
      "outputs": []
    },
    {
      "cell_type": "markdown",
      "source": [
        "### Задание 3.7"
      ],
      "metadata": {
        "id": "XQTon1j4ObZb"
      }
    },
    {
      "cell_type": "code",
      "source": [
        "def mul_bits(x, y, bits):\n",
        "    x &= (2 ** bits - 1)\n",
        "    y &= (2 ** bits - 1)\n",
        "    return x * y\n",
        "\n",
        "\n",
        "def mul16(x, y):\n",
        "    x_high = x >> 8\n",
        "    x_low = x & 0xFF\n",
        "    y_high = y >> 8\n",
        "    y_low = y & 0xFF\n",
        "\n",
        "    prod_high = mul_bits(x_high, y_high, 8)\n",
        "    prod_mid_high = mul_bits(x_high, y_low, 8)\n",
        "    prod_mid_low = mul_bits(x_low, y_high, 8)\n",
        "    prod_low = mul_bits(x_low, y_low, 8)\n",
        "\n",
        "    prod = (prod_high << 16) + (prod_mid_high << 8) + (prod_mid_low << 8) + prod_low\n",
        "    return prod\n",
        "\n",
        "\n",
        "print(mul16(2, 3))\n"
      ],
      "metadata": {
        "colab": {
          "base_uri": "https://localhost:8080/"
        },
        "id": "lLQkL1Coiknj",
        "outputId": "2d52180c-e852-4d04-8b1c-96fc7b10fb5c"
      },
      "execution_count": null,
      "outputs": [
        {
          "output_type": "stream",
          "name": "stdout",
          "text": [
            "6\n"
          ]
        }
      ]
    },
    {
      "cell_type": "markdown",
      "source": [
        "### Задание 3.8"
      ],
      "metadata": {
        "id": "IbIsU1orOcum"
      }
    },
    {
      "cell_type": "code",
      "source": [
        "def mul_bits(x, y, bits):\n",
        "    x &= (2 ** bits - 1)\n",
        "    y &= (2 ** bits - 1)\n",
        "    return x * y\n",
        "\n",
        "\n",
        "def mul16k(x, y):\n",
        "    x_high = x >> 8\n",
        "    x_low = x & 0xFF\n",
        "    y_high = y >> 8\n",
        "    y_low = y & 0xFF\n",
        "\n",
        "    z0 = mul_bits(x_low, y_low, 8)\n",
        "    z2 = mul_bits(x_high, y_high, 8)\n",
        "    z1 = mul_bits(x_low + x_high, y_low + y_high, 8) - z0 - z2\n",
        "\n",
        "    prod = (z2 << 16) + (z1 << 8) + z0\n",
        "    return prod\n",
        "\n",
        "\n",
        "print(mul16k(2, 3))\n"
      ],
      "metadata": {
        "colab": {
          "base_uri": "https://localhost:8080/"
        },
        "id": "d3KspJXqkwiF",
        "outputId": "aa60d4be-319b-469d-e99f-c7dc54146379"
      },
      "execution_count": null,
      "outputs": [
        {
          "output_type": "stream",
          "name": "stdout",
          "text": [
            "6\n"
          ]
        }
      ]
    },
    {
      "cell_type": "markdown",
      "source": [
        "### Задание 3.9"
      ],
      "metadata": {
        "id": "VnaPgwsROdt1"
      }
    },
    {
      "cell_type": "markdown",
      "source": [
        "### Задание 3.10"
      ],
      "metadata": {
        "id": "llt1bUkvOe-H"
      }
    },
    {
      "cell_type": "markdown",
      "source": [
        "## 4. Пиксельные шейдеры"
      ],
      "metadata": {
        "id": "WYlY2xZpOqjm"
      }
    },
    {
      "cell_type": "markdown",
      "source": [
        "### Задание 4.1"
      ],
      "metadata": {
        "id": "4h0wqWqPPQIz"
      }
    },
    {
      "cell_type": "code",
      "source": [
        "import math\n",
        "import tkinter as tk\n",
        "\n",
        "\n",
        "def pyshader(func, w, h):\n",
        "    scr = bytearray((0, 0, 0) * w * h)\n",
        "    for y in range(h):\n",
        "        for x in range(w):\n",
        "            p = (w * y + x) * 3\n",
        "            scr[p:p + 3] = [max(min(int(c * 255), 255), 0)\n",
        "                            for c in func(x / w, y / h)]\n",
        "    return bytes('P6\\n%d %d\\n255\\n' % (w, h), 'ascii') + scr\n",
        "\n",
        "\n",
        "# Ваш код здесь:\n",
        "def func(x, y):\n",
        "    size = 0.7\n",
        "    left = 0.5 - size / 2\n",
        "    right = 0.5 + size / 2\n",
        "    top = 0.5 - size / 2\n",
        "    bottom = 0.5 + size / 2\n",
        "    if left < x < right and bottom > y > top:\n",
        "        return 0, 0, 0\n",
        "    return 1, 1, 1\n",
        "\n",
        "\n",
        "label = tk.Label()\n",
        "img = tk.PhotoImage(data=pyshader(func, 256, 256)).zoom(2, 2)\n",
        "label.pack()\n",
        "label.config(image=img)\n",
        "tk.mainloop()\n"
      ],
      "metadata": {
        "id": "QQvaWAVoTTMF"
      },
      "execution_count": null,
      "outputs": []
    },
    {
      "cell_type": "markdown",
      "source": [
        "### Задание 4.2"
      ],
      "metadata": {
        "id": "osbEGNewQJim"
      }
    },
    {
      "cell_type": "code",
      "source": [
        "import math\n",
        "import tkinter as tk\n",
        "\n",
        "\n",
        "def pyshader(func, w, h):\n",
        "    scr = bytearray((0, 0, 0) * w * h)\n",
        "    for y in range(h):\n",
        "        for x in range(w):\n",
        "            p = (w * y + x) * 3\n",
        "            scr[p:p + 3] = [max(min(int(c * 255), 255), 0)\n",
        "                            for c in func(x / w, y / h)]\n",
        "    return bytes('P6\\n%d %d\\n255\\n' % (w, h), 'ascii') + scr\n",
        "\n",
        "\n",
        "# Ваш код здесь:\n",
        "def func(x, y):\n",
        "    green = math.sqrt((x - 0.46) ** 2 + (y - 0.46) ** 2)\n",
        "    red = math.sqrt((x - 0.50) ** 2 + (y - 0.50) ** 2)\n",
        "    return 1 - 9 * red ** 2, 1 - 9 * green ** 2, 0\n",
        "\n",
        "\n",
        "label = tk.Label()\n",
        "img = tk.PhotoImage(data=pyshader(func, 256, 256)).zoom(2, 2)\n",
        "label.pack()\n",
        "label.config(image=img)\n",
        "tk.mainloop()\n"
      ],
      "metadata": {
        "id": "BKpSrKSYmigm"
      },
      "execution_count": null,
      "outputs": []
    },
    {
      "cell_type": "markdown",
      "source": [
        "### Задание 4.3"
      ],
      "metadata": {
        "id": "67n7EcalQKqP"
      }
    },
    {
      "cell_type": "code",
      "source": [
        "import math\n",
        "import tkinter as tk\n",
        "\n",
        "\n",
        "def pyshader(func, w, h):\n",
        "    scr = bytearray((0, 0, 0) * w * h)\n",
        "    for y in range(h):\n",
        "        for x in range(w):\n",
        "            p = (w * y + x) * 3\n",
        "            scr[p:p + 3] = [max(min(int(c * 255), 255), 0)\n",
        "                            for c in func(x / w, y / h)]\n",
        "    return bytes('P6\\n%d %d\\n255\\n' % (w, h), 'ascii') + scr\n",
        "\n",
        "\n",
        "# Ваш код здесь:\n",
        "def func(x, y):\n",
        "    cx, cy = 0.5, 0.5\n",
        "    r = 0.4\n",
        "    angle = math.pi / 0.6\n",
        "    start_angle = -angle / 10\n",
        "    end_angle = math.pi - angle / 2\n",
        "\n",
        "    in_circle = (x - cx) ** 2 + (y - cy) ** 2 <= r ** 2\n",
        "\n",
        "    in_eye = (x - 0.6)**2 + (y - 0.3)**2 <= 0.07**2\n",
        "\n",
        "    in_arc = start_angle <= math.atan2(y - cy, x - cx) <= end_angle\n",
        "\n",
        "    if in_circle and not in_arc and not in_eye:\n",
        "        return 1, 1, 0\n",
        "    else:\n",
        "        return 0, 0, 0\n",
        "\n",
        "\n",
        "label = tk.Label()\n",
        "img = tk.PhotoImage(data=pyshader(func, 256, 256)).zoom(2, 2)\n",
        "label.pack()\n",
        "label.config(image=img)\n",
        "tk.mainloop()\n"
      ],
      "metadata": {
        "id": "6qlnNG9wVjBL"
      },
      "execution_count": null,
      "outputs": []
    },
    {
      "cell_type": "markdown",
      "source": [
        "### Задание 4.4"
      ],
      "metadata": {
        "id": "bBwwJHtoQLnL"
      }
    },
    {
      "cell_type": "code",
      "source": [
        "import math\n",
        "import tkinter as tk\n",
        "\n",
        "\n",
        "def pyshader(func, w, h):\n",
        "    scr = bytearray((0, 0, 0) * w * h)\n",
        "    for y in range(h):\n",
        "        for x in range(w):\n",
        "            p = (w * y + x) * 3\n",
        "            scr[p:p + 3] = [max(min(int(c * 255), 255), 0)\n",
        "                            for c in func(x / w, y / h)]\n",
        "    return bytes('P6\\n%d %d\\n255\\n' % (w, h), 'ascii') + scr\n",
        "\n",
        "\n",
        "# Ваш код здесь:\n",
        "def noise(x, y):\n",
        "    # применяем хэш-функцию к координатам\n",
        "    h = hash((x, y))\n",
        "    # используем полученное число для создания шума\n",
        "    noise_val = (h % 10000) / 10000.0\n",
        "    # применяем к шуму некоторые преобразования для улучшения качества\n",
        "    noise_val = 0.5 + 0.5 * math.sin(noise_val * 2 * math.pi * 10)\n",
        "    return noise_val, noise_val, noise_val\n",
        "\n",
        "\n",
        "\n",
        "def func(x, y):\n",
        "    return noise(x, y)\n",
        "\n",
        "\n",
        "\n",
        "label = tk.Label()\n",
        "img = tk.PhotoImage(data=pyshader(func, 256, 256)).zoom(2, 2)\n",
        "label.pack()\n",
        "label.config(image=img)\n",
        "tk.mainloop()\n"
      ],
      "metadata": {
        "id": "fOzbjtwH1PE2"
      },
      "execution_count": null,
      "outputs": []
    },
    {
      "cell_type": "markdown",
      "source": [
        "### Задание 4.5"
      ],
      "metadata": {
        "id": "y7z9YJlPQMmN"
      }
    },
    {
      "cell_type": "code",
      "source": [
        "import math\n",
        "import tkinter as tk\n",
        "\n",
        "\n",
        "def pyshader(func, w, h):\n",
        "    scr = bytearray((0, 0, 0) * w * h)\n",
        "    for y in range(h):\n",
        "        for x in range(w):\n",
        "            p = (w * y + x) * 3\n",
        "            scr[p:p + 3] = [max(min(int(c * 255), 255), 0)\n",
        "                            for c in func(x / w, y / h)]\n",
        "    return bytes('P6\\n%d %d\\n255\\n' % (w, h), 'ascii') + scr\n",
        "\n",
        "\n",
        "# Ваш код здесь:\n",
        "import hashlib\n",
        "\n",
        "\n",
        "def noise(x, y):\n",
        "    h = hash((x, y))\n",
        "    noise_val = (h % 10000) / 10000.0\n",
        "    noise_val = 0.5 + 0.5 * math.sin(noise_val * 2 * math.pi * 10)\n",
        "    return noise_val, noise_val, noise_val\n",
        "\n",
        "def val_noise(x, y):\n",
        "    cell_x = int(x)\n",
        "    cell_y = int(y)\n",
        "    dx = x - cell_x\n",
        "    dy = y - cell_y\n",
        "\n",
        "    corners = []\n",
        "    for j in range(2):\n",
        "        for i in range(2):\n",
        "            corner_x = cell_x + i\n",
        "            corner_y = cell_y + j\n",
        "            corners.append(noise(corner_x, corner_y))\n",
        "\n",
        "    interp_x1 = corners[0][0] * (1 - dx) + corners[1][0] * dx\n",
        "    interp_x2 = corners[2][0] * (1 - dx) + corners[3][0] * dx\n",
        "    interp_val = interp_x1 * (1 - dy) + interp_x2 * dy\n",
        "\n",
        "    return interp_val, interp_val, interp_val\n",
        "\n",
        "\n",
        "def func(x, y):\n",
        "    return val_noise(x * 30, y * 30)\n",
        "\n",
        "\n",
        "\n",
        "label = tk.Label()\n",
        "img = tk.PhotoImage(data=pyshader(func, 256, 256)).zoom(2, 2)\n",
        "label.pack()\n",
        "label.config(image=img)\n",
        "tk.mainloop()\n"
      ],
      "metadata": {
        "id": "8D-YkN_033W_"
      },
      "execution_count": null,
      "outputs": []
    },
    {
      "cell_type": "markdown",
      "source": [
        "### Задание 4.6"
      ],
      "metadata": {
        "id": "n40vQI2GQNk8"
      }
    },
    {
      "cell_type": "code",
      "source": [
        "import math\n",
        "import tkinter as tk\n",
        "\n",
        "\n",
        "def pyshader(func, w, h):\n",
        "    scr = bytearray((0, 0, 0) * w * h)\n",
        "    for y in range(h):\n",
        "        for x in range(w):\n",
        "            p = (w * y + x) * 3\n",
        "            scr[p:p + 3] = [max(min(int(c * 255), 255), 0)\n",
        "                            for c in func(x / w, y / h)]\n",
        "    return bytes('P6\\n%d %d\\n255\\n' % (w, h), 'ascii') + scr\n",
        "\n",
        "\n",
        "# Ваш код здесь:\n",
        "def noise(x, y):\n",
        "    h = hash((x, y))\n",
        "    noise_val = (h % 10000) / 10000.0\n",
        "    noise_val = 0.5 + 0.5 * math.sin(noise_val * 2 * math.pi * 10)\n",
        "    return noise_val, noise_val, noise_val\n",
        "\n",
        "def val_noise(x, y):\n",
        "    cell_x = int(x)\n",
        "    cell_y = int(y)\n",
        "    dx = x - cell_x\n",
        "    dy = y - cell_y\n",
        "\n",
        "    corners = []\n",
        "    for j in range(2):\n",
        "        for i in range(2):\n",
        "            corner_x = cell_x + i\n",
        "            corner_y = cell_y + j\n",
        "            corners.append(noise(corner_x, corner_y))\n",
        "\n",
        "    interp_x1 = corners[0][0] * (1 - dx) + corners[1][0] * dx\n",
        "    interp_x2 = corners[2][0] * (1 - dx) + corners[3][0] * dx\n",
        "    interp_val = interp_x1 * (1 - dy) + interp_x2 * dy\n",
        "\n",
        "    return interp_val, interp_val, interp_val\n",
        "\n",
        "\n",
        "def fractal_noise(x, y):\n",
        "    octaves = 8\n",
        "    persistence = 0.5\n",
        "    lacunarity = 2.0\n",
        "\n",
        "    frequency = 1.0\n",
        "    amplitude = 1.0\n",
        "    noise_val = 0.0\n",
        "\n",
        "    for i in range(octaves):\n",
        "        octave_val = val_noise(x * frequency, y * frequency)\n",
        "        noise_val += octave_val[0] * amplitude\n",
        "\n",
        "        frequency *= lacunarity\n",
        "        amplitude *= persistence\n",
        "\n",
        "    noise_val += (1 - noise_val) * 0.3\n",
        "\n",
        "    return noise_val, noise_val, noise_val\n",
        "\n",
        "\n",
        "def func(x, y):\n",
        "    return 0.5 * (1.0 - y) + 0.5 * val_noise(x * 15, y * 15)[0], 0.5 * (1.0 - y) + 0.5 * val_noise(x * 15, y * 15)[1], 1.0\n",
        "\n",
        "\n",
        "label = tk.Label()\n",
        "img = tk.PhotoImage(data=pyshader(func, 256, 256)).zoom(2, 2)\n",
        "label.pack()\n",
        "label.config(image=img)\n",
        "tk.mainloop()\n"
      ],
      "metadata": {
        "id": "7TT1rBlBmo5p"
      },
      "execution_count": null,
      "outputs": []
    },
    {
      "cell_type": "markdown",
      "source": [
        "### Задание 4.7"
      ],
      "metadata": {
        "id": "1-1SwbKsQOZj"
      }
    },
    {
      "cell_type": "code",
      "source": [
        "import math\n",
        "import tkinter as tk\n",
        "import random\n",
        "\n",
        "def pyshader(func, w, h):\n",
        "    scr = bytearray((0, 0, 0) * w * h)\n",
        "    for y in range(h):\n",
        "        for x in range(w):\n",
        "            p = (w * y + x) * 3\n",
        "            scr[p:p + 3] = [max(min(int(c * 255), 255), 0)\n",
        "                            for c in func(x / w, y / h, t)]\n",
        "    return bytes('P6\\n%d %d\\n255\\n' % (w, h), 'ascii') + scr\n",
        "\n",
        "def func(x, y, t):\n",
        "    m = random.random()\n",
        "    n = random.random()\n",
        "    return m, n, 0\n",
        "\n",
        "root = tk.Tk()\n",
        "label = tk.Label(root)\n",
        "label.pack()\n",
        "\n",
        "t = 0\n",
        "def update():\n",
        "    global t\n",
        "    img = tk.PhotoImage(data=pyshader(func, 512, 512))\n",
        "    label.config(image=img)\n",
        "    label.image = img\n",
        "    t += 0.01\n",
        "    root.after(20, update)\n",
        "\n",
        "update()\n",
        "root.mainloop()"
      ],
      "metadata": {
        "id": "MDYCwET8w6bt"
      },
      "execution_count": null,
      "outputs": []
    },
    {
      "cell_type": "markdown",
      "source": [
        "# Практическое занятие №2"
      ],
      "metadata": {
        "id": "2LBpXH7MfeZp"
      }
    },
    {
      "cell_type": "markdown",
      "source": [
        "## 1. Форматирование кода"
      ],
      "metadata": {
        "id": "2Kzz6M18fisR"
      }
    },
    {
      "cell_type": "markdown",
      "source": [
        "### 1.1. E211 whitespace before '('"
      ],
      "metadata": {
        "id": "lQcSBPzUfqUB"
      }
    },
    {
      "cell_type": "code",
      "source": [
        "print (\"Have a good day!\")"
      ],
      "metadata": {
        "id": "UJ2onkc4he18"
      },
      "execution_count": null,
      "outputs": []
    },
    {
      "cell_type": "markdown",
      "source": [
        "![Screenshot 2023-02-26 153057.png](data:image/png;base64,iVBORw0KGgoAAAANSUhEUgAABV4AAAF1CAYAAAAQmfFtAAAAAXNSR0IArs4c6QAAAARnQU1BAACxjwv8YQUAAAAJcEhZcwAAFiUAABYlAUlSJPAAAJRrSURBVHhe7f09jyJL1Oh7rj3HP2OM80hUq9XmHYw2UV21UWWMM8LEKIP6BODhUN71CgcPxhlrVBhloLGwRkeijR6VkI7TBsZcp9Xqxnh0dNzr7okFmeTKrHyDDN6K/6/F3lVQJBlBZCSxWBnxz9evX//9+fOnAAAAAAAAAAD8+D8F/wcAAAAAAAAAeELgFQAAAAAAAAA8I/AKAAAAAAAAAJ4ReAUAAAAAAAAAzwi8AgAAAAAAAIBnBF4BAAAAAAAAwDMCrwAAAAAAAADgGYFXAAAAAAAAAPCMwCsAAAAAAAAAeEbgFQAAAAAAAAA8I/AKAAAAAAAAAJ4ReAUAAAAAAAAAzwi8AgAAAAAAAIBnBF4BAAAAAAAAwDMCrwAAAAAAAADgGYFXAAAAAAAAAPCMwCsAAAAAAAAAeEbgFQAAAAAAAAA8I/AKAAAAAAAAAJ4ReAUAAAAAAAAAzwi8AgAAAAAAAIBnBF4BAAByDOYic70Ngjv2UO8E26i4HQAAAACXg8ArAABAlqZII/hx+hL8AAAAAAAl/PP169d/f/78Gfyaou5uj+4WjjpCK3d7dbfZ+rd8btAi39ztxt1qekdAt/HX3XQgs9Q79tBxt1t3S9vuD3crs38+yhjyuS2Vtb2Fu1WpNwAASqm70/ijPLiTeC1xsl25k+2bO9l+dye33U9HHZlIK9jiQobS3/kUeQydiUhLd9Kdd+/7m/v2oRmvo1bwS8VtAQAAALgM+RmveincyN2SQT+lg5Ceu7kBSS59XP9Ot2HHa0p/1/v1NTSAugsN5s7dTQcxWdvV19XAZR4fZQz53Jbut/5t1vb2rTcAAEqquxPbxJ1seu6kEw+6Kr2n4U7DD3IX3FNe3Z2+wqDrGXOfNdZBV4dsVwAAAAC7yg68akAvDPhptmbX3e6D29DdQjogKRP80wxNuw29Td0tpAHUskFEDbpqEDOk+2O3q69jt53FZxl9bkuDrhpUDUekWha7Pf1ZX0NpvWl9AADgkQZdR+uAq1q503jX/bvf/uu6k9vU3RuejnZRl6f16evcdR6CH1whv3OFCQAAAIAdZU81oNmkSkdU7c2PMWFwUGX9jdKgYN61gxqEtKMvDSrmDW7s66qiv8/jq4zK17aSf/fsblnl04xYHRFrUDt5yWK4P1l027tMx6DZvGmZt3mK6kzLqmlSyakilD5Xvbnbb3dL20cbgE+rA8u2Mw1kjzc/7lWuNHmvr6+dNh2Gli3cjzzJYyTLLtv0rWoZk5LHuX55kddO7ftY1BbShMeLfa7dZtHrq7RtWL6OoeQXT2XZMhyj3e+pvs6vjBrSQu4LXmLgqj4qzMqdFNqxTjP+eFlpr9t0Wwqr/v3rJGlG5yg4dIdua8UdrT7j0R1IyQv69dW0KehF/X/ku/u3XL9ytD/7XaYfPT9t/w45DYDddugMpxpwx9o8eMMX7vjpV9w5phoAAAAArk96xqvNoNTASRod9elIUMVHT3FFAxUNyoTbUUXXKz4F/1dVgq4+y+hzW7Z8GnDJK5/OGav2CaDoPujzdFCpASNbhmPQQJ0G1nQQmlYfep/e9HHdRw3E7UvLZga7RwtM6utq3aaVMSybPq514YPd5rHez0OVMdkP6BzReewlwLseD3bfuJT47DQKGnNzrw6wuprrrH0dupvL+efrMG3aBf36auFF/S33uuHh8St28tzfym0pzk4DsJKp14BofNt+SnAYNtv15awiwgAAAAAuRf4cr0U0Y9IHu51Pwf/T6Pg7HJFqAG3foOsufJVRFW3Llk+Dykn6uGa5aiBLb+GgUOUFJsMpCuxUBZr9Zke8GtwsG0XQ5ya3mXbLynbV19GAnNJ90P1JPlfv08zUqqNyrZcgY2m9rWSGkf6efG17s9IeD2/J7WoZw9dVyTrT30NaF2XrXuvEbsduL/l+VglWl3GoMqqwfYSKYmv2iw21y2tppq7S5x+jT1HJusq6pR1DGgBK+1sr7XEbODpUuz+Ibzmh106sG0zXd7ua/Ddcn0I2NNPSPrb5V1y0mmum+UHhYrpolWb4hpfzazOcuv2xF/TrJf3hRf1xy+1J5UY+Bz+VV98+5++7hv9oDsFXr99V2SkGFvKc+V3lybn+8zZ4Uxavx+saAAAAAHwsxYHXMCiRJgyGJEeDh2Kz3vQSeV98lrHKtsIIgj6eHOXppcEa5ApH58r+vAvdtgZhNKhj58LV0XDVOEIZ4ahbA11ZWb16n4729XEN8Ow76rWXq2cFgn3TOrSBQw0iJ7OlwuBZqGrdh++ntftqN+Udsoz2b+yxUhRMtRGcvOPQ0uB0eBydbQTo2jUyE57r7o3evH2nypzsrbvmfTVdB9WLhVzv3WE8dodOvMPTiQVm7v5NCPlZvgf3i/wJyl3L/c4y3ZfgOSu3lTibRbx4d2BX0ZGnbXl1YoHz1XwMugZXwbtkuzZdPzWZiMznwc39PKjStwMAAAC4aOmBVzvI0JFH2sjSBkGqXp57E/xfJUeAls16qzoW9FlGH9uyAaBkUFmfG5bdZsrZoOm+NLhpg1vF6WPV2AHooQNdmh0c0sDgsdg61PcrL2hss0Jt9ui+bJsoG3zcx75lLNO+wiibtkt7rBSVx6bl6bFUJtjxGPxfHWsKCpS02HZN6dMN1OUu6DRXrjPxeXHCLhquw98vrjYwh7wGXTXkWsZmftekm/VJxGq6V5gH/yaxU9DG5+DU+3c9jXakaQLdC4/fcdopBjTLuOpJ/IBcVT4E59zS2a7uOZO568ZbrvsJz+XK/dxwb7QGYL8EdwEAAAC4HtkZrzZYogMQDWKF4zodwYXZbhroKTUqyWEHKfERYMSOKW1qk+6L7lt4+b3+/H6Emc5nGatuy2YnJsej4XP1NexjUdpTNTa4pe/FR8jO0eB32K603qq20bK07mx7Loot6OO2PV9C3VcpY1H70mMm/JJBIz76vtnn2n4gjf0SoWheWBW+ln0ezsQPE/RLm27gLojFa9g168RxKDbDtiEPhQ0zSYOiYePTrT3vGff/vQ04196F9cLAqqq5ukru46fgMP6TmOHVPi98TKdE2MxDG/2buHuapUsen2LgzBbRSthmuzo/yuyoq4TJKHrOyvUn3XuRe7113SlI+xf3oAZlAQAAAFyX7MCrDjZs9pyOKPSybQ0o2kBg1SwxGyTVkWzWICc5ptTRngZadV/C0Y7Sn/U+G/jM4rOMVbcVXieaDACF9ZNXN1XZ4JYqE7DyQeul7Kh9F1pnYUxD35ND1VsaW3dlg3k28/dYdV/FIcuY9gWEfa7NUE1j0/OiuFY62/f4S+uDRzN3AG+6pvfTDUTTDLx5+w6qvDd5No1/94W2vpnmuZDXvb8Z+mUuEvmc6E7DwOpGMjBb34ZXfydePf48PVB0Ftqe2+P4/brYV889Uibj93KmGNBKDLNdV+78Ueb00XnanPKVPqftCritU/fDzP3eded/e5oFAAAAcB3y53jVIKENJqpwdOEjoKWjxDAoqZ6D/6dJrhwSzt2pwczw0nu9nDwc2eh+hn+Tx2cZq2wrHAMnp1oIA7Jpl+X7vG7RXqcbpTv5p3VgR5/6Hml2qq8ArEYAwjalcZEyQXOfbN3lTZth2WS9qnVvL8c/1FQOhyyjfe9CNqpWFExNtq+8aFhYV/r3VfsyHMj3bTNuuDcz6ibsNAPf9w5bVvNiuntdaMvuXz47h6pG/fdvfktzaH2KnRLir6Higdkv2/qL57tGAVl1u85Trbm/WrgTbLTcl12cTMOvecHXC5piwLHZrq9lzh+u4K3wCU7Wc5au2M/JzwcAAAAAPrz8wKsGxGxg1NL70+Yy3YUNjOqApOzoORzkJBf00efrAkM28FK0jz7LeIj6ygtS+ZyPtWwAzYdkgF3jA9oWNINZA2X7BmH1eeGkidoGTpFWZQbgsWBjHhv3sM/fldadff6hgs6HKqON3NgMVD2ubSC2KL3OBpyz5oXVthLux6EC1PBgKd+3HfqtSYi20wycJuyq+zZ2J67odNMqTMjeqMe+R0wGPnf1a7sHN2a70WtEkyLY+ose/5tbfzX3bzP/bD/2dzP3e9cEnjX4mn5g2ikGVvJy9t9xfNsx27WZuALg3MsHAAAA4LiyA696iXyYMKOjK80o1exSSx/XYNk+gTLdfki3v2uQSAMxWeNFG9hLJv1YPst4qPoKg0PJAJcNHB2bBje1HHm3vDLq+6b1Y4NpIR2h2yDsLmwg/zX4/0en9azxDjulhUq2vUsQBjA0TpSMXthAbNEXDjZDVo+RtHiQjZAd/zr16sfQFVnKWxA6jOYpPe00A9bYnW6i0Ov+C23tb5m6rNiX4GIJDUxH9RdeQGEfL/7O7TXj9JwMPKfNw2unGJi6ujpVkLycujvnhKfxUtmuzmfz5ejqmF9gAgAAALgI6YFXmzmnwbFwAKLBkLSAmQ14laFBomgstl9mXt6cjDq2i0aD6YEXn2U8ZH3ZclhP7pb12KXQjFStH20DaWXRQKIGoMpGMmw9R8uFfyxhnYQ3bUta1rD9aT0mM8Etzbq2zy+67ZOlvQ+Np4URj7QMVFseLWtRYN+2hbQ5ZcPX0r8771gQJJpuoCZ37q0/h2kGIkt5Nc0tO/NzV3V3orRLWdl/8cPyT9B92sBqOIesBqajBbhutgdOuIDW38Kk9UVmZ6Ki90bLHj/U7BQDmjU7PvtD7TH48qpstqv6FPa9zt+yVwAAAAAAuBrvA686LrOZc2mXa+t9GiyzymYn7ht0TQ5oiq7OtElAyflhfZbR17bC/Y1GznG2DDqu1zo8VVannVc367bLCFvbgE4RoQHDZJBaaWCxTCxD69kGcLWtXQMts9ab1p/W4yUGEu2iWlkpjLZt2L9Pk7fIlj32TrWolu9j6ENLTjdwDtMMWHrZvW2cD6VPh368D6zGF86abZv5JnCtwgW0/rw7lcYzaIsyYu0cszawq/tgpxh4Ln2qPxWb7fp22jRqAAAAAB/I+8CrXZ0jLQgW0lGUfTxrLkVL03T2CbqqatPgxfkso69thaPb5JyuYTpR+PcagNRApG7LZ53YgK8ddx+TxlA0eKpBp+Sl8mXns7Vz/GpbO3bw1QZ+kwH/LLYN2een0eMmGaDTMmu9lYlBhfVb9qZ/n3SIMobtWx/LKsdL8H9lv+xIk0xXs5Ewe+yVTWvDSdnpBlru3+Y0cuppBqy+6bKKFtqKByujYGjc0h3Y0WJWupxVll/b00ctONCSC2dF88BuFuCKL6CVFGbQ+lOTkcnXtf9G5lDWbOHw/smRg9dRtqueW8d86QEAAADAk/eBVxtIKZqvzAZCwoBqFh1F2ct7d01/qTIQSmbL+iyjr22FEQS9347Cw3rS+/XS7/AS+mRATC8518f3Zcfhp8oCtDQgphmcoWS95NFAZEifd6zL5ZUNWmdlLyfZNnSqoPcufJcxzOBWYTtPuyWn6CjKgrZZ5mGwVdtQ+FrJLPQ8dv/T2LZZ1A9gD/aS9o1zmGbAmrkGFQUsW/IU+7Yhbpb4Fq4ogbu8z64pNoNL/qOM4CiLdTMdQBiY3WTEJkUZtLvKX6jrfNls16k9TwMAAABARdmLa+0qL0VGgxLRNYfpWXRl2NcoGqnaQKKvzFCfaUDJbel4NbwvuTS2BiDDx/T/NiDpgw1GqXPJArR1sitbRzqiPlbwNe8S9yw2A/Mcgt5FfJcxbQ7WMoqeZ9MhtX1roHaXRbUIoJ4RO92AOpdpBqz4Qls1eYg1+7gfJvSqGbJl5lLJYjNoNaM1bf7W6PXsdABhRmxclEGr+xYuaJaubr6TiE9LkMzYTf/XNd9/LGS4vb+983ezVdyFb9Qe2a5/TLO8KfqCBgAAAMDVeR94tdmh2aPGDZvQk5ciYzPVnoP/78POaZq3bzaQqIOi5EDKZxl9bissnwaz7Dhc91+zOPXSbzuHp/4/eWn4PmwwapcswGOwAeFdBsT6t8ng6zGuXdWgtY0PFcVT9PFzDHrn8V3GMHibNo1C2i2kz8uLCWkbsPupgdrwtdL6hSQbmC06tsvMUYtKoukG1DlNMxBZuhNc1IXWYs0+biYvscbZk0luY84XTSVwI59dY928rp2/1U5H8Lj9ziI9Q3Up41hYOH0qhI1wvl11nu9JIdc/tYI3ap9s19/mXF7LuwLAVeJT0RQpAAAAAD6c94FXGxTRwUhesMrOu5mVqWefr2O5XYJnSWX3zQYS0xag8llG39sKx7tlF5SqSjNBw2CUOnSakZapbLmSbWdX2tbsxIg66D1Gndo2p+9jXjwlnDpCZU/ieH58ldG+x2WjNrYtFGW+2/207TytX0iygVs9tvPajs3or9LHIcfY5FCe6wr58aBlHs0ItYeDzoM6cY1sn/BrNJWAZs9qY9WmaKdisBnDjeBQyFs4y2bk6rQJ6XvV3L6aHpbn+p7k64TnZVfgfeZ2nb1E3YRWbCetqtx9g9GmGwEAAABwXdKnGkgGqzQ4ZwcT+rMuWhSNuOIByJD+nc3wyArO7iK5b8lApw0kZu2X8lVG5XNbOg1DOIrTgFVyW0p/1/t13st96PO13vT5NhjlewqDNHopppZLX1vrRINZaeXTx2zb2Xd6Cq1n+/7oax86+KqvaTOHNeM7+Zr6u33/9O+z2sQ58lXGMF1ul4Cl7UeKMlGz6rRsXScDzGll1LYaqpLRjw/CLrSVb+Y63WEUtnOniN46/DpwDSvZLeZ7vyBWMps1Cs6G7FQESTNXCj1RbbwPCutMspP1IbEx3LuLPil3/IbZrot9P5+4an6Nqkpari9smjev7l5j4u7TU+3U9pkAAAAArsI/X79+/ffnz5/Br4YGFKJRVTYdSGRlSZbdhpW3vVCZ7epAqGgk6KOMIZ/bUjaAnMdeem3tEpTVEbsGjPICX2X3JylZXg342oBqEd03u1iWZeu86P1Ovq4GmcsE+mw9ZtV1Fl9twu572fZzLGXfz7T91uCEBmzVruWy74tGufICqcm2W6ZvsMq+j7vuR1nJuim7P0lF+2dVafcV1WXimoVGw3TGz7I73HTV21tX78od3O3YwT1wxdm94hfu1ZPNpOm2tKn6qXuVvAzPaH828stSd3/95P46/G6uyPt9S76ezpfaT7xix9VslKFaXAY1cM/J36+Ve6Vn90plutP36m6vRkEXkrbPh9WZuO5LC+fOM113ntmvDBvbbaVx2x+6c+yvO9flhf2l64fud+mHAAAAAFyk7MW1dPSjA24d9CdTafR3vV+DV6cIAuXtmwZVdL/KDGh8ltF3fen+699reZJ0expEqRIQsftk5409NC2/vqa+tpYtWVdK7wvfx6yg6670dW1dasBvt5Sy3ZVpE/r4KY4hX+z7mfZeKn0srYx2SpBd68C+l0WLbCUz2Xadx1Hfx6wy2vdR/w5Yi2eMFlm6v9ZpFHSpqYVrVO8PJb1v4f5NXdffTTm92QWxlJ3fNfRd3oKfNn6X6PZ1vzQrV/fK0v3RfdFlsPYNup6Y6/9vg0Dp4rX6KXDszlVdd15e2YpyPy9c/6BB3dlFVhIAAACAqrIzXgGgCps1qTEoDXgSfABwBpoDkd4mRbpytisAAAAAZMnOeAWAKjRLNMz+0gCHZhnrfKiHzjQGgDyuD3oI5mXwke0KAAAAAFkIvAI4DI1m6FQR9tJbvbQ3DMACwAk0H4O1Ll3f9MIUIQAAAAAOiMArgMPS4KvOSWy9Bv8HgGMy2a6rN7JdAQAAABwWgVcAhxcuNKZzveqNLDMAJ7DNdnVeL3lhQwAAAAAXgcW1AAAAAAAAAMAzMl4BAAAAAAAAwDMCrwAAAAAAAADgGYFXAAAAAAAAAPBsp8BrczCX+XwinXpwBwAAAAAAAADgHTJeAQAAAAAAAMCzf75+/frvz58/g19T1JvSeXyQ20ZNasFdGytZrf7K37cf8vJ9JstlcDcAAAAAAAAAXLncwGu9M5FRKx5uTbUYyn1/FvwCAAAAAAAAANcte6qB5iAKuq4WMuzey3Cx/kWm7uf7+3vpDqeyWK3WfwIAAAAAAAAA2MgIvNal89AIfl7J9Lkvs5SpBJazsfTbbbJdt1y9TXQBMhYhAwAAAAAAAK5ZeuC1fie34QwDi1cZM38rAAAAAAAAAJSWHnj98imxkBYAAAAAAAAAoKz0xbXqHZmMWpvg62oq3fZYNOm1OZhLr6FzvLbPIgu23uzI47dbubmpSS0WKV6JTj379++b/PnxXcZp8yQ49XpT7u6+yafbG7lxG4hvwm3DPf/1ZZw6zcKaraddHXpBsuZA5r1gugjzHq7r7OFWGtsKc+VcFJQzlLFNV5HSvHuUh9tG7H1YuTp8e05vK5XrPkPVNuGFl7rXaStGEk6zvBjeS7nm0pTBvCfrV7fvEQAAAAAAAI4qPeN1+Vv+Bj9KrSWPzeDnc1HvyGAyl1GvJY1GMsCm9L6ae6wlrYc7SZtqtd6ZyGjUk1arsQ6Evd+Eu889vzf6KHO11qU5cGXWOotVWLVy1psDmYxG0nP1mHwf9D349CX4xThI3XtoE4ezT90vZfy6Xs1urfHQKbfPzW+boKuzeCXoCgAAAAAAcCoZi2vN5GW6Cn4WafQmMmgeN1SVSbMJRxrACn5fLWQ67Er3/l7uw1vX/T6cynQRlSGdZhxOZah/H3v+UKKn1qT1lBH0Wo6lbZ9335Wo2jQz2D6WuB15QbK7wUh6rtJWi6F0t/vVleG2oK6co4HsFGN378Wo13DPXMki9h64+gv+JFvFure8tgn/9q772Y+oHkt9AWIWxVtN5YU17wAAAAAAAE4mfaqBwGZqgeCXrRNONZC4tF8DWc/92X5ZffW61JfL7OfGXqtsme3l4SeeksFe7r6mwdFn6adcYh97n/OmQHi3TWe1kOFzP3GpfHS5e+ol8j7r3meb8MVj3a+zg6P5BvID9uZ1V9OutE/W+AAAAAAAAJCR8box69usvFBNbu+a5S579qz5aOZTXU2rBdjyAn9q+V3eTOZl2iXzl2QxbKcG/tTsh8lPbXzbIet1IcN2Muhagse699omDqRK3S/Hr1HWa+Mhd+qF5rdtBFdeCboCAAAAAACcVG7gVWQps35busOF2PBrrdWT0WQgR519oN6R8CpqxfyVOyi67Nxe0i438rnk+7oY9iV9szPpB5f45yVoVnYJbaJy3c8kis3WpJU134Cpi9X0JeN9AQAAAAAAwLEUBF43lrO+tLtTEyByao3jLjz15VOU2ej25AeRpQMpmd17DnOIfrg2kV73s5dp9MVHRkZylPm7krfvfCUBAAAAAABwaqUCr2vL38EPIitzGXjrSMHX+ueb4Cdn9Ud+BT9WVq9LszOQwWQik/lc5ttbOFfrNfglf0xK803ZlNeqKtb9wdrEUZWo++VYXqP5BuTh3QHXlGiWgdfTzSsMAAAAAACArfKB162FvLbt6v0lV54/O3VpDiYyH42k12pIo1Yz2ZM4LOp+V3Yu2NrtXex4q3ce1guZabbr9ORpyAAAAAAAAFB7BF7VUsbtYTT1QO1W7i4q8lqXzmQkvUYQ7lutZDEdSrfbXc9LurnZ4PJ1+fv7kCmT1H2ezLqfvUR1UmtJNNVrUx7D9ODVmzDLAAAAAAAAwHnYM/CqZvISRYIOvur/8vff4Cen9kmqvFy98xRdyr4YSrfdlv54JsvltUatvsinbcrpSv4c8Jp9n3Xvs02cTtm6X8o4mm9AGg9BlnnzW5DtqrMMsOAcAAAAAADAuagQeD2yX3+iBYakId8yFncvZjIEg0uzrz5YZYJ3In/lcAmvnuveW5s4oV3qfvYjkWVel85D8OxzWOwMAAAAAAAAW5UCr1+2qXqHzZJciy0wZDL+KvEdZFxKlIR5+CxgX5rblZmcxQ85TvzOQ90fpE2EdEoEu+CXu038z2W8W93Hs8xbT1H28OrtO18gAAAAAAAAnJHUwGu93iwRYDIrqR9pbsnZyzTKcKy1ZDQos595srMk6807ud1eAl7eL7NEfeoK9afg6uopq67qHQmTJsMs1OPwU/f+24Rnnut+OX41Wa9hJS3kdUzYFQAAAAAA4JykBl6/PPZkNJ/LZNCRZr3+PmhUb0pn0tteIn20uSWXY3ke2hRHt5+TiQyabh8TO6nB42ZnIBP3eCf22EzMAvFuE+5x9/wtLdtgIqNeK7bSfuNbuYDe8vvbNhBYa41k0nHPSz5R6zStXg+otq6rwfr9DNWbHZmMonKups9y2PjdAereS5s4LL91H69DtZq+FGTKAgAAAAAA4Nj++fr1678/f/4Mft1oDubSM1dAZ1vJYvgs/dmRs+3qHRk8tSRcGD/fSqbddiKotVlZfzvdaIrVYijP/V9y9+7vFjK87+cGupqDSbRqf6bi7VTSHMg8fBNXUxm+3Uovp8CraVfaRZG/xDa77X0C7geq+8ptIillP8uW+RB1b7myRkHbA7cjAAAAAAAA7CU143XWv5dudyjTxUJWq+jS+chKVoupDLvt4wdd1XIs/bbbx+HU7aPbl5Rd1P1euH2cDp9TpkFYynj9fC1fcNdaWK57afd14Sf3d89DcS+xtVr9CX7KNuu3g/pL3ze9s8x2fPo1bsu926dFYodWq8WmvLsE/io5UN1XbhOH473ul79lO5Xw0ebkBQAAAAAAwC5SM17TNWUw1+kFyLC7CF6yU7GXA9d9vTOR0TqDtkzmLgAAAAAAAE4hNeMVwLlqymM4bcHilaArAAAAAADAmdoh8DqT/v293JPtCpxMvfMQLWr3gyMRAAAAAADgXJHxClyEujS3Uww4i6H0ibsCAAAAAACcLQKvwLmqd2Qyn8t8fRtJLwy66ryxRF0BAAAAAADOGoFX4EKsVitZDLsslAYAAAAAAHAB/vn69eu/P3/+DH4FAAAAAAAAAFRFxisAAAAAAAAAeEbgFQAAAAAAAAA8u/ipBpqDufQawS+ykmm3LWMmwNxNvS7Nu0d5uL2RmrylzyGqCz2NWu7xwGIo92aBJ94HwI96ZyKjcCG1xHF2Sue6X0fnpS+sS2cyklv3+N+3V3n5PpMl/SUAAAAAfDhkvF6zelM6g4nMR7pifkNqtW0o4b3lb/kb/KhWf34FP238+rMKfgKAD8xjX6h9bqPVk9FoLpNBR5r14AEAAAAAwIdA4PVaNQcyGfWk1QiCrauFTIddud9zxfzlbxuK+Cu/yd4CcLaaMpjPZb6+Ddxv/pTrC5cybnelO5zKIojT1hot6Y0m0iH4CgAAAAAfBoHXa9QcyLzXCC6VXQUB176MZ3nR0l9iE7n+5kVWV3/cXwPAR+SrL1zKcjaWfvt+HYDdbLImrdFcBj4jwQAAAACAk7n4wOusfy/39+GNeUULBUHXjYUMdf7B3IBrmpUkrq7V62uDwAEAXAs/faEGYNvdoeuRNxo9Ml8BAAAA4CMg49UrXTAlvHz1HAfOTRnYoOt9X8rHXJcSu4I2z9/fGdMV2PopkdWlQeLwcmBSwACcBR99YYrlTPpdm/nqdwoEAAAAAMDxEXi9Is1BT7Zh12Ffdl2TPFo0JmXewsSCMwDwUR2sL1yO5XkabrshPb5wAgAAAICLRuD1WtQ78hBGXVdTedk16loomvcwuco3AFyPan3hcvwsUez1gSkHAAAAAOCC/fP169d/f/78Gfzq2DlAV1PpBqvc15sdeXy4lUYtWAVfVrJavMnry7j4cvWMbUq9Ls27R3m4bch2s85qtZK35/h8rfXOREYt80dp7Lbz1DsyGbU2i0vF9qcpnccHuW3UgoWnHLcvi9dn6acV0m5nV4uh3Pe9Rz8zNQdzCd+CxfDelWfz83HpVAMjCd/Gwv2w7Sanvurufbu7+yafbm/kxjWk2Pvh3r/V37x2uuM+bZnnFbW7tHalx8/qr7y9vuwxx2411err0Fyf0HF9Qitc/M3RY/DtVV7GM1naY67oGMroX7bb++62V7aMPrcVltFuS7cT9DOxvu6o/YSf/TrN8diUwTzI6C91HjB/H067sv75PNi6Xk270mbycgAAAAC4SCUyXt1gfOAGgb2WCboqN6ButKQ32m8u03pzIJPRSHoaYImNzN2W3R2fvgS/HMlmf3rSigXHHLcvjd5IJheddtSUb0H8UoMMP84pwlDROkCh75trR9o+E01p/f7lt9OlfH8L08s0wazjWnwJzcdtcGj19j0jyLM5duZp7UqPn1pDWtq2Bs1yr+lB9fo6IA2qzoM+IbhrTY/BVk9GOm9yyX6h3snuX7bbc2UclCikz23Fymi3pdtxbWE+6ciRu74NT/vl43gcv4ZLTO1yPH6LplF5LfHl25lbfn/bLtBVu707Wv8AAAAAAPCrMPB6N3CD8UZNVouhdLv3cn+vt64MF9th4e6LgDQHMuppcGUli2FXuutt6i1a1TlpOW4Hf5O4DbOesQOzP1O3P+G2u2bbtdbT+0DBcixtuy+uXraXiOq2tvWVcjtaFptT/yw3wY+y+iMfbyIAzb6eyrBr25K76Srh2/fDtdOn9CDOcvwatbvardyViHI0t5HshbxmZKM1g2NnbaX7F+1bdxguouNestGTp6NGOavV10EkssfX/c12v8L+xu1TrzjDfJMtqMezcn3M1GzLHaPd6SKoew2a5n+p4nNbpcpYa0kvjOgfi/f9qti+Zj/M8diSx8KTS1064Twq7jgrN41KNB3AWfaJy++y/T6oZJ8EAAAAADg/+YFXN+htNTbB0XbfXkq7lFm/7Qbkwa+7LALitqlBTjcydwPz9voS1pNmJ9n9uW/HLvtezvqmjDW5vdDRb/3udhtU2WmV7Quw/P4sXfe+tft66XKiLekq4c9RgDM7gDGTH7u8z3UzX+7iR+olyhqwC2dJWF+W3Y5fWr2cjaW9XcFcm2FKYP8A/NSXb3XpPJnAn15arf1N8Lt2PNrf6Bch233L4t6bJxMgXAxdH6NTFAS/u43JctyXttlWrTWS1O7L57Z8ltErv/vl63h8ib7Bksa3gnNLqezzS7OU39sVuo5/BQgAAAAAwI/CjNd1sCF9Mj6ZRdEqHR3vkPW6kGG7nzHH3ykE+xP8ZkWrV7vh7wcY/X64ha+SwZ0kmzmWE8CYvdgg6GNuW44C2SuZpqbXNeVxG7DL+htnOZboquojBfY91ZdXJnCmx2JWBrF+EaJBzjzNxyiIqAHvzMRyty1zRXvqJe0+t7VLGaNV7Y/A9355al+xLPSCBabKZJ9fInvuufl8hL4BAAAAAOBdfuC16LJNe0mo3EjZseFimLWQyUz6wWWpmUGOA8jeH5FllHZ0sb582kZW5O/vjxOY8CoWEGpIdpKdCaqu3uR7WnWa+SYz/ybw0QL7+4gCZ05GBnE5di5j3VT+lmyw/X32pc9t+SyjX+e6X3ousFnoraz5Bkz2+Wr6ckb779e19g0AAAAAcOlKLK5VVsnsuNJz8B3Jue3PFWn05jKf59y21+ofQ8lFfUos4hMLZu0ytcPN5/TX/NDq8nk7AXFxgDOXDXhLiUXklr8l+lol0X/53FaijOeTdX6u+7URC2ZnXFERZSWv5C3vG44L9BG+9AMAAACAa1cx8GoWKHG4HBInU69LszOQwWQik1gAd2QupS4QW9Qnbf5Js4hPZjAuHsySRs/sy/vbqPTOeeajvrz4IiYh+8h89l9524qX8Xyyzg+4Xz7aV2wqjoY8vJtvwGQlL15lt1kGzByqH2zeawAAAADA+fCY8QrsZjE0K56n3Qrm89yoS3MwkfloJL1WQxq1WpABtw+7qE/K5c31O7kNNn65lzX7rC8P6p8lilOvpErSZT2evllppXqf27ouftuXnUe8dnvnth6pdx6CrOSceZQvWKwNAgAAAAAuktfAK/OHnqePu0hLXTqTkfQaYTR0JYvpULrdrgngdmWXtYqW398yL2/e57JmXSU+FkzOu7XTpy7wx399nZPYpdm1T1JlVkyf27oeB2hfs5fo72stib4LKTHX8gfy4RZFBAAAAIArUTHwai9VrZathsOxQaSPtEhLvfMUXba8GEq33Zb+eCbLZYUoTOYiW2UvazaXMDvnVN8Hqa+qcudGPTSfl9of8LL9C3GY9pUx93KJuZaLzPpBMPiYKznugEURAQAAAODyVQu8xhag+SuMDc/Urz9RFueHWcDJZLwFlxr7aX7pgZ7osmYpXADKZhifT30fqr6q8jjPqp2jNxY0z5A3zYHPbXmdS9Ynn/t1wPb1bu5lM9fyh10c0c4VzZeaAAAAAHCpKgVeY6u3L35c6JyXPtlsx2Nn7+WwWYUf8rJpz0H/lEDPXTS5a2GgJzZdQezy6HNxTl+S7JIh3JRBz/Q578zETAkqjYJoaTR1hPPucnWf29qhjPWOPG0DmId2qP3y3b4Scy8/RZm1q7fv/gK858TMJ30NUykAAAAAwEeVH3itteRp0EzP2HMD8e0C70GGE+LZjueT2WYDFyWy9y5OdpnqTRPAKK1ioCe2Grvbu95E3i3IflK+66ua2cs0ClQ3HjLqSucP7bk9zxffVk9c95WuOTD9V/rl6ofbVkYZ600ZjEwA9wgOs1/+29dy/Gq+DAk3sJDX7Dk/Llr97nZb3x82uAwAAAAAV6Aw47XW6MloMpBmPRqR15sdmZiB+Gr6nDPn5XWx2Y611kgmnaaYqttwd9T1Fvx6DHa/tvMkXrRERqIGN5umVPWmdAYTGfXiASPNXCxT9njW6u6BnlnfLiJUk9ZoLpNBJ3YcrWk7cMeT7ut87o6z4G7/DltflcQC1VpX8X1b9zfzkbRqCxkOTSHSuG09RxW/LudAj8Hgd7c1qXcGMuk1TP/VldRpPj1vK15G7VODX3U7TbedkQaWFzI1r3lw3vbr0O0rvn21mr64e/fkyjWfz7e3yVl9M2Iy7F0vVHYhPwAAAADA+fnn69ev//78+TP41dEBaXg572oqw7db6eVcYqqBhnZRMCqxza7P1dv32XbdBI6LnmO3vxiWWoilOZhEK3tnWsjwvr9/4GAPzcHc7dfm58XwPj1AdFCbVc/D5lS4D4V1H99empV73nP/l9y9+7vi+rf1tVby/Y/U3TaeSrSF0KHbxGHrq5qifVvJtNuW8Zdyx6MGRJ9aUUA0na66/yz9gv7L37YKyrhydfzcl193ExmFf7Rzm9uHr/06cPuy/XbV9mj7FqfUeexY9jjnAAAAAADOU2HG669xW+67Q1ms4tlOKx2Md+/PZ7B6Rmb9tnRdnU0XK1dPwZ2Wu3O1+hP8cjyzvnsfg58bvUNmVx7LUsbte+kOF4l6dvW7mG7aZ18X+XF/96xtOHjYKVP/s1iK3T7TaSzXbeG+25XhVPcxpTFoW1hoNuHQtZlDBjbVYeurmrx9c3Vz315n1dejFYdklbPi0HLcl/a23oM7Q+6Oxbq+ddX94v7L37a0jN33ZQy30Xbv/0m6U1/7deD2Zeeq/qhzimtweRsQdudYgq4AAAAAcNEKM169Zqfi9GKZXho8P1WwB9hdvRNlXZ4maxunEr33QfbzR+u31nPphvMYf9AyAgAAAMCVKcx4xQcz68v9cJv3Kr3EfJrA+YrPfZmT8IoPpymP22kOXj9cQHIzb3q0eNxiSNAVAAAAAD4CAq/XKAi+bq70rUmrN5L5ZEAAFuet+RjNC/oBg2/IVu88REHJHx8lzXmzsN5gMjeLjmmmK5ncAAAAAPBREHi9VjOdt3IzD+1arREEYDtC+BXHppeRzycTGXSaUq8nWqD7XResi02RQWTqSrj33kwvoYtNfYy3frMQmQZcw7X3NvPgkukKAAAAAB8Jc7xiE9i6e5SH2xupyRvvOY6uOZjLNq6aJ1hhn3mJPzBdYGoUZoAaH+p8tAm83spK/r69ysv3mSxp0wAAAADw4RB4BXB69aZ07r7Jp9sb0fB/LRZ1W8lq9VfeXl9kTMT140sEXlerlfx9fZYX997z7gMAAAAALsn7wCsAAAAAAAAAoBLmeAUAAAAAAAAAzwi8AgAAAAAAAIBnBF4BAAByDOYic70Ngjv2UO8E26i4HQAAAACXg8ArAABAlqZIsOSoTF+CHwAAAACghOLFteru9uhu4agjtHK3V3ebrX/L5wYt8s3dbtzNrlau2/jrbjqQ2Xe56o673bpb2nZ/uFuZ/fNRxpDPbams7S3crUq9AQBQSt2dxh/lwZ3Ea4mT7cqdbN/cyfa7O7ntfjrqyERawRYXMpT+zqfIY+hMRFq6k+68e9/f3LcPzXgdtYJfKm4LAAAAwGXIz3jVS+FG7pYM+ikdhPTczQ1Icunj+ne6DTteU/q73q+voQHUXWgwd+5uOojJ2q6+rgYu8/goY8jntnS/9W+ztrdvvQEAUFLdndgm7mTTcyedeNBV6T0Ndxp+kLvgnvLq7vQVBl3PmPussQ66OmS7AgAAANhVduBVA3phwE+zNbvudh/chu4W0gFJmeCfZmjabeht6m4hDaCWDSJq0FWDmCHdH7tdfR277Sw+y+hzWxp01aBqOCLVstjt6c/6GkrrTesDAACPNOg6Wgdc1cqdxrvu3/32X9ed3Kbu3vB0tIu6PK1PX+eu8xD84Ar5nStMAAAAAOwoe6oBzSZVOqJqb36MCYODKutvlAYF864d1CCkHX1pUDFvcGNfVxX9fR5fZVS+tpX8u2d3yyqfZsTqiFiD2slLFsP9yaLb3mU6Bs3mTcu8zVNUZ1pWTZNKThWh9Lnqzd1+u1vaPtoAfFodWLadaSB7vPlxr3KlyXt9fe206TC0bOF+5EkeI1l22aZvVcuYlDzO9cuLvHZq38eitpAmPF7sc+02i15fpW3D8nUMJb94KsuW4Rjtfk/1dX5l1JAWcl/wEgNX9VFhVu6k0I51mvHHy0p73abbUlj1718nSTM6R8GhO3RbK+5o9RmP7kBKXtCvr6ZNQS/q/yPf3b/l+pWj/dnvMv3o+Wn7d8hpAOy2Q2c41YA71ubBG75wx0+/4s4x1QAAAABwfdIzXm0GpQZO0uioT0eCKj56iisaqGhQJtyOKrpe8Sn4v6oSdPVZRp/bsuXTgEte+XTOWLVPAEX3QZ+ng0oNGNkyHIMG6jSwpoPQtPrQ+/Smj+s+aiBuX1o2M9g9WmBSX1frNq2MYdn0ca0LH+w2j/V+HqqMyX5A54jOYy8B3vV4sPvGpcRnp1HQmJt7dYDV1Vxn7evQ3VzOP1+HadMu6NdXCy/qb7nXDQ+PX7GT5/5WbktxdhqAlUy9BkTj2/ZTgsOw2a4vZxURBgAAAHAp8ud4LaIZkz7Y7XwK/p9Gx9/hiFQDaPsGXXfhq4yqaFu2fBpUTtLHNctVA1l6CweFKi8wGU5RYKcq0Ow3O+LV4GbZKII+N7nNtFtWtqu+jgbklO6D7k/yuXqfZqZWHZVrvQQZS+ttJTOM9Pfka9ublfZ4eEtuV8sYvq5K1pn+HtK6KFv3Wid2O3Z7yfezSrC6jEOVUYXtI1QUW7NfbKhdXkszdZU+/xh9ikrWVdYt7RjSAFDa31ppj9vA0aHa/UF8ywm9dmLdYLq+29Xkv+H6FLKhmZb2sc2/4qLVXDPNDwoX00WrNMM3vJxfm+HU7Y+9oF8v6Q8v6o9bbk8qN/I5+Km8+vY5f981/EdzCL56/a7KTjGwkOfM7ypPzvWft8Gbsng9XtcAAAAA4GMpDryGQYk0YTAkORo8FJv1ppfI++KzjFW2FUYQ9PHkKE8vDdYgVzg6V/bnXei2NQijQR07F66OhqvGEcoIR90a6MrK6tX7dLSvj2uAZ99Rr71cPSsQ7JvWoQ0cahA5mS0VBs9CVes+fD+t3Ve7Ke+QZbR/Y4+VomCqjeDkHYeWBqfD4+hsI0DXrpGZ8Fx3b/Tm7TtV5mRv3TXvq+k6qF4s5HrvDuOxO3TiHZ5OLDBz929CyM/yPbhf5E9Q7lrud5bpvgTPWbmtxNks4sW7A7uKjjxty6sTC5yv5mPQNbgK3iXbten6qclEZD4Pbu7nQZW+HQAAAMBFSw+82kGGjjzSRpY2CFL18tyb4P8qOQK0bNZb1bGgzzL62JYNACWDyvrcsOw2U84GTfelwU0b3CpOH6vGDkAPHejS7OCQBgaPxdahvl95QWObFWqzR/dl20TZ4OM+9i1jmfYVRtm0Xdpjpag8Ni1Pj6UywY7H4P/qWFNQoKTFtmtKn26gLndBp7lynYnPixN20XAd/n5xtYE55DXoqiHXMjbzuybdrE8iVtO9wjz4N4mdgjY+B6fev+tptCNNE+heePyO004xoFnGVU/iB+Sq8iE455bOdnXPmcxdN95y3U94Llfu54Z7ozUA+yW4CwAAAMD1yM54tcESHYBoECsc1+kILsx200BPqVFJDjtIiY8AI3ZMaVObdF9038LL7/Xn9yPMdD7LWHVbNjsxOR4Nn6uvYR+L0p6qscEtfS8+QnaOBr/DdqX1VrWNlqV1Z9tzUWxBH7ft+RLqvkoZi9qXHjPhlwwa8dH3zT7X9gNp7JcIRfPCqvC17PNwJn6YoF/adAN3QSxew65ZJ45DsRm2DXkobJhJGhQNG59u7XnPuP/vbcC59i6sFwZWVc3VVXIfPwWH8Z/EDK/2eeFjOiXCZh7a6N/E3dMsXfL4FANntohWwjbb1flRZkddJUxG0XNWrj/p3ovc663rTkHav7gHNSgLAAAA4LpkB151sGGz53REoZdta0DRBgKrZonZIKmOZLMGOckxpY72NNCq+xKOdpT+rPfZwGcWn2Wsuq3wOtFkACisn7y6qcoGt1SZgJUPWi9lR+270DoLYxr6nhyq3tLYuisbzLOZv8eq+yoOWca0LyDsc22GahqbnhfFtdLZvsdfWh88mrkDeNM1vZ9uIJpm4M3bd1Dlvcmzafy7L7T1zTTPhbzu/c3QL3ORyOdEdxoGVjeSgdn6Nrz6O/Hq8efpgaKz0PbcHsfv18W+eu6RMhm/lzPFgFZimO26cuePMqePztPmlK/0OW1XwG2duh9m7veuO//b0ywAAACA65A/x6sGCW0wUYWjCx8BLR0lhkFJ9Rz8P01y5ZBw7k4NZoaX3uvl5OHIRvcz/Js8PstYZVvhGDg51UIYkE27LN/ndYv2Ot0o3ck/rQM7+tT3SLNTfQVgNQIQtimNi5QJmvtk6y5v2gzLJutVrXt7Of6hpnI4ZBntexeyUbWiYGqyfeVFw8K60r+v2pfhQL5vm3HDvZlRN2GnGfi+d9iymhfT3etCW3b/8tk5VDXqv3/zW5pD61PslBB/DRUPzH7Z1l883zUKyKrbdZ5qzf3Vwp1go+W+7OJkGn7NC75e0BQDjs12fS1z/nAFb4VPcLKes3TFfk5+PgAAAADw4eUHXjUgZgOjlt6fNpfpLmxgVAckZUfP4SAnuaCPPl8XGLKBl6J99FnGQ9RXXpDK53ysZQNoPiQD7Bof0LagGcwaKNs3CKvPCydN1DZwirQqMwCPBRvz2LiHff6utO7s8w8VdD5UGW3kxmag6nFtA7FF6XU24Jw1L6y2lXA/DhWghgdL+b7t0G9NQrSdZuA0YVfdt7E7cUWnm1ZhQvZGPfY9YjLwuatf2z24MduNXiOaFMHWX/T439z6q7l/m/ln+7G/m7nfuybwrMHX9APTTjGwkpez/47j247Zrs3EFQDnXj4AAAAAx5UdeNVL5MOEGR1daUapZpda+rgGy/YJlOn2Q7r9XYNEGojJGi/awF4y6cfyWcZD1VcYHEoGuGzg6Ng0uKnlyLvllVHfN60fG0wL6QjdBmF3YQP5r8H/PzqtZ4132CktVLLtXYIwgKFxomT0wgZii75wsBmyeoykxYNshOz416lXP4auyFLegtBhNE/paacZsMbudBOFXvdfaGt/y9Rlxb4EF0toYDqqv/ACCvt48Xdurxmn52TgOW0eXjvFwNTV1amC5OXU3TknPI2XynZ1PpsvR1fH/AITAAAAwEVID7zazDkNjoUDEA2GpAXMbMCrDA0SRWOx/TLz8uZk1LFdNBpMD7z4LOMh68uWw3pyt6zHLoVmpGr9aBtIK4sGEjUAVTaSYes5Wi78YwnrJLxpW9Kyhu1P6zGZCW5p1rV9ftFtnyztfWg8LYx4pGWg2vJoWYsC+7YtpM0pG76W/t15x4Ig0XQDNblzb/05TDMQWcqraW7ZmZ+7qrsTpV3Kyv6LH5Z/gu7TBlbDOWQ1MB0twHWzPXDCBbT+FiatLzI7ExW9N1r2+KFmpxjQrNnx2R9qj8GXV2WzXdWnsO91/pa9AgAAAADA1XgfeNVxmc2cS7tcW+/TYJlVNjtx36BrckBTdHWmTQJKzg/rs4y+thXubzRyjrNl0HG91uGpsjrtvLpZt11G2NoGdIoIDRgmg9RKA4tlYhlazzaAq23tGmiZtd60/rQeLzGQaBfVykphtG3D/n2avEW27LF3qkW1fB9DH1pyuoFzmGbA0svubeN8KH069ON9YDW+cNZs28w3gWsVLqD1592pNJ5BW5QRa+eYtYFd3Qc7xcBz6VP9qdhs17fTplEDAAAA+EDeB17t6hxpQbCQjqLs41lzKVqaprNP0FVVmwYvzmcZfW0rHN0m53QN04nCv9cApAYidVs+68QGfO24+5g0hqLBUw06JS+VLzufrZ3jV9vasYOvNvCbDPhnsW3IPj+NHjfJAJ2WWeutTAwqrN+yN/37pEOUMWzf+lhWOV6C/yv7ZUeaZLqajYTZY69sWhtOyk430HL/NqeRU08zYPVNl1W00FY8WBkFQ+OW7sCOFrPS5ayy/NqePmrBgZZcOCuaB3azAFd8Aa2kMIPWn5qMTL6u/Tcyh7JmC4f3T44cvI6yXfXcOuZLDwAAAACevA+82kBK0XxlNhASBlSz6CjKXt67a/pLlYFQMlvWZxl9bSuMIOj9dhQe1pPer5d+h5fQJwNiesm5Pr4vOw4/VRagpQExzeAMJesljwYiQ/q8Y10ur2zQOit7Ocm2oVMFvXfhu4xhBrcK23naLTlFR1EWtM0yD4Ot2obC10pmoeex+5/Gts2ifgB7sJe0b5zDNAPWzDWoKGDZkqfYtw1xs8S3cEUJ3OV9dk2xGVzyH2UER1msm+kAwsDsJiM2Kcqg3VX+Ql3ny2a7Tu15GgAAAAAqyl5ca1d5KTIalIiuOUzPoivDvkbRSNUGEn1lhvpMA0puS8er4X3JpbE1ABk+pv+3AUkfbDBKnUsWoK2TXdk60hH1sYKveZe4Z7EZmOcQ9C7iu4xpc7CWUfQ8mw6p7VsDtbssqkUA9YzY6QbUuUwzYMUX2qrJQ6zZx/0woVfNkC0zl0oWm0GrGa1p87dGr2enAwgzYuOiDFrdt3BBs3R1851EfFqCZMZu+r+u+f5jIcPt/e2dv5ut4i58o/bIdv1jmuVN0Rc0AAAAAK7O+8CrzQ7NHjVu2ISevBQZm6n2HPx/H3ZO07x9s4FEHRQlB1I+y+hzW2H5NJhlx+G6/5rFqZd+2zk89f/JS8P3YYNRu2QBHoMNCO8yINa/TQZfj3HtqgatbXyoKJ6ij59j0DuP7zKGwdu0aRTSbiF9Xl5MSNuA3U8N1IavldYvJNnAbNGxXWaOWlQSTTegzmmagcjSneCiLrQWa/ZxM3mJNc6eTHIbc75oKoEb+ewa6+Z17fytdjqCx+13FukZqksZx8LC6VMhbITz7arzfE8Kuf6pFbxR+2S7/jbn8lreFQCuEp+KpkgBAAAA8OG8D7zaoIgORvKCVXbezaxMPft8HcvtEjxLKrtvNpCYtgCVzzL63lY43i27oFRVmgkaBqPUodOMtExly5VsO7vStmYnRtRB7zHq1LY5fR/z4inh1BEqexLH8+OrjPY9Lhu1sW2hKPPd7qdt52n9QpIN3Oqxndd2bEZ/lT4OOcYmh/JcV8iPBy3zaEaoPRx0HtSJa2T7hF+jqQQ0e1YbqzZFOxWDzRhuBIdC3sJZNiNXp01I36vm9tX0sDzX9yRfJzwvuwLvM7fr7CXqJrRiO2lV5e4bjDbdCAAAAIDrkj7VQDJYpcE5O5jQn3XRomjEFQ9AhvTvbIZHVnB2F8l9SwY6bSAxa7+UrzIqn9vSaRjCUZwGrJLbUvq73q/zXu5Dn6/1ps+3wSjfUxik0UsxtVz62lonGsxKK58+ZtvOvtNTaD3b90df+9DBV31NmzmsGd/J19Tf7funf5/VJs6RrzKG6XK7BCxtP1KUiZpVp2XrOhlgTiujttVQlYx+fBB2oa18M9fpDqOwnTtF9Nbh14FrWMluMd/7BbGS2axRcDZkpyJImrlS6Ilq431QWGeSnawPiY3h3l30SbnjN8x2Xez7+cRV82tUVdJyfWHTvHl19xoTd5+eaqe2zwQAAABwFf75+vXrvz9//gx+NTSgEI2qsulAIitLsuw2rLzthcpsVwdCRSNBH2UM+dyWsgHkPPbSa2uXoKyO2DVglBf4Krs/ScnyasDXBlSL6L7ZxbIsW+dF73fydTXIXCbQZ+sxq66z+GoTdt/Ltp9jKft+pu23Bic0YKt2LZd9XzTKlRdITbbdMn2DVfZ93HU/ykrWTdn9SSraP6tKu6+oLhPXLDQapjN+lt3hpqve3rp6V+7gbscO7oErzu4Vv3CvnmwmTbelTdVP3avkZXhG+7ORX5a6++sn99fhd3NF3u9b8vV0vtR+4hU7rmajDNXiMqiBe07+fq3cKz27VyrTnb5Xd3s1CrqQtH0+rM7EdV9aOHee6brzzH5l2NhuK43b/tCdY3/duS4v7C9dP3S/Sz8EAAAA4CJlL66lox8dcOugP5lKo7/r/Rq8OkUQKG/fNKii+1VmQOOzjL7rS/df/17Lk6Tb0yBKlYCI3Sc7b+yhafn1NfW1tWzJulJ6X/g+ZgVdd6Wva+tSA367pZTtrkyb0MdPcQz5Yt/PtPdS6WNpZbRTguxaB/a9LFpkK5nJtus8jvo+ZpXRvo/6d8BaPGO0yNL9tU6joEtNLVyjen8o6X0L92/quv5uyunNLoil7Pyuoe/yFvy08btEt6/7pVm5uleW7o/uiy6DtW/Q9cRc/38bBEoXr9VPgWN3ruq68/LKVpT7eeH6Bw3qzi6ykgAAAABUlZ3xCgBV2KxJjUFpwJPgA4Az0ByI9DYp0pWzXQEAAAAgS3bGKwBUoVmiYfaXBjg0y1jnQz10pjEA5HF90EMwL4OPbFcAAAAAyELgFcBhaDRDp4qwl97qpb1hABYATqD5GKx16fqmF6YIAQAAAHBABF4BHJYGX3VOYus1+D8AHJPJdl29ke0KAAAA4LAIvAI4vHChMZ3rVW9kmQE4gW22q/N6yQsbAgAAALgILK4FAAAAAAAAAJ6R8QoAAAAAAAAAnhF4BQAAAAAAAADPCLwCAAAAAAAAgGc7zfHaHMyl11jJtNuWMUsBfxj1zkRGrWC5kcVQ7vusfFRFrD4zcRwdXb0pncdvcnvTkFry7VmtZPX3r7z9eJHxLP9N2fSDwS+8jwAAAAAAIAMZrwA+PA2Gz0c9aTVSgq7K3Vlzj7W+fQnuAAAAAAAAqKY443WdJfYgt42axOMVK1mt/srftx/y8n0mSzK+LhYZr8dSl85kJJuqJlPyaJoDmW9TVFeuiT/Ly2wpturr9bp8ubuTb/Jb+uP89k/GKwAAAAAAKCM34zXKEksGXZW7r9aQRqsno8dmcB8AnJO6dB62UVJZDNvSTwRd1XK5lNl4XBh0BQAAAAAAKCs78NocRFmQq4UMu/cyXKx/kan7+f7+XrrDqSxWq/WfAMD5+SKftt8aLeSHh7jqrL/p/zY3sl0BAAAAAEC6jMCrzRJbyfS5L2nrzSxnY+m321yajjOgl/HPZT7X20Q69eBuXLf6Z7kJfpTVH/kV/Ig0HEMAAAAAAPiUHnit38ltmCW2eCWjCwAAAAAAAAB2kB54/fIpZU5XAAAAAAAAAEAZ/3z9+vXfnz9/Br8G6h2ZjFqb4OtqKt32eL0YzWY17xOt4m1XJjf7VG925PHhVhq1MFS8ktXiTV5fxinTI9hV5XWhnXspN0tCUwbznqxf3bx2lvU+fbuVmxtdgCy4c83t20rk7983+fPju4zT5m8I1evSvHuUh9tGfBtuA4u3V3n5PpNl6ffAbauT2JZu5/V5vdCQLqK2nc93MSyeOqLelM7jg9zGFl3Tsv2Vt9eX/HLFhPt14/YrVlFuWzp38F/5+/bHldXVd3KTto3uKlbG47SJDftaex5H3ur+I4q/l7tbyPC+L9uWYY+LLKXf+0BGP5Z1vOtx8Pac107O4Rg6AC/9fYLHuq+74/Du7pt8cvV+454Uq0P3vJXr40vtU4KXc0dVF3SuBQAAAIBzl57xuvzthuuBWksem8HPZ8UNlgcTGfVaZiCo3IC10ZLeKG2OwqWMX9crhK01HjpuKyU0v20Ggs7iNWcgWO/IYDLf7JMGxmIDZ6X31dxjLWk93GW+dr0zkMloJL1WIuiq9Pmtnoxc+QZlJmHU4Mo8ZVu6nd5I5pOOfAnuKrap8/moJ61Y4E9p2RrSctucDJqF9Vp3g/tov95V1Po+3V6j5dpf+R3cw4HbhDf+6h7nZX0sZBzvehx8ymj/53MMHcM+/X2xfep+HZDX49A9R/flXc3rfbvuk6dzx2Gc4bkWAAAAAC5EesarE8/2Wsli+Cw/vrkB6plkvE7/ugGo+3W1GMrzS5j9qQPEJ7eP4X7HM9g2TEaNU5yJYzJ38jJw7P6p1UKmry/yfbaM/r5el/qXO7n7diutm7fUbb2r9+mrvIxd+da/u+d3HuVJgwTr33WXutLOejMSGW3runKFXf+1Znk92roK5GSybTKeg19cXQyfo0wnzYZ6cgPzvfZr6vYrkcFbd/v3xdXVN1dX8qNdIluqSjbpgdrEO/vvo7e6vza2re30XuVI9EU7bTP53NdPMlr/vuljX7b9RdQmU9vj2R1Dnnnr7w1Pdb/po3VfNNvzu/xyO7Otprp77pN7bvTGFLcPT+cOb7zV/bH6VQAAAAA4X+kZr85y3JbhNmFlkx1px4YnVdOBoA6Wu9J2I7ko2LCUWd/ud0N6g2S67kxepnoJ7kbjW0E6b/MxCES4seDb9/SBoAZBTOXoALXb7q8vB439vQ7QZ2MZu328TxtUuu08hS/mLIZt6W+Drso9f9yXtitgWIJaayTvirjmBrFPiWCc1lXwu+6L1lXXbCuPBhu2RdTgrNv/MPCntFzt7tTs11Nmtlf97jYRJLTv4cZS989ts+/2sThgVNUB2oRHPuseZ8T1Y+vA32ohw66280R/keP8jqEDqtTfZ6hQ98vvz9K9b7t90eMw2cfPpP8cHYtSu5W7vGPR17njUM7tXAsAAAAAFyYz8Kpm/a4bWEUDp42a3N6d/nLmdVDSRp+M2Y/oEkc32pPkcG85fpVovPiQG6RqfttGvOQ1I/2r+RgFODVTZ5tVuqPYdtwAPDNYMuuLuYoz/TJOM4jN2/el29azGRyna8rjdmMrmb5k7NhybPZL20l6xX75tN0x+fv7PIbXvtuEP37rHudmIcN2PxZIL+Mcj6FDqtLfZ9uv7tdB0ODHVMvv8hZFXjOnilC+zh2HdE7nWgAAAAC4NLmBVzdsSs2KrOkco5OBNE8V23ED1Kz409rsRzTYkxv5/G4/ZxKNF2vSyprEtt6Rh2AsuJq+JC6jDJi/UfvPS9eU7bjTWfzIK6ArwUt+VlU0iHUWP9L3vSwz756s3uR7TgF//YlaSi0v4hBoPJywHcV4bBM+HbDucXqLYdal8TPp39/LvbtlfgETOJ9j6EAq9/fpfNR9Jd7OHQd0TudaAAAAALhABYHXDc2K1EuZowGWU2vsvaDJcaVnHMUClxlZUlE20kresiJeXz4Ff6MWUhAvzWYDbGW2YxdAe1fGuny+CX50Vn9+BT/tJxbE/fu7fHDg5nNqZnQ8aKztaC6TyUA6J44eeWsTHvmue5yRoqBWjnM9hk4vP8N0q0Lde+Pr3HE2DnyuBQAAAIALVCrwurb8HfzghkbRiF9aZxl8/SUm+U9u0lKgYpdmN+ThXSFMBuriNXORmXo8wule+VjyyvhFzJXIFS9FjgdxpdGT+XyeeYsWBsvh6j45vUG4Kr9uYzLoSLN+gkblqU34c4C690gX/Erbj8xbzvybPrd1Fc71GDqJEv39Ibj6bXYGMphMZBJrn+ECZflOd+7w6XjnWgAAAAC4ROUDr1sLeW13JRrz16T1lDLH6AWw89PVbu9iZah3HoIM1Jx5NT36GIPw8nTxtvvuUKbv5hB270WjJb2RBpAmMjhyBt85tQkgz7keQx+frug/kbmr316rIY1azWSuIg39KgAAAIBrtUfgVS1l3B5GUw8Urdx8YpkZn7OXKIBca0k0/ZxZ0KhgXk1flr+jiQOk9knOdYZOXUFd5z4sdStafXs526zS7f62mxpAqkmjN5LJMVOqz6hNJHmtew9m/ZTXzbvlTJjpc1tX5RyPoRM77GJjdelMRtJrhH3BShbToat7e2zaLyavyyWcawEAAADgmPYMvKqZvEQjqXLz6h2NvdR+JdlTnC5lHF0DKY2HIHPXzLdatODJ6QKmPqcTyLOUeBEPU8KlDSANp2LjR7XWoxueH0v1NuHPceoeH8P5HEPHVra/r67eeYqmEVgMpdtuS388c3W/e49wKV+25TveuRYAAAAALlGFwOsZiy1U9VdyY5J2VeZ15m5dOtHyysULsPz644aboYZ82ze6EVsdusR26p8lmpwgOeD1O+ehXS3fbSx2meghLGdj6duM6ir1uo+qbcKjY9c9PoaTH0PHtEt/X4nJznR9rl4WX+mlfJ07TumY51oAAAAAuECVAq9ftqkuh80y2lVsJfjFD8kfz8Uzd1tPUUbT6u178cA6tnCIGz6HmTw7m4mZBk8aBaPwaBVo590lmjtkStY78rQNJqRbfn+LAgSxy0QPKR48LmbLXDUDu2Kb8Og0dY+P4ZTH0PHs1t/74iHA6+3ckUanRLALfrnbxOf2N456rgUAAACAC5QaeK3XmyUGaGYl4mPPzVZrydMgYx/rHQmTaNyOlVqsYzl+NZk4YRByIa8ll1eevUxjwbFR1r4ViG2n0ZPMhdubA1PG9Es049t6kNQpHt37PBiZAG6WZICgN0nfXhm6Eri7Farfye12xxbyo0Q0xWaHVs3yrdomvPFZ9/gYLuQY8sZzf+9HdoZqvWnrPZ+vc8fBnNm5FgAAAAAuTWrg9ctjT0bzuUwGnfUA/92gq96UzqS3vcTwFHOz1RpuHyeDWACi3uzIxAQSV9NnKTeei2ebqtX0pXzm1HIsz8NYdMzt22Y18WR8RIPazc5AJu7xdwE03c42I2gTZBt07KDXbU+f22uYMnYldZ2hWMCuJq2R1lXwq26n6bYz0vdwIVPzmllmfbtgjG4vah8x2l7c+9DRVb/n7jWDuyN38hCutt5JaV/u93X9xN7Hcu+FzQ6ttXRBIVd3yTrW10u+ZqqKbcIjf3WPj+FSjiF//Pb3+0pclaBfgkSdqu7Q+tgb9eJfZunVC5l15evccUBnda4FAAAAgAvzz9evX//9+fNn8OtGczCXnsmozLaSxfBZ+rMjhF2bA5mHO7WayvDtVno5l8hrQLK9yyi8bgeSCxne93cfDLptDJ5aEi54nW8l0247dbCqwdWnVhRcTefq3g12+7ll3KzAnVlNK1fO5778upvIKPyjxTBnxfi6exueohW9C6XUY6yei5QpY1xzMCmxfyXfXx9tIsa+H9nvfzoPdX+N7Hvo+o1u28OXRIm+aKdtVnlu6JKOoX0dor/3UfdFfaqzcn3oc/+X3L37u5w683TuiKTsZ9kyX8K5FgAAAAAuRGrG66x/L93uUKaLhaxWadmQKze4dAMyN/g7StA1xa9xW+7dPi4S+7fSYGL3freBoFr+lu30hvvOE7jUBW02K4pPF66OUqpO63Ph6m46fM6cnmE57ku725XhVOs/uDOkz58O3fujq2kXlXEp43bX7U9iO+E22m7Au1M1LV3b0HoP9y21gK5taBat7mPKgNrVUdu9b8Pp1NWD1tH7bazrqHQZ43T/Nm03vf7X+7f6E/xSwEeb8MZD3eNjuKRjyBPv/f3etE/VPj7ZN+uxp+dEty99XXTL/d2z7m/wsJNbZ57OHYdwludaAAAAALgQqRmv6ZoymG8uTT9JhoqXbKVs9U6Y9blrJiI+KtoEcCIH7u+Rg3MtAAAAAHiTmvF6fZryGF5KuXhlIAiHNgEAftGvAgAAALguOwReZ9K/v5f7DzgfW73zEC0UVmbpb3x4tAkA8It+FQAAAMC1ufKMV139O76wVOa6UrgStAkA8It+FQAAAMB1ur7Aq66oPJ/LfH0bRas161x2jASvE20CAPyiXwUAAAAA5nhdrxQ97LJ4C7ZoEwDgF/0qAAAAgGv0z9evX//9+fNn8CsAAAAAAAAAoKqrz3gFAAAAAAAAAN8IvAIAAAAAAACAZ0w1AACXRBctGrVkvVSRLlR0gDkzm4O59BrBL7KSabctYybmxCk1BzIPG+ViKPeXsEBXvSmdx29ye9OQWrC22NZqJau/f+Xtx4uMZxxcftSlMxlJuI7b2iHaSr0uzbtHebi9cf3wW4k++Ej7BQAAgLNExisAAIBH9c5E5qOetBopQVfl7qy5x1rfvgR3oLql/P4b/BhY/fkV/OSBBtIH+r6OpNfS9zXtjU1z4P0CAADAWSPwivOhg5rOQCbzgTSDu06rLk3dn4kbaM3n0c39PhkMpNNsur+4ZnX3lnXWA9HJxNTPto460qxaQT7bxNm1LwAfUnMgo21640oWw6507+/l3ty63a4Mp1NZ/An+DF78+rMKfvLMvaeTdSA9eF9XC5m69/W+5BUHB9svAAAAnD0CrzipepBBMtFgnQ5qNIskeOyU6jrImmdktYSZSr0HubvayOvm0slRr7UeiL5L/FnXUUt6o7lMOrtVks82ca7tC8BH5frGh+08HbIYtqU/W74Lzi2XS5mNx9Ifc7m5T8tEaunf3x6mcQimudicO1ZBwLW/0xQRB9kvAAAAXAQCrzi6MEtSMyNHQQbJOQXDNOg6MoOsZLZStzuU6XThHoHWz2oxlWHXDUS3daSZXFHt1FqjwuCrzzZx7u3rEsz6UXu/v2d+V6C8L/Jp2+Es5Adx1eP69cecm1dS+Yr+IOi6sXDnOtcf7jMnr+/9AgAAwMUg8IrjWgc1N1mSodVqIYvFmQQy6x15SgyyktlKy+VMxuO+tC8wIKWLJm2nAyh7m3RSp1T4/TqUrquDdn8ss2WshmQ2bks3Fnx9kszYq882ce7t62poRnTYhibZ7z3w0dQ/y03wo6z+CPG1I1v+lii39K9USyxtysB+Hrjvu3Nd8OuuvO4XAAAALgmBVxzZn3WG5HQ4lG53k1HXbvel/3IOE93VpfMUrBYvupJ7hUHWh7eU2WyWO7fdcvwsUey1JreZ8zL4bBPn3L4AAIf1S7bTqVYMfDcHPdmGXYfu80Dw83787RcAAAAuC4FXHNdsvM6QHGvQ7tyCms1H2a6Hsnj98JdXL4bhpeQFt5KLh7wXX8m59ilj9W6fbeKc2xcA4MDMeefv7z3PXU69I9upeldTeak8ZYSn/QIAAMDF+efr16///vz5M/jVsfNZuQ+b3SDoovMmPj7cSmO7io7O7fgmry96mXFwV5aMbUq9Ls27R3m41QWM1o+urVYreXtOv4xbF8u5u/smn25v5EYX8AnuX3PPW/0tuU8J6/J9u5WbG7fN+EZ1s/LXbffPj+/7ze1Vlpe63yx6FAYQNbjWLzVgaMpgHmR32PcoVfw11gqfU8ANciajMNs0uKRv/fMuqu2XXoYfVn/5eivjAPW1p8OVMZ19PfeCcr/LC3ppEwGf29pBVH7NoN59aop6Z7JZHd3WnS2LbUe6kNjjg9zaOW1d57V4fV5Pl5Fmu/08ZdpqrH53VKZdpJVt3Tf/lbfXlx36ZXfO6eg558b18/G91fOOXgL89+2PvHx35U3b5AHOj2d/TvNW9xXZujdtJr3uX+XZPV56z/YuY0rfvpOcvijj85G+eYu3V9dGS3655PHz19a5tIkDOva5EgAAAB9XiYxX9+F84AbnvZYZ2Cj3gXu9avl+8/etV40fhavGB3cGdECclhy3DhIEK5PrviSepk/cfZ/qHRlM5pvy6SDi/UbX+9Nw22093LnaOKZ96n4p49dF8LNI4yF9fs53mt+iS+peC4IsH1JTvoUV4AbDLIjiQ10+byc7dMPyK1xN5Nf22tL0Pq3Il2CVnqK62/SnKQuJad/VK17c7Hxt+sB56iJp2jc3pKXlGzQL+7l1Hc3Dc867jn59n26v0WrJY+n3qtr58bzPaf7q/lCy674no1JzC59nGeud7M9Hekej5crn2sRgz+N6n89fG+ffJvzg8wAAAAD8KQy83g3ch3P3AXu1iOZMXK9avogCCq3RwH1M3YH70L9ZNT65YvzQfcQtotksm1XU7Urz91333HCXdJ+eSgQc3X7MRzpoC35fLWSaWMH+Xl9nOJVptPGj2bvuZz+ieqy15LHwzalLJ7ymbuXjkroLlLogihtk6gB4u0iQLjSlg91LH1Qei13dW6+uvL5w/tLMtXDzOdlqNFsualuDd8dpFLjOrTvTn2r/FfZd3WHUm2YtbrYct7d/H7uZ55ayHEs7to2umd9Xs33tY4lbTipZM+gD11zfNDTb0X552xM2evKUH+FcL5q37eqntk8Ntuf6+qHb5mKHvt7P+fE8z2ne6v5ANGitGYkLfS+3ZRvG5pUuqvvqZVzKuB09Z7MP0fN0m7G6f3d7n+26yUIP26r7jGTL59pWdxouFKgB2D2+VKnw+evc24Q3LJAGAAAAj/IDrzVdHXzz4bytl+1tx/5LmfXbbnAZ/CoN6b2PGqRz29QP/TogTFsxPs/y+7MbJESrqMeet5xJ/9kMeGq3krmWj9JLY3U/AuuBc7u/vkQuvl33+2wsY1fe/ee63EOlup/Ji1lRvvGt4L0xc5uu3r4fr4zn5MunYKAb0PaxzY4L7lNhttHEDegveFx5DPXOwzaLWgfpVxnQ//UnCkYk08jqd3Jr2ta7wOz28ZVkJrza/tT1jfYS3+Wsb/qJvMXNzlMYWFvTS8td/2uvYNZ+uW2CXFnBZVW/u90e36up61PH7y/TXro7Zm6bfde/lrqs2MP58VzPaT7r/iA0o7Ul6+k7+vpeBndrnY3bNujfkIeMHTvLMuoXBGbegsUwUT7303Lcl7ZrXNF+jVK+tMlQ4fPX2bcJj2x/wXysAAAAqKow43X9wd9+ujZmP0x+ROPbDlmv7kO/GxBmbDZbcmCatPwub9sBV/6lvc1HMx/harrbfHBHUqXul+PXKHul8ZA7AGpur6lbyOtHX1EqQ91eEy+38rSer3ITVAkzemIZaLWG9HbN9L4msQDCSqbP1zh9hbP8Lduc15vP8YzFRLC/dpu47Hv7+F/JTxYO+tPgNyua6sBtf5+5Dk6mKY+2/WRF7ZdjiWZWyQ4uh1M2KJ+Z15XPj2d5TvNb94eidZ9+ulrK96jS3h9Xa+dZxth7uBhmfwEw65v90lN8ySmF1vb5/HUZbeIQrnGKHAAAAPiVH3gtylKzl7TLjby7kjbDYpixmIS7tx8EuUplHO2rblardc5yTtPKdT+TaNxfk1bWfAOmLlbTl4z3JSnl8sqMzKnj8rRfNZ27zg0ug4ygLc1AS2RTlcv0Ptf6OpSmDMxCS6vp886LSn0cvySa5vWT2LhZ+IXHYhpkiSUe334ZUHCpa3Z/6lqemergopg5p2X1Jt9z2s+uweXGg6ds9QOdH/fi85x2wLr3Ji8o6Sy/v22OKZWWKXyWZbTziroiFkwsOnvZIRva2Ovz1yW0CY8O9UUNAAAArlOJxbXKKrl4TNFg9RhimWYfYeGE9LqPDcwyMq6iDJuVvOWNpq7N4jUzm2psL//dKdP7vDR6Zu7a1NsOC/ps6bylve0gfXNZ9zW3q6VEsU8bfAuDLK7/GYdZsQ2xs4JsF9bKm/7jHPrTA4iy8J1dLvVNZhUH4kEqzVafy2QykM7R5gspeX7cl8dzmu+6PwmbaZ5S92dZRhvcLPMeFpQx1Z79xYdoEwAAAMCJVAy8mmwu5/3iMQdS3yx6NJhMZBILFI22c5XmiV1WfrELJ5So+9hlf2lz3ZkMm8xA43XKzTaKXf4bD5ZdNw26RscgQdeNKAPMBEfCxVvW/U90LEfHccmFtT6kqOxrjZ7p49/fRmU6fdcXPpt5r1W4ArtuYzLoSNOdV/za4fx4Nue0A9T92fkoZTzW569raBMAAADA4XjMeD0GNzgdTGQ+2ix61FhfEo48dp7B5Fx30eJHOXO2XYn4Jdk5ixmt2SzGI37h4NlimJj+4N0taw7FNARds9i2FbaVcPGWTTZrNCdldGnuF9kkvBa1RZS1HLc3q96nrOZfa7Sk584rmuU9OOqqeZzTsPExvhAGAAAAkOQ18HrYzKxNYKfXCCM7K1lMh9LtmsWP7u38m9cls+5nL1Gd1FoSTfVqFssomLPtKpjV57G75oCgaybTtsLAajiNQHjcboOz4dQVYUZs4cJaH5+2p/gXAjm3ormTddV7Xc3f/W03NQhbk0ZvJJMDLMf+vo8+/3Oa17o/U+dSxtiXf4n5ns/JNbQJO0/tpX6xCgAAgPNRMfAaZmWpw2Zm1TtP0SWXCzc4bbelP57Jcrn7x/pLGeDkK1v3Sxmb5Y+3qx+b+eTOcnGxY4vNl7eb67sUPK7emUhv25iGBF2TbNtaz3lo5ncNE823CzEF88CGc3ZeZeZbPKP8UAv0LG0QdjgVG4OttR43AfBK8vvo8zynHafuD277xYVK1v0HKWOsfR3yPPRR6qs8ezxdQ3kBAABwWNUCr7HFIA6ZmWWyM90gSi+Lr/RSsezGC52jc5e6t6trr1c/rksnXAL7gy7Oszs7X15NbnOXiLZz3l35peD1jjxFqa7SzVtq/GrNZDvjhwbFwqDQ4odZXTxsf5u2F152nLuw1gdmM842werDWs7G0m8Po37Sx3kht48+33Pasev+IOxiYylXdJxlGe15usx7mBtc9utDtIld2OPpGsoLAACAg6oUeI2tdBsLIhyShwBvbNEpkwXqhV4+mlhwYuJz+xu71f1MXqL5BqT1FGVa7RfYOU4Zd1dlv+KZwcn5cGPqd3K7jZmUmabhXOurqqYMRq0gwLGS6TOZ01miwMWNfHsM5neNRUri87wmpyK4PDZLbvcV/Zff36LAR2yKlEOKL1ZUVfk++rzOaaepe79s3aed486zjOYLGqdREHltPoZ9r3Pg6YI+QpvYib1K4WKvigIAAMC5yA+8ug/YT4Nm+gCu3pEwaXIddDla2mR2Jki9aQJiBWYv09hAYpRVzlPxXPfL8avJeg0raSGvXBYeiWUGu/rPmOfRDniveZqGaHE2Z/G6w0Jc1ye6dLUmjfWcnit5S0RKtn/TeJCHdSrbZWdT2yy5nedJTAYSexPZe9rVel2a7lbIfqHieoLtNBBZvPXRZ3ZO81n3h9LoZc/D2xxEU59knePOtIyx99CV0b2F6VwZo/Z1hPPQJbQJr+yX1R6y3wEAAHDVCjNea+7D/2gyiA1c682OTLaZbm5YOX0+cNAlkQmiH/rtytP1pnQGExn1TAaIoxkjmWMDN5B4HsY26sq5WdE6OUavu+03OwOZuMePOdjwW/fxOlSr6UtOFtY1mknftIlaSxfZsW1oswK5nc/0aq+st1MMOIvCKNWVe7d4W0qW4zbwXwu+G/GQCXlCNktueywl+093R11vwa/WrG8XlqpJazSXyaDzPoiqz3f9op4D5nPXXwZ3R+7kYTRyj7n+vbN5fmwL7vd1/x7rV8v1jfv30ed9TvNX94ejbWq+rvvgDqfedGWKoq6ui+5nvo9nWUZ9D6OdWreLQeIcVNf3zZUxal/do5yHLqFN+GT7L79XRQEAAODa/PP169d/f/78GfzquIHLPBy4rKYyfLuVngmwJOmH/sLFdBLb7O610q1erh2tnJ5mtRjKc/+X3L37u4UM7zMGYPWODJ5aEi4snW8l0267INCZsp9ly3yIurdcWaOAQE6dFPJUxp0V1X+F/bKCwXt2zbvNrtta2XkZPe2XB83B3GSDlfeure3xPma2V59t4qDtq4qmDOY9kyE8lPt30ZJEO8lqI/Y4LmpHtj5SXzODfV6Ftrr5oiLvSFJ5fZF+2fFUYhuhlG3F+r0iK1lMn6Wf1QgS9VKtj07pFxJOe07zUPc+mbrXen39lL9v5c6PByjjLsdnBg2uPrXyz0H63uW21ZCnY3njzNrEgdnz5WJ4f71ftAIAAKCSwozXX+O23HeHslhFWRhqtXIfqLv3uwX+KlnKuK2rTy/cawd3ra3c4NQNgHVf1oEw93fPur/Bw85q9Sf4KcVSF1XZrGo9dU9KFHNt5e5cuNeYDp8POo9akve6t/OWHW1O3gs060v7vivDaVFbA8qKzx+aniEcXz1c/v6++DY267el6/qwrL5V78ztn10N6Dbuu+HxmNpBu+NyIdPp0L1WSpDH9fFttw/D6dT14/p677ex7uPXz28XB7KMan30uZ/TPNT9QWym6Vi3LVfGeN2buiv1Pp5nGZdjdw7a7lNwZ8jdsU9b9eNc28RhzPruuAt+bvQuN3sXAAAAp1WY8VotOwI7OXDd1zsTGa3Tpg6Z2QcAHxTnR+C62GNeM3g1mMxBDwAAgB0UZrzio2jKY3itKgshAQAA5Jv15X47d3JDeqPEfMwAAABAAQKvV8KuQM9CSAAAACUEwdfNxAo1afU2C7sRgAUAAEAZBF4/PF2xO5xiwFlc8Ur8AAAAu9K534P5qtdqjSAA23GfsgAAAIBsBF4/Il1VeT6X+fo2ilbd1jkJiboCAADsZjmTcdHiYgAAAEACgdcrsF7BethlIRgAAIAqlkuZjfvSbrflns9VAAAAKPDP169f//3582fwKwAAAAAAAACgKjJeAQAAAAAAAMAzAq8AAAAAAAAA4BlTDQAAcGT1zkRG4cKHmVYy7bZlvOckks3BXHqN4JeK2wKOLXaMLIZy/xEWB603pfP4TW5vGlJLHv6rlaz+/pW3Hy8ynh35QPW0X/v0OcfoCwEAAE6JjFcAAADggDTAOB/1pNVICW4qd2fNPdb69iW44zjOdb8AAAA+CjJecT404+Lum9y2RF7v+3L83Ja624U7uft2K7c3bqBhByDrjI83eX0ZS3EiSl06k5EUJnC8s5DhScp9DnzVfVy92ZHHh1tpmA2uVgt5ey2bUXSY/QKy2f6DjFdcrw+V8docyHx7MK5ccZ7lxZ047OFYr9fly92dfJPf0h8fqaye98tvn+OvLwQAADglMl5xUnUNtg4mMpnPNxkXrYbY2NbxbD7gj3otaTUSATbl7qg1WtIbzWXSqQd3wo9D1H1TBpP5eps26KpqtYa0eiOZTwbur/LQJgAAVblzycM2GimLYVv6ieCmWi6XMhuPjxd0Pdv9AgAA+FgIvOLoNAtRg63z+VxG68vbaicKtqZZyWoxlWG3K/f398GtK8PpKnhcpNYaEWg7CF9135TBvCeuWTmawWO21x3KItxcrSG9eVHwVdEmcJlm/bC96o1sMeA0vsin7Yechfw4m/il//2izwEAAHiPwCuOqznYZhCG9NLvxWIhURjrNH6/DqXrBgrtvl46bkcLmu3Rlm4s0PYk2XG2pYzbdvCRc+tOt+VeTV/OfpoBvYxQA+bzUgHL97bPH8Sf7a/u9TV6EubwhBk8W8uZ9NtdiTbXkIecjfncLwAfnWbJh33khP4AG/XPchP8KKs/8iv48eTOdb8AAAA+GAKvOLI/6+zB6XAo3e4m+Nhu96X/8id4/FSWMpvN3H+zLcfPJmBXk9u76qPq5mNrk+27msrzBaSG/PoTBRqrWP2xQzyPdV/vyPbKSVenL6mR7KWMn6OAd631mBFEPk2bAAAAAAAAHwOBVxzXbLzOHhxrQOv844wJS/n9N/jRqX2quMJvc7BdhGLxOs4N8J2L5bYCbuTzzjHGunwO0mv+/t61tOXqvn53u522YvX2PbtOl9/lbRswzc96zee5TQAAAAAAgA/jn69fv/778+fP4FfHrnC6mkq3vQkIvV8dXOc9LLmid8Y2pV6X5t2jPNw2YgvXrFYreXtOnxtKF2O6u/smn25v5EYXtwnuX6u6+vm3W7lJrlyu5VyJ/HXb/fPje8mV0Pfkpe43CwJFCwHfS7mFgIN5MfVH+x6lir/GWuFzCtQ7MhkF2Z97r+5/gP1KiK3YW2mVZbOvO23n8GXMZd6n8m0rFLax/VYnLlP39m+K9s/Xe+mvTZRkjxX73utCdY8PcmvnTHad1+L1OT7dQpaM/ni9jbdXefl+xC9LDlVGlbaNdT//V95eX1L7+Og93q/tbldnL9U+7DFe7vViq79nKdtPnFndH1LlzxOx89aOjtFXWFXq/mBtwvU5nUSfY54fa9fHrK9KfWHKOXon+37+KeJ3v7z2OZl27wvfObM+BwAAXKcSGa/uA+jAfcB6tzq4+xCzXtF7v3nM6s2B+yA/kp6uYp/47FZzd6Qljq0/6AUr3+u+vPvIp/ftuk9uQLFd/Vw/mL3f6Hp/Gm67rYc7VxvHtE/dL2X8ugh+Fmk8dMrtc/NbNC/mhWRfHl+Usanil8vvpt55CgYTbjBzzMG3RzfvUl41sJozv+F2Prm/snPCq8e6D8WmTbj5vOex7X+/9rHpT1MWqtO+q1e88Fe9k90fr7fR6rm+dyKDfTp7T6qWUd8r7U/nqQv6aT/fkJZuZ9B81xaitpJ+biryJVjB5lTto6pT1v2hHOTzxFk6TN1XbhMazJ2n9DnB8+eTjpzi+oFL6AtRxvn1OQAA4HoVBl7vBu4DqPvQslpEc3KuV/SOlgaX1mjHhXbcB/ZRz32olZXoiuPd7WJDQ4lChllW2xXGo+e5m12tXPfpqUTA0e3HfKRBzeD31UKmsf3R7brfh1OZRhs/mr3rfvYjqsdaSx4L35y6dMKJMVdZ82IivgLwPpfLh5ryGGSKXMKCWjHL3xJeWf/usnq7UIdrm+/mO/3yyd3r7LWIh6+6z1D7tOcg/8D7VYbpT7X/Cvuu7jDqTfMW/tpkLunzleuTp7qgWNTfdKfhwncadCgTZDuAimVUzaA/XXP93HDbp+p2zJy/jZ48JTYUTbGR9oWDZmWFXzjMJbFunFNlio1yluP2tiyxm6mfvZ247g+r4ueJ5Vja9nnueInmfNYMPftY4nakL9wOUvdV20QiU3j9GSfYhn7mWn/GcZ9devunZ+7FT1+YsrimWURT34NYW3t3O0S2q/K7Xwftczw43z4HAABco/zAq/vg22q4D5/ug3XbDRKiS6uWMuu33Yfj4FdpSO/9aDOd26Z+YNcg57C7WXG87FB0+f3ZfTCMVhiPPU9XKzcL5kjtVnLXudEP/rofgfUH/3Z/fdlRfLvu99lYxq6895UumdpRpbqfyYtZbb3xreC9aT5uLz/LnRfzytU7D9usYP0gv2+AervqvtvGJSyoFfdLtsl/ySzRMLAaSAZm61H0aec2tk/dvw+QxYVZiBv7zFnrr03szfanrm+0l00uZ33TT2Qs/OX6wScT3FgMXZ88dv1N8Lv2N8txX9puQ9uBamuUElw8oKpldDSgsu3u9ZJl15fbK0y1j2+bIMS7oNGvP9Fj775wuJNb05Tetbvt4yu5uITXc6j7A/H6eeJMHaTuK7eJunSeTNB1GnzGCX7XDzv6GUeDuNv6P4ZL6AtRyrn2OQAA4HoVZryuP3zaTyzG7Mf2E7ZG93bIenUf2Nv92AehUpKDo6TYgjn5l4RuV5NXGgCzH/zPRJW6X45fo6zXxkPuh8rmt+0nVHm9uEDgkcQGZSuZPu8ZhHfbCZOLL3NKB7OYVCJLNGpHgURgdu/LrXeoe3tc1G7zpgZpSnJ3d+arTVQW9KfBb5adTiFt4a9YP+gGqJlJeLO+mBlMyk9h4s3+ZdT3OswwX79PWdHx5diUMRE0MpnehV84JNvd9vF9ptg4Byeu+0Px+HniPB2y7iu0CfNFr24n6zOHBnGfzRfIh3Y5fSHynXGfAwAArlZ+4LUog8te0r5DxthimP6B3W1Q+sGlQJkfen0wwS91lgGwynU/kygGVZNW1nwDpi7KX/aecsnaMbOBMx1qv5oysJdFTp93X+AhsB3c7Z0defq6jwbWtt1Fl1Pr4nhrsSyxfS+33rHuZy/Rpb61VuYlhLFM1b34axNVZfenrrWYS+TfiwefFz/yG+Ts5XQZgPuX0THzV8vqTb7nvE/ZQSOT6Z3xhcNiGtRP4vFtpvdeU2yc3unrHns5YN1XaROxL+gWP0p+5ji0y+kLUYA+BwAAnKESi2uVVTIj5BSX4ybFMpQWUvAZ+wKk131scJCRkRxleazkLe8T6tXS+RuDqQGc9WWRe0ddB8Hlb6fMjqwufWAdznXq2tHrW9DubLuMHi+f8LpP3S9ji8vppaDxxTOCBes0I0ZXLQ/u3Y3HNlFVlf7UDlDL9IM267Nsf+9DxXNGLNCzyzQXscxWk+kd+8IhDNi4+huH9dMQO7vLNtP7EqdxOYu6xz4OVveV2sR5LEb4zqX0hShEnwMAAM5RxcCryQJyiuZU9KZel2ZnIIPJRCbbVdT1NjKXsGXbZiCpC81CKlX3sUupGvLwLvvPZHksXk+WsXe+NMAWtalqATa3rWiOgcuu6+18l2bAGQ5cNcNkFg1Kt+1yu/BW2cutK9T9rL9e4CM8PHTxjJHpIzYL1k2l+/wW/IU6wn5dvBP195XEAz3i2kJ0vnh/WwfkM0TZUabdh+16fR6J6ieqm8MvrHW+/NX9QVX8PHGezrXuz2AxQi8usS+8BhfS5wAAgKvjMeP1GDbZavPRSHqthjRqNTcERp68OS+jy61z5sG6Wn4DbPXOU7CtD1DXJtsnHHDGF86KprnYtrkwy7zUFx0e6n7Wl3Z3KNNFPKt1tVqsV+HWBXViWzzWfp2Rj/EF1PHYTO9tu7+7XbfrTTbrUr4Hk4JGl63uk+mN4+DzBDboCwEAAHBIXgOvh81e2AQ9NFttbbWSxXQo3W7XzHfZjeZ3vDKZdZ+Y8zKa6tUsQFAwD9Y1ag58Btg+Wl1H2T5hgCm5cNY2OzCY7zI2sC3gre6XMxn329I28+G22/1oFW475UiJSxL9tonTi00ZkZiX9KPS9y06XxTcknMnbzO937f7sP/d1mk4tcvOmd4fV6W69+66Pk+cV92fn2vsC68B7R4AAJyLioFXe9nYYTN6ooxBZ+EGSO229MczWS53/6j0MT5kl637+JyX2xV4zZxml7m6/uHUO5NgLlbHtbWqATa7kNOHq+v1vGjhlBXRPMHRMbaZ7zIMUBUFOH3XfR47F1zRYirH3K/zdYmXCdu5WaOA6V7svI6xdm/mhNwuehjMA7tTpvdH47HuPfP5eeI8nW/dfwyX2BdeA9o9AAA4T9UCr7EFCQ6Z0WMyBmVzqXallzKZS2Fg6OLsUvfbYICzXoG3Hs03eg6LnZ2TekeeorRG6farVo7Ndv0odW0GN/rFRVpWn2lzdv673MVUvNd9HruKdcFiKkfdryOy/UKZfnD7PqvLuXTerly9CZjuK5pCI9buYyuzh9ngNbm9q28zvS9yYS0P/NW9T54/T5yp86z7M50b9Ur6wmtwnu0eAABcu0qB19jqobHB5yF5CPDGFp0yWaBe6CWMiUn8Jz63v7Fb3c/kJZpvQFpPUbbPfgGB45Rxd1X3qymDUSu4/NwNyJ+rZ6fabFc/wZfzqPtocHMjn4N5LuNZfXY6gkf5FoxSszOD/Nd9ntj7Mn3JOX6Ou1/HZQKJTqMg2tB8DOvBuaApM5bf39w7F4hNt7I72+6/PQbzu8aiLvF5XpNTEVwbn3V/GL6/MLYZd6dd7f48636HjET7hdfBXUdfeA3Ov88BAADXKD/w6j60PA2a6UEd96E4TJpcBySOlsqXnY1Qb97JbcnP6bOXaezD2SirnKfiue6X41eT9RpW0kJer/KS6XQ2GCeLV6leNXW52zbI6DL8jyCaSqAmrWBwHA8sRwEoaejCNfpDdmaQ/7rPVm8OotWMV1N5znmxY+7XKcT6wUZPXJeTztVZ1OdoVVxQADr5RVtvIp09O3vb7hvrRv3+uN7+TeNBHtZfOFxxRpzHuj8MP58nLJtxd9KMzjOt+3if85C+T3X7hddxXEVfeA3Ovs8BAADXqDDjteY+gI4mA2nWo08u9WZHJuZD8Wr6fOCARCIbQT9INc0nKfchvTOYyKgX/6CuWQuZn7fch7PnYWyjrpwT92G7Lqaoa3W3/WZnIBP3+DE/wPmt+3gdqvxMvyuTyK4pmvOzlLoZuH+0rJjYdB0byay+2FzKaxnZZZ7rXudjnbvjptNxx789Xt0vuor5KJqsVYZ5C2ocok2cG+0HzQpC2rcOtN6C310luGpwfZ+rs6jP6cqlzbYw69uFkmrSGs1lMujE+tY197v2sXo+mc9d3xvcvfWu3ae06e1ly7XgOy7fWZWXxVvde3OAzxOGzbirtUYySfZDSsuqt+DXQzm/undigTHdJ/2ME/yq/U3T9TejnjTcUTQ1fdPBXUlfeA3Ost0DAICrlh94XU1lqJ9eag3pjUaby5rdzQ5I9IPnMRaaefdBqhftz9x9SG81arLSRTLsSsQauFz/TfoHquWsL/fdqSzCv3ej5Ibb7sh9SNtu291Gbvu9lvuwbUdhh3aAuo9ldJwq29UNqmzdbm+x7BZX5rS/mR8w8G1XuHcavbTXj98mRTuz46r5F8UuNLSWMk9qMkiVtcDQIereHTetljv+7bHsjqNoFfOFDLv9/C8eDrFfZ2g5bkt3ugjeK9cHar1ty+T6Q+371o+tZHGk/t6/pYzbXRluO3ttIq1Y37q+ud+1j9XzSapku0+d5iU+j+V1Lqxleap7jw7xeWJrHVg0ZU32Q+vX0M8Zj0dY2PP86l7F618/44T7ovvh+pugf/4e/MWxXEdfeA3Os90DAIDrVZjx+st9EL3vDmWxij7AqNX6g/H9ET946gepe+kO3Yfi2K6s3ABputmXvi6S4f7uWfc3eNhZuYFvJjdI6q+3O5Wpe1KimGsrd+fCvcZ0+HzUrEXvdW+DBkebk/d6hQvrqNxFpS5SieDS8ruEsw2sHSn4vPz+KlM3eNbjJnHkrI+d6bAr9+2+zBgzby3HfWl33UBVgw7JPlD7v+lQul1d+f2SK20ps772qWE5kwV1tM0sNNNOy5sWmI+3+/Qs6Pg8lh/uS5e9+Kh7nw70eSKgZe26c3fWZ4p1WUtsx49zq3u1CYy9q3/3y7qvOWH/fB194TU4x3YPAACu1T9fv3799+fPn8GvjmYkhpfi6greeZfiwq8D171egr2Z23IlUzdwYNwAAAAAAAAAHEZhxis+iqY8hvNVfsBFggAAAAAAAIBzQuD1StjV2T/kIkEAAAAAAADAGSHw+uHVpbmdYsBZDFmFFwAAAAAAADgwAq8fUb0jE7MSby8Muuq8sURdAQAAAAAAgIMj8HoFdDXXxbDLQmkAAAAAAADAkfzz9evXf3/+/Bn8CgAAAAAAAACoioxXAAAAAAAAAPCMwCsAAAAAAAAAeEbgFQAAAAAAAAA8I/AKAAAAAAAAAJ4ReAUAAAAAAAAAzwi8AgAAAAAAAIBnBF4BAAAAAAAAwDMCrwAAAAAAAADgGYFXAAAAAAAAAPCMwCsAAAAAAAAAeEbgFQAAAAAAAAA8I/AKAAAAAAAAAJ4ReAUAAAAAAAAAzwi8AgAAAAAAAIBnBF4BAAAAAAAAwDMCrwAAAAAAAADgGYFXAAAAAAAAAPCMwCsAAAAAAAAAeEbgFQAAAAAAAAA8I/AKAAAAAAAAAJ4ReAUAAAAAAAAAzwi8AgAAAAAAAIBnBF4BAAAAAAAAwDMCrwAAAAAAAADgGYFXAAAAAAAAAPCMwCsAAAAAAAAAeEbgFQAAAAAAAAA8I/AKAAAAAAAAAJ4ReAUAAAAAAAAAzwi8AgAAAAAAAIBnBF4BAAAAAAAAwDMCrwAAAAAAAADgGYFXAAAAAAAAAPCMwCsAAAAAAAAAeEbgFQAAAAAAAAA8I/AKAAAAAAAAAJ4ReAUAAMgxmIvM9TYI7thDvRNso+J2AAAAAFwOAq8AAABZmiKN4MfpS/ADAAAAAJTwz9evX//9+fNn8GuKurs9uls46git3O3V3Wbr3/K5QYt8c7cbd6vpHQHdxl9304HMUu/YQ8fdbt0tbbs/3K3M/vkoY8jntlTW9hbuVqXeAAAope5O44/y4E7itcTJduVOtm/uZPvdndx2Px11ZCKtYIsLGUp/51PkMXQmIi3dSXfeve9v7tuHZryOWsEvFbcFAAAA4DLkZ7zqpXAjd0sG/ZQOQnru5gYkufRx/Tvdhh2vKf1d79fX0ADqLjSYO3c3HcRkbVdfVwOXeXyUMeRzW7rf+rdZ29u33gAAKKnuTmwTd7LpuZNOPOiq9J6GOw0/yF1wT3l1d/oKg65nzH3WWAddHbJdAQAAAOwqO/CqAb0w4KfZml13uw9uQ3cL6YCkTPBPMzTtNvQ2dbeQBlDLBhE16KpBzJDuj92uvo7ddhafZfS5LQ26alA1HJFqWez29Gd9DaX1pvUBAIBHGnQdrQOuauVO41337377r+tOblN3b3g62kVdntanr3PXeQh+cIX8zhUmAAAAAHaUPdWAZpMqHVG1Nz/GhMFBlfU3SoOCedcOahDSjr40qJg3uLGvq4r+Po+vMipf20r+3bO7ZZVPM2J1RKxB7eQli+H+ZNFt7zIdg2bzpmXe5imqMy2rpkklp4pQ+lz15m6/3S1tH20APq0OLNvONJA93vy4V7nS5L2+vnbadBhatnA/8iSPkSy7bNO3qmVMSh7n+uVFXju172NRW0gTHi/2uXabRa+v0rZh+TqGkl88lWXLcIx2v6f6Or8yakgLuS94iYGr+qgwK3dSaMc6zfjjZaW9btNtKaz696+TpBmdo+DQHbqtFXe0+oxHdyAlL+jXV9OmoBf1/5Hv7t9y/crR/ux3mX70/LT9O+Q0AHbboTOcasAda/PgDV+446dfceeYagAAAAC4PukZrzaDUgMnaXTUpyNBFR89xRUNVDQoE25HFV2v+BT8X1UJuvoso89t2fJpwCWvfDpnrNongKL7oM/TQaUGjGwZjkEDdRpY00FoWn3ofXrTx3UfNRC3Ly2bGeweLTCpr6t1m1bGsGz6uNaFD3abx3o/D1XGZD+gc0TnsZcA73o82H3jUuKz0yhozM29OsDqaq6z9nXobi7nn6/DtGkX9OurhRf1t9zrhofHr9jJc38rt6U4Ow3ASqZeA6LxbfspwWHYbNeXs4oIAwAAALgU+XO8FtGMSR/sdj4F/0+j4+9wRKoBtH2DrrvwVUZVtC1bPg0qJ+njmuWqgSy9hYNClReYDKcosFMVaPabHfFqcLNsFEGfm9xm2i0r21VfRwNySvdB9yf5XL1PM1Orjsq1XoKMpfW2khlG+nvyte3NSns8vCW3q2UMX1cl60x/D2ldlK17rRO7Hbu95PtZJVhdxqHKqML2ESqKrdkvNtQur6WZukqff4w+RSXrKuuWdgxpACjtb620x23g6FDt/iC+5YReO7FuMF3f7Wry33B9CtnQTEv72OZfcdFqrpnmB4WL6aJVmuEbXs6vzXDq9sde0K+X9IcX9ccttyeVG/kc/FReffucv+8a/qM5BF+9fldlpxhYyHPmd5Un5/rP2+BNWbwer2sAAAAA8LEUB17DoESaMBiSHA0eis1600vkffFZxirbCiMI+nhylKeXBmuQKxydK/vzLnTbGoTRoI6dC1dHw1XjCGWEo24NdGVl9ep9OtrXxzXAs++o116unhUI9k3r0AYONYiczJYKg2ehqnUfvp/W7qvdlHfIMtq/scdKUTDVRnDyjkNLg9PhcXS2EaBr18hMeK67N3rz9p0qc7K37pr31XQdVC8Wcr13h/HYHTrxDk8nFpi5+zch5Gf5Htwv8icody33O8t0X4LnrNxW4mwW8eLdgV1FR5625dWJBc5X8zHoGlwF75Lt2nT91GQiMp8HN/fzoErfDgAAAOCipQde7SBDRx5pI0sbBKl6ee5N8H+VHAFaNuut6ljQZxl9bMsGgJJBZX1uWHabKWeDpvvS4KYNbhWnj1VjB6CHDnRpdnBIA4PHYutQ36+8oLHNCrXZo/uybaJs8HEf+5axTPsKo2zaLu2xUlQem5anx1KZYMdj8H91rCkoUNJi2zWlTzdQl7ug01y5zsTnxQm7aLgOf7+42sAc8hp01ZBrGZv5XZNu1icRq+leYR78m8ROQRufg1Pv3/U02pGmCXQvPH7HaacY0CzjqifxA3JV+RCcc0tnu7rnTOauG2+57ic8lyv3c8O90RqA/RLcBQAAAOB6ZGe82mCJDkA0iBWO63QEF2a7aaCn1Kgkhx2kxEeAETumtKlNui+6b+Hl9/rz+xFmOp9lrLotm52YHI+Gz9XXsI9FaU/V2OCWvhcfITtHg99hu9J6q9pGy9K6s+25KLagj9v2fAl1X6WMRe1Lj5nwSwaN+Oj7Zp9r+4E09kuEonlhVfha9nk4Ez9M0C9tuoG7IBavYdesE8eh2AzbhjwUNswkDYqGjU+39rxn3P/3NuBcexfWCwOrqubqKrmPn4LD+E9ihlf7vPAxnRJhMw9t9G/i7mmWLnl8ioEzW0QrYZvt6vwos6OuEiaj6Dkr159070Xu9dZ1pyDtX9yDGpQFAAAAcF2yA6862LDZczqi0Mu2NaBoA4FVs8RskFRHslmDnOSYUkd7GmjVfQlHO0p/1vts4DOLzzJW3VZ4nWgyABTWT17dVGWDW6pMwMoHrZeyo/ZdaJ2FMQ19Tw5Vb2ls3ZUN5tnM32PVfRWHLGPaFxD2uTZDNY1Nz4viWuls3+MvrQ8ezdwBvOma3k83EE0z8ObtO6jy3uTZNP7dF9r6ZprnQl73/mbol7lI5HOiOw0DqxvJwGx9G179nXj1+PP0QNFZaHtuj+P362JfPfdImYzfy5liQCsxzHZdufNHmdNH52lzylf6nLYr4LZO3Q8z93vXnf/taRYAAADAdcif41WDhDaYqMLRhY+Alo4Sw6Ckeg7+nya5ckg4d6cGM8NL7/Vy8nBko/sZ/k0en2Wssq1wDJycaiEMyKZdlu/zukV7nW6U7uSf1oEdfep7pNmpvgKwGgEI25TGRcoEzX2ydZc3bYZlk/Wq1r29HP9QUzkcsoz2vQvZqFpRMDXZvvKiYWFd6d9X7ctwIN+3zbjh3syom7DTDHzfO2xZzYvp7nWhLbt/+ewcqhr137/5Lc2h9Sl2Soi/hooHZr9s6y+e7xoFZNXtOk+15v5q4U6w0XJfdnEyDb/mBV8vaIoBx2a7vpY5f7iCt8InOFnPWbpiPyc/HwAAAAD48PIDrxoQs4FRS+9Pm8t0FzYwqgOSsqPncJCTXNBHn68LDNnAS9E++izjIeorL0jlcz7WsgE0H5IBdo0PaFvQDGYNlO0bhNXnhZMmahs4RVqVGYDHgo15bNzDPn9XWnf2+YcKOh+qjDZyYzNQ9bi2gdii9DobcM6aF1bbSrgfhwpQw4OlfN926LcmIdpOM3CasKvu29iduKLTTaswIXujHvseMRn43NWv7R7cmO1GrxFNimDrL3r8b2791dy/zfyz/djfzdzvXRN41uBr+oFppxhYycvZf8fxbcds12biCoBzLx8AAACA48oOvOol8mHCjI6uNKNUs0stfVyDZfsEynT7Id3+rkEiDcRkjRdtYC+Z9GP5LOOh6isMDiUDXDZwdGwa3NRy5N3yyqjvm9aPDaaFdIRug7C7sIH81+D/H53Ws8Y77JQWKtn2LkEYwNA4UTJ6YQOxRV842AxZPUbS4kE2Qnb869SrH0NXZClvQegwmqf0tNMMWGN3uolCr/svtLW/ZeqyYl+CiyU0MB3VX3gBhX28+Du314zTczLwnDYPr51iYOrq6lRB8nLq7pwTnsZLZbs6n82Xo6tjfoEJAAAA4CKkB15t5pwGx8IBiAZD0gJmNuBVhgaJorHYfpl5eXMy6tguGg2mB158lvGQ9WXLYT25W9Zjl0IzUrV+tA2klUUDiRqAKhvJsPUcLRf+sYR1Et60LWlZw/an9ZjMBLc069o+v+i2T5b2PjSeFkY80jJQbXm0rEWBfdsW0uaUDV9L/+68Y0GQaLqBmty5t/4cphmILOXVNLfszM9d1d2J0i5lZf/FD8s/QfdpA6vhHLIamI4W4LrZHjjhAlp/C5PWF5mdiYreGy17/FCzUwxo1uz47A+1x+DLq7LZrupT2Pc6f8teAQAAAADgarwPvOq4zGbOpV2urfdpsMwqm524b9A1OaApujrTJgEl54f1WUZf2wr3Nxo5x9ky6Lhe6/BUWZ12Xt2s2y4jbG0DOkWEBgyTQWqlgcUysQytZxvA1bZ2DbTMWm9af1qPlxhItItqZaUw2rZh/z5N3iJb9tg71aJavo+hDy053cA5TDNg6WX3tnE+lD4d+vE+sBpfOGu2beabwLUKF9D68+5UGs+gLcqItXPM2sCu7oOdYuC59Kn+VGy269tp06gBAAAAfCDvA692dY60IFhIR1H28ay5FC1N09kn6KqqTYMX57OMvrYVjm6Tc7qG6UTh32sAUgORui2fdWIDvnbcfUwaQ9HgqQadkpfKl53P1s7xq23t2MFXG/hNBvyz2DZkn59Gj5tkgE7LrPVWJgYV1m/Zm/590iHKGLZvfSyrHC/B/5X9siNNMl3NRsLssVc2rQ0nZacbaLl/m9PIqacZsPqmyypaaCserIyCoXFLd2BHi1npclZZfm1PH7XgQEsunBXNA7tZgCu+gFZSmEHrT01GJl/X/huZQ1mzhcP7J0cOXkfZrnpuHfOlBwAAAABP3gdebSClaL4yGwgJA6pZdBRlL+/dNf2lykAomS3rs4y+thVGEPR+OwoP60nv10u/w0vokwExveRcH9+XHYefKgvQ0oCYZnCGkvWSRwORIX3esS6XVzZonZW9nGTb0KmC3rvwXcYwg1uF7TztlpyioygL2maZh8FWbUPhayWz0PPY/U9j22ZRP4A92EvaN85hmgFr5hpUFLBsyVPs24a4WeJbuKIE7vI+u6bYDC75jzKCoyzWzXQAYWB2kxGbFGXQ7ip/oa7zZbNdp/Y8DQAAAAAVZS+utau8FBkNSkTXHKZn0ZVhX6NopGoDib4yQ32mASW3pePV8L7k0tgagAwf0//bgKQPNhilziUL0NbJrmwd6Yj6WMHXvEvcs9gMzHMIehfxXca0OVjLKHqeTYfU9q2B2l0W1SKAekbsdAPqXKYZsOILbdXkIdbs436Y0KtmyJaZSyWLzaDVjNa0+Vuj17PTAYQZsXFRBq3uW7igWbq6+U4iPi1BMmM3/V/XfP+xkOH2/vbO381WcRe+UXtku/4xzfKm6AsaAAAAAFfnfeDVZodmjxo3bEJPXoqMzVR7Dv6/Dzunad6+2UCiDoqSAymfZfS5rbB8Gsyy43Ddf83i1Eu/7Rye+v/kpeH7sMGoXbIAj8EGhHcZEOvfJoOvx7h2VYPWNj5UFE/Rx88x6J3HdxnD4G3aNAppt5A+Ly8mpG3A7qcGasPXSusXkmxgtujYLjNHLSqJphtQ5zTNQGTpTnBRF1qLNfu4mbzEGmdPJrmNOV80lcCNfHaNdfO6dv5WOx3B4/Y7i/QM1aWMY2Hh9KkQNsL5dtV5vieFXP/UCt6ofbJdf5tzeS3vCgBXiU9FU6QAAAAA+HDeB15tUEQHI3nBKjvvZlamnn2+juV2CZ4lld03G0hMW4DKZxl9bysc75ZdUKoqzQQNg1Hq0GlGWqay5Uq2nV1pW7MTI+qg9xh1atucvo958ZRw6giVPYnj+fFVRvsel43a2LZQlPlu99O287R+IckGbvXYzms7NqO/Sh+HHGOTQ3muK+THg5Z5NCPUHg46D+rENbJ9wq/RVAKaPauNVZuinYrBZgw3gkMhb+Esm5Gr0yak71Vz+2p6WJ7re5KvE56XXYH3mdt19hJ1E1qxnbSqcvcNRptuBAAAAMB1SZ9qIBms0uCcHUzoz7poUTTiigcgQ/p3NsMjKzi7i+S+JQOdNpCYtV/KVxmVz23pNAzhKE4DVsltKf1d79d5L/ehz9d60+fbYJTvKQzS6KWYWi59ba0TDWallU8fs21n3+kptJ7t+6Ovfejgq76mzRzWjO/ka+rv9v3Tv89qE+fIVxnDdLldApa2HynKRM2q07J1nQwwp5VR22qoSkY/Pgi70Fa+met0h1HYzp0ieuvw68A1rGS3mO/9gljJbNYoOBuyUxEkzVwp9ES18T4orDPJTtaHxMZw7y76pNzxG2a7Lvb9fOKq+TWqKmm5vrBp3ry6e42Ju09PtVPbZwIAAAC4Cv98/fr1358/fwa/GhpQiEZV2XQgkZUlWXYbVt72QmW2qwOhopGgjzKGfG5L2QByHnvptbVLUFZH7Bowygt8ld2fpGR5NeBrA6pFdN/sYlmWrfOi9zv5uhpkLhPos/WYVddZfLUJu+9l28+xlH0/0/ZbgxMasFW7lsu+LxrlygukJttumb7BKvs+7rofZSXrpuz+JBXtn1Wl3VdUl4lrFhoN0xk/y+5w01Vvb129K3dwt2MH98AVZ/eKX7hXTzaTptvSpuqn7lXyMjyj/dnIL0vd/fWT++vwu7ki7/ct+Xo6X2o/8YodV7NRhmpxGdTAPSd/v1bulZ7dK5XpTt+ru70aBV1I2j4fVmfiui8tnDvPdN15Zr8ybGy3lcZtf+jOsb/uXJcX9peuH7rfpR8CAAAAcJGyF9fS0Y8OuHXQn0yl0d/1fg1enSIIlLdvGlTR/SozoPFZRt/1pfuvf6/lSdLtaRClSkDE7pOdN/bQtPz6mvraWrZkXSm9L3wfs4Kuu9LXtXWpAb/dUsp2V6ZN6OOnOIZ8se9n2nup9LG0MtopQXatA/teFi2ylcxk23UeR30fs8po30f9O2AtnjFaZOn+WqdR0KWmFq5RvT+U9L6F+zd1XX835fRmF8RSdn7X0Hd5C37a+F2i29f90qxc3StL90f3RZfB2jfoemKu/78NAqWL1+qnwLE7V3XdeXllK8r9vHD9gwZ1ZxdZSQAAAACqys54BYAqbNakxqA04EnwAcAZaA5EepsU6crZrgAAAACQJTvjFQCq0CzRMPtLAxyaZazzoR460xgA8rg+6CGYl8FHtisAAAAAZCHwCuAwNJqhU0XYS2/10t4wAAsAJ9B8DNa6dH3TC1OEAAAAADggAq8ADkuDrzonsfUa/B8Ajslku67eyHYFAAAAcFgEXgEcXrjQmM71qjeyzACcwDbb1Xm95IUNAQAAAFwEFtcCAAAAAAAAAM/IeAUAAAAAAAAAzwi8AgAAAAAAAIBnBF4BAAAAAAAAwLOdAq/NwVzm84l06sEdAAAAAAAAAIB3yHgFAAAAAAAAAM/++fr1678/f/4Mfk1Rb0rn8UFuGzWpBXdtrGS1+it/337Iy/eZLJfB3QAAAAAAAABw5XIDr/XOREateLg11WIo9/1Z8AsAAAAAAAAAXLfsqQaagyjoulrIsHsvw8X6F5m6n+/v76U7nMpitVr/CQAAAAAAAABgIyPwWpfOQyP4eSXT577MUqYSWM7G0m+3yXYFAAAAAAAAACM98Fq/k9twhoHFq4yZvxUAAAAAAAAASksPvH75lFhICwAAAAAAAABQVnrg9dcf2c7cevNZ6sGPAAAAAAAAAIBi6YHX5W/5G/wotZY8NoOfAQAAAAAAAACFMhbXmsnLdJvzKo3eRAZN8l4BAAAAAAAAoIyMwKvIctyW4SL4RWrS6I2k1wh+BQAAAAAAAABkygy8qlm/K8NFlPm6UZPbuybzvgIAAAAAAABAhv/yH//xH//bf/7nfwa/Jv0P+d//2/9b/vv//F/k6/96I/81uPe//l//V/m//9/+F/mf/7//Jv/7/wjuBAAAAAAAAACs5Wa8hpazvrS7U9nOPKBqDemNJtIh9RUAAAAAAAAAYkoFXteWv4MfRFbb2Qdq0iL4CgAAAAAAAAAx5QOvWwt5bXdlaoOvTx3mfAUAAAAAAACAwB6BV7WUcXsYTT1Qu5U7Iq8AAAAAAAAAsLZn4FXN5GWb9lqTT1+CHwEAAAAAAADgylUIvAIAAAAAAAAA0lQKvH75VAt+WsmfX8GPAAAAAAAAAHDlUgOv9XqzxGJZTfnWCH5cvcn3ZfAzAAAAAAAAAFy51MDrl8eejOZzmQw60qzX3wdh603pTHoSxl0Xr2Mh7goAAAAAAAAAG/98/fr1358/fwa/bjQHc+mFUdVcK1kMn6U/I+wKAAAAAAAAAKH/8h//8R//23/+538Gv2787//t/yX//b//T/k//i//Rf7P//wj//W//tfgkdBKVov/j/w/B0/y//j//o/gPgAAAAAAAACASs14TdeUwVynF1jI8L4vs+BeAAAAAAAAAEBc6hyvAAAAAAAAAID97ZDxCgAAAAAAAAAog4xXAAAAAAAAAPCMwCsAAAAAAAAAeEbgFQAAAAAAAAA8I/AKAAAAAAAAAJ4ReAUAAAAAAAAAzwi8AgAAAAAAAIBnBF4BAAAAAAAAwDMCrwAAAAAAAADgGYFXAAAAAAAAAPCMwCsAAAAAAAAAeEbgFQAAAAAAAAA8I/AKAAAAAAAAAJ4ReAUAAAAAAAAAzwi8AgAAAAAAAIBnBF4BAAAAAAAAwDMCrwAAAAAAAADgGYFXAAAAAAAAAPBK5P8PVNWRtui77K4AAAAASUVORK5CYII=)"
      ],
      "metadata": {
        "id": "JmLN-7bMtTDI"
      }
    },
    {
      "cell_type": "markdown",
      "source": [
        "### 1.2. E225 missing whitespace around operator"
      ],
      "metadata": {
        "id": "j-HrGSVHflEQ"
      }
    },
    {
      "cell_type": "code",
      "source": [
        "x=1+22"
      ],
      "metadata": {
        "id": "6ul1NKYwtyH_"
      },
      "execution_count": null,
      "outputs": []
    },
    {
      "cell_type": "markdown",
      "source": [
        "![Screenshot 2023-02-26 153337.png](data:image/png;base64,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)"
      ],
      "metadata": {
        "id": "fPIDtSCit2xt"
      }
    },
    {
      "cell_type": "markdown",
      "source": [
        "### 1.3. E231 missing whitespace after ','"
      ],
      "metadata": {
        "id": "72FwQY9ef3sK"
      }
    },
    {
      "cell_type": "code",
      "source": [
        "x = [1,2]"
      ],
      "metadata": {
        "id": "1nmqN5tXt6vG"
      },
      "execution_count": null,
      "outputs": []
    },
    {
      "cell_type": "markdown",
      "source": [
        "![Screenshot 2023-02-26 153556.png](data:image/png;base64,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)"
      ],
      "metadata": {
        "id": "FLRZXHfSuUyl"
      }
    },
    {
      "cell_type": "markdown",
      "source": [
        "### 1.4. E251 unexpected spaces around keyword / parameter equals"
      ],
      "metadata": {
        "id": "TrufDf4Sf9XW"
      }
    },
    {
      "cell_type": "code",
      "source": [
        "def function(x= 2):\n",
        "    print(x)"
      ],
      "metadata": {
        "id": "4-UbJVz-vUof"
      },
      "execution_count": null,
      "outputs": []
    },
    {
      "cell_type": "markdown",
      "source": [
        "![Screenshot 2023-02-26 154020.png](data:image/png;base64,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)"
      ],
      "metadata": {
        "id": "MUFiksoIvgVe"
      }
    },
    {
      "cell_type": "markdown",
      "source": [
        "### 1.5. E302 expected 2 blank lines, found 1"
      ],
      "metadata": {
        "id": "f_wigiVngAQN"
      }
    },
    {
      "cell_type": "code",
      "source": [
        "import math\n",
        "\n",
        "def function(x= 2):\n",
        "    print(math.sqrt(x))"
      ],
      "metadata": {
        "id": "TsmFs87JwOnz"
      },
      "execution_count": null,
      "outputs": []
    },
    {
      "cell_type": "markdown",
      "source": [
        "![Screenshot 2023-02-26 160022.png](data:image/png;base64,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)"
      ],
      "metadata": {
        "id": "CzWv-Cc8z_jh"
      }
    },
    {
      "cell_type": "markdown",
      "source": [
        "### 1.6. E701 multiple statements on one line (colon)"
      ],
      "metadata": {
        "id": "SMt48VbigDrK"
      }
    },
    {
      "cell_type": "code",
      "source": [
        "if x > 5: y > 10"
      ],
      "metadata": {
        "id": "18cRaKA71KtF"
      },
      "execution_count": null,
      "outputs": []
    },
    {
      "cell_type": "markdown",
      "source": [
        "![Screenshot 2023-02-26 160546.png](data:image/png;base64,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)"
      ],
      "metadata": {
        "id": "Cfz02YwM1PYN"
      }
    },
    {
      "cell_type": "markdown",
      "source": [
        "### 1.7. E702 multiple statements on one line (semicolon)"
      ],
      "metadata": {
        "id": "3uDcHCYzgHhh"
      }
    },
    {
      "cell_type": "code",
      "source": [
        "form math import sqrt; x = sqrt(5)"
      ],
      "metadata": {
        "id": "qr9yPo561wlB"
      },
      "execution_count": null,
      "outputs": []
    },
    {
      "cell_type": "markdown",
      "source": [
        "![Screenshot 2023-02-26 160834.png](data:image/png;base64,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)"
      ],
      "metadata": {
        "id": "bIG1W8q111Tf"
      }
    },
    {
      "cell_type": "markdown",
      "source": [
        "### 1.8. E711 comparison to None should be 'if cond is None:'"
      ],
      "metadata": {
        "id": "rOPrLV7EgJ0I"
      }
    },
    {
      "cell_type": "code",
      "source": [
        "if var != None:\n",
        "    print(\"False\")"
      ],
      "metadata": {
        "id": "8J7Gkhgt3Axa"
      },
      "execution_count": null,
      "outputs": []
    },
    {
      "cell_type": "markdown",
      "source": [
        "![Screenshot 2023-02-26 161400.png](data:image/png;base64,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)"
      ],
      "metadata": {
        "id": "4TwHm_hp3CpN"
      }
    },
    {
      "cell_type": "markdown",
      "source": [
        "### 1.9. E712 comparison to True should be 'if cond is True:' or 'if cond:'"
      ],
      "metadata": {
        "id": "1aMlDCUUgLrJ"
      }
    },
    {
      "cell_type": "code",
      "source": [
        "if var != True:\n",
        "    print(\"False\")"
      ],
      "metadata": {
        "id": "nMRMeP892O54"
      },
      "execution_count": null,
      "outputs": []
    },
    {
      "cell_type": "markdown",
      "source": [
        "![Screenshot 2023-02-26 161157.png](data:image/png;base64,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)"
      ],
      "metadata": {
        "id": "md0FvYCy2VQj"
      }
    },
    {
      "cell_type": "markdown",
      "source": [
        "## 2. Некоторые особенности **языка**"
      ],
      "metadata": {
        "id": "mF2OE96XNF0K"
      }
    },
    {
      "cell_type": "markdown",
      "source": [
        "### 2.1.[0xfor _ in 'abc']"
      ],
      "metadata": {
        "id": "isFfAasNNJgK"
      }
    },
    {
      "cell_type": "markdown",
      "source": [
        "Да, это код на языке программирования Python.\n",
        "Этот код создает цикл for итерации по строке 'abc', но в данном случае используется не символическое представление символов 'a', 'b', 'c', а их шестнадцатеричное значение.[0x61,0x62,0x63] = ['a','b','c']"
      ],
      "metadata": {
        "id": "0OfLsQwg0iYT"
      }
    },
    {
      "cell_type": "markdown",
      "source": [
        "### 2.2."
      ],
      "metadata": {
        "id": "HgXDsT1sNTue"
      }
    },
    {
      "cell_type": "code",
      "source": [
        "def function(*, arg1=None, arg2=None):\n",
        "    print(\"arg1:\", arg1)\n",
        "    print(\"arg2:\", arg2)\n",
        "\n",
        "function(\"arg\") #erro\n",
        "function(arg1 = \"Mai\", arg1 = \"Tuan\")"
      ],
      "metadata": {
        "colab": {
          "base_uri": "https://localhost:8080/",
          "height": 200
        },
        "id": "MrQN-qZN2vhE",
        "outputId": "55a1cac5-7c7f-48c0-d4d3-1cc2e34a63a0"
      },
      "execution_count": null,
      "outputs": [
        {
          "output_type": "error",
          "ename": "TypeError",
          "evalue": "ignored",
          "traceback": [
            "\u001b[0;31m---------------------------------------------------------------------------\u001b[0m",
            "\u001b[0;31mTypeError\u001b[0m                                 Traceback (most recent call last)",
            "\u001b[0;32m<ipython-input-1-556cf5ee8cd7>\u001b[0m in \u001b[0;36m<module>\u001b[0;34m\u001b[0m\n\u001b[1;32m      3\u001b[0m     \u001b[0mprint\u001b[0m\u001b[0;34m(\u001b[0m\u001b[0;34m\"arg2:\"\u001b[0m\u001b[0;34m,\u001b[0m \u001b[0marg2\u001b[0m\u001b[0;34m)\u001b[0m\u001b[0;34m\u001b[0m\u001b[0;34m\u001b[0m\u001b[0m\n\u001b[1;32m      4\u001b[0m \u001b[0;34m\u001b[0m\u001b[0m\n\u001b[0;32m----> 5\u001b[0;31m \u001b[0mfunction\u001b[0m\u001b[0;34m(\u001b[0m\u001b[0;34m\"arg\"\u001b[0m\u001b[0;34m)\u001b[0m\u001b[0;34m\u001b[0m\u001b[0;34m\u001b[0m\u001b[0m\n\u001b[0m",
            "\u001b[0;31mTypeError\u001b[0m: function() takes 0 positional arguments but 1 was given"
          ]
        }
      ]
    },
    {
      "cell_type": "markdown",
      "source": [
        "### 2.3."
      ],
      "metadata": {
        "id": "7Z4mDYqDNUwS"
      }
    },
    {
      "cell_type": "code",
      "source": [
        "a = 1\n",
        "b = 1\n",
        "c = 300000 # проверено в Python 3.11\n",
        "d = 300000\n",
        "print(a is b, c is d)"
      ],
      "metadata": {
        "id": "eBlwOeOP8QCz"
      },
      "execution_count": null,
      "outputs": []
    },
    {
      "cell_type": "markdown",
      "source": [
        "В Python для оптимизации использования памяти для небольших целых чисел (-5 до 256 включительно) используется концепция \"пула целых чисел\" (integer interning).\n",
        "\n",
        "Переменные a и b равны 1, что находится в диапазоне от -5 до 256, поэтому обе переменные ссылаются на один и тот же объект в пуле целых чисел. Следовательно, сравнение a is b вернет значение True.\n",
        "\n",
        "Однако, для переменных c и d значения превышают 256, поэтому каждая из них имеет свой собственный объект в памяти. Следовательно, сравнение c is d вернет значение False.\n",
        "\n",
        "is: сравнить объект\n",
        "\n",
        "==: сравнить значения"
      ],
      "metadata": {
        "id": "wDrvT0oi3hId"
      }
    },
    {
      "cell_type": "code",
      "source": [
        "a, b = 'py', 'py'\n",
        "c = ''.join(['p', 'y'])\n",
        "print(a is b, a == c, a is c)"
      ],
      "metadata": {
        "id": "M4XIWBMQ8Q1U"
      },
      "execution_count": null,
      "outputs": []
    },
    {
      "cell_type": "markdown",
      "source": [
        "is: сравнить объект\n",
        "\n",
        "==: сравнить значения\n",
        "\n",
        "a is b: переменные a и b содержат один и тот же строковый литерал 'py', поэтому обе переменные ссылаются на один и тот же объект в пуле строковых литералов.\n",
        "\n",
        "a == c: значения двух переменных одинаковы\n",
        "\n",
        "a is c: Переменная c содержит строку, созданную из списка символов, которые затем объединены в строку. Этот объект строки не является строковым литералом, поэтому он не помещается в пул строковых литералов. В результате Python создает новый объект строки для переменной c, который не совпадает с объектами для a и b"
      ],
      "metadata": {
        "id": "6MkHOgKu8Sa2"
      }
    },
    {
      "cell_type": "markdown",
      "source": [
        "### 2.4."
      ],
      "metadata": {
        "id": "lyBYR-MRNVsv"
      }
    },
    {
      "cell_type": "code",
      "source": [
        "i = 2\n",
        "i *= 4\n",
        "j = i + 4\n",
        "'muchcodewow'[i:j]"
      ],
      "metadata": {
        "colab": {
          "base_uri": "https://localhost:8080/",
          "height": 35
        },
        "id": "dxAO--M49B8H",
        "outputId": "5d61ae1f-b720-4a51-fb83-9134a1230de9"
      },
      "execution_count": null,
      "outputs": [
        {
          "output_type": "execute_result",
          "data": {
            "text/plain": [
              "'wow'"
            ],
            "application/vnd.google.colaboratory.intrinsic+json": {
              "type": "string"
            }
          },
          "metadata": {},
          "execution_count": 16
        }
      ]
    },
    {
      "cell_type": "markdown",
      "source": [
        "## 3. Однострочники"
      ],
      "metadata": {
        "id": "Ytka0p82pwFK"
      }
    },
    {
      "cell_type": "markdown",
      "source": [
        "### 3.1.Преобразовать элементы списка s из строковой в числовую форму."
      ],
      "metadata": {
        "id": "xFtyJUdnp6gp"
      }
    },
    {
      "cell_type": "code",
      "source": [
        "s = ['1', '2', '3', '4', '5']\n",
        "s = [int(element) for element in s]\n",
        "print(s)"
      ],
      "metadata": {
        "colab": {
          "base_uri": "https://localhost:8080/"
        },
        "id": "zI_LPyz2rAak",
        "outputId": "6c5c259f-928a-4991-fd1a-f40d25b00739"
      },
      "execution_count": null,
      "outputs": [
        {
          "output_type": "stream",
          "name": "stdout",
          "text": [
            "[1, 2, 3, 4, 5]\n"
          ]
        }
      ]
    },
    {
      "cell_type": "markdown",
      "source": [
        "### 3.2.Подсчитать количество различных элементов в последовательности s."
      ],
      "metadata": {
        "id": "6h3h7QybqCjS"
      }
    },
    {
      "cell_type": "code",
      "source": [
        "s = [1, 2, 3, 2, 1, 4, 5, 4, 6]\n",
        "num_unique = len(set(s))\n",
        "print(num_unique)"
      ],
      "metadata": {
        "colab": {
          "base_uri": "https://localhost:8080/"
        },
        "id": "0cdR9kgRs_H9",
        "outputId": "2b678590-6b93-4632-f135-be19d60a9e21"
      },
      "execution_count": null,
      "outputs": [
        {
          "output_type": "stream",
          "name": "stdout",
          "text": [
            "6\n"
          ]
        }
      ]
    },
    {
      "cell_type": "markdown",
      "source": [
        "### 3.3.Обратить последовательность s без использования функций."
      ],
      "metadata": {
        "id": "sA7LT69FqFT4"
      }
    },
    {
      "cell_type": "code",
      "source": [
        "s = [1, 2, 3, 2, 1, 4, 5, 4, 6]\n",
        "s = s[::-1]\n",
        "print(s)"
      ],
      "metadata": {
        "colab": {
          "base_uri": "https://localhost:8080/"
        },
        "id": "_K-qkyZj06BO",
        "outputId": "0b7e1efc-1878-4cf2-e553-5169427c386d"
      },
      "execution_count": null,
      "outputs": [
        {
          "output_type": "stream",
          "name": "stdout",
          "text": [
            "[6, 4, 5, 4, 1, 2, 3, 2, 1]\n"
          ]
        }
      ]
    },
    {
      "cell_type": "markdown",
      "source": [
        "### 3.4.Выдать список индексов, на которых найден элемент x в последовательности s."
      ],
      "metadata": {
        "id": "RuZLDozWqLcm"
      }
    },
    {
      "cell_type": "code",
      "source": [
        "s = [1, 2, 3, 2, 4, 2, 5]\n",
        "x = 2\n",
        "indices = []\n",
        "for i, element in enumerate(s):\n",
        "    if element == x:\n",
        "        indices.append(i)\n",
        "print(indices) "
      ],
      "metadata": {
        "colab": {
          "base_uri": "https://localhost:8080/"
        },
        "id": "06C2AoL116VC",
        "outputId": "a836fdec-cace-4a82-bc1d-e3cc62404709"
      },
      "execution_count": null,
      "outputs": [
        {
          "output_type": "stream",
          "name": "stdout",
          "text": [
            "[1, 3, 5]\n"
          ]
        }
      ]
    },
    {
      "cell_type": "markdown",
      "source": [
        "### 3.5.Сложить элементы списка s с четными индексами."
      ],
      "metadata": {
        "id": "iXHs-h87qQ8c"
      }
    },
    {
      "cell_type": "code",
      "source": [
        "s = [1, 2, 3, 4, 5, 6, 7, 8]\n",
        "sum = 0\n",
        "for i in range(0, len(s)):\n",
        "    if(i % 2 == 0):\n",
        "      sum += s[i]\n",
        "print(sum)\n"
      ],
      "metadata": {
        "colab": {
          "base_uri": "https://localhost:8080/"
        },
        "id": "F8WM35lC3Dua",
        "outputId": "4aee4faf-cb84-47b4-e7b7-6c7baa3c04d8"
      },
      "execution_count": null,
      "outputs": [
        {
          "output_type": "stream",
          "name": "stdout",
          "text": [
            "16\n"
          ]
        }
      ]
    },
    {
      "cell_type": "markdown",
      "source": [
        "### 3.6.Найти строку максимальной длины в списке строк s."
      ],
      "metadata": {
        "id": "K7m_R_D_qW0g"
      }
    },
    {
      "cell_type": "code",
      "source": [
        "s = [\"television\", \"computer\", \"laptop\", \"gear\", \"telephone\"]\n",
        "max_len = 0\n",
        "max_str = \"\"\n",
        "for str in s:\n",
        "    if len(str) > max_len:\n",
        "        max_len = len(str)\n",
        "        max_str = str\n",
        "print(max_str)\n"
      ],
      "metadata": {
        "colab": {
          "base_uri": "https://localhost:8080/"
        },
        "id": "Ep7gtZBW3YQp",
        "outputId": "1b1de8dd-a8fe-4ef4-f4c2-aedcb80f46bf"
      },
      "execution_count": null,
      "outputs": [
        {
          "output_type": "stream",
          "name": "stdout",
          "text": [
            "television\n"
          ]
        }
      ]
    },
    {
      "cell_type": "markdown",
      "source": [
        "### 3.7.Проверить, относится ли число к числам харшад (делящиеся нацело на сумму своих цифр)."
      ],
      "metadata": {
        "id": "xmv1Pbh8qfbX"
      }
    },
    {
      "cell_type": "code",
      "source": [
        "n = 18\n",
        "sum = sum(int(digit) for digit in str(n))\n",
        "if n % sum == 0:\n",
        "    print(f\"{n} is a Harshad\")\n",
        "else:\n",
        "    print(f\"{n} is not a Harshad\")"
      ],
      "metadata": {
        "id": "84_2glLl37ca",
        "colab": {
          "base_uri": "https://localhost:8080/"
        },
        "outputId": "d871c20d-15f9-4d5d-bff6-f3c257321913"
      },
      "execution_count": null,
      "outputs": [
        {
          "output_type": "stream",
          "name": "stdout",
          "text": [
            "18 is a Harshad\n"
          ]
        }
      ]
    },
    {
      "cell_type": "markdown",
      "source": [
        "### 3.8.Сгенерировать случайную текстовую строку с заданным максимальным размером."
      ],
      "metadata": {
        "id": "mLKPYa6sqmet"
      }
    },
    {
      "cell_type": "code",
      "source": [
        "import random\n",
        "import string\n",
        "\n",
        "max_len = 20 \n",
        "random_string = ''.join(random.choice(string.ascii_lowercase) for i in range(random.randint(1, max_len)))\n",
        "print(random_string)\n"
      ],
      "metadata": {
        "id": "whpspJeG4OMb",
        "colab": {
          "base_uri": "https://localhost:8080/"
        },
        "outputId": "8eeacc56-e51a-4d44-a301-f986dbdd1046"
      },
      "execution_count": null,
      "outputs": [
        {
          "output_type": "stream",
          "name": "stdout",
          "text": [
            "ccfhptr\n"
          ]
        }
      ]
    },
    {
      "cell_type": "markdown",
      "source": [
        "### 3.9.Реализовать функцию-однострочник для RLE-сжатия."
      ],
      "metadata": {
        "id": "k_-PD9jnquEV"
      }
    },
    {
      "cell_type": "code",
      "source": [
        "import itertools\n",
        "\n",
        "def rle_encode(s):\n",
        "    return [(char, len(list(group))) for char, group in itertools.groupby(s)]\n",
        "\n",
        "\n",
        "rle = rle_encode('ABBCCCDEF')\n",
        "print(rle)"
      ],
      "metadata": {
        "colab": {
          "base_uri": "https://localhost:8080/"
        },
        "id": "E5i7mE1u4Vx-",
        "outputId": "dc0c1f4c-9ec4-4751-a04c-58fa485bc472"
      },
      "execution_count": null,
      "outputs": [
        {
          "output_type": "stream",
          "name": "stdout",
          "text": [
            "[('A', 1), ('B', 2), ('C', 3), ('D', 1), ('E', 1), ('F', 1)]\n"
          ]
        }
      ]
    },
    {
      "cell_type": "markdown",
      "source": [
        "## 4. Ассорти из небольших задач"
      ],
      "metadata": {
        "id": "LiXYR3mu5V1i"
      }
    },
    {
      "cell_type": "markdown",
      "source": [
        "### 4.1"
      ],
      "metadata": {
        "id": "C0bd9eaa6kw2"
      }
    },
    {
      "cell_type": "code",
      "source": [
        "def generate_groups(k):\n",
        "    if k == 4:\n",
        "        return [\"NНБО-13-21\"]\n",
        "    faculties = [\"ИВБО\", \"ИКБО\", \"ИMБО\", \"ИНБО\"]\n",
        "    number = [9, 34, 3, 13]\n",
        "    groups = [\"{:02d}\".format(i) for i in range(1, number[k])]\n",
        "    x = [f\"{faculties[k]}-{group}-21\" for group in groups]\n",
        "    return x + (generate_groups(k + 1))\n",
        "\n",
        "\n",
        "group = generate_groups(0)\n",
        "print(group)\n"
      ],
      "metadata": {
        "colab": {
          "base_uri": "https://localhost:8080/"
        },
        "id": "dYiCb4uD6oTg",
        "outputId": "af9edf7b-c33b-4c82-cc66-19db5ea37553"
      },
      "execution_count": null,
      "outputs": [
        {
          "output_type": "stream",
          "name": "stdout",
          "text": [
            "['ИВБО-01-21', 'ИВБО-02-21', 'ИВБО-03-21', 'ИВБО-04-21', 'ИВБО-05-21', 'ИВБО-06-21', 'ИВБО-07-21', 'ИВБО-08-21', 'ИКБО-01-21', 'ИКБО-02-21', 'ИКБО-03-21', 'ИКБО-04-21', 'ИКБО-05-21', 'ИКБО-06-21', 'ИКБО-07-21', 'ИКБО-08-21', 'ИКБО-09-21', 'ИКБО-10-21', 'ИКБО-11-21', 'ИКБО-12-21', 'ИКБО-13-21', 'ИКБО-14-21', 'ИКБО-15-21', 'ИКБО-16-21', 'ИКБО-17-21', 'ИКБО-18-21', 'ИКБО-19-21', 'ИКБО-20-21', 'ИКБО-21-21', 'ИКБО-22-21', 'ИКБО-23-21', 'ИКБО-24-21', 'ИКБО-25-21', 'ИКБО-26-21', 'ИКБО-27-21', 'ИКБО-28-21', 'ИКБО-29-21', 'ИКБО-30-21', 'ИКБО-31-21', 'ИКБО-32-21', 'ИКБО-33-21', 'ИMБО-01-21', 'ИMБО-02-21', 'ИНБО-01-21', 'ИНБО-02-21', 'ИНБО-03-21', 'ИНБО-04-21', 'ИНБО-05-21', 'ИНБО-06-21', 'ИНБО-07-21', 'ИНБО-08-21', 'ИНБО-09-21', 'ИНБО-10-21', 'ИНБО-11-21', 'ИНБО-12-21', 'NНБО-13-21']\n"
          ]
        }
      ]
    },
    {
      "cell_type": "markdown",
      "source": [
        "### 4.2"
      ],
      "metadata": {
        "id": "fmSsKTilAvcd"
      }
    },
    {
      "cell_type": "code",
      "source": [
        "import sys\n",
        "\n",
        "def _print(*args, sep=', ', end='\\n'):\n",
        "    output = sep.join(str(arg) for arg in args) + end\n",
        "    sys.stdout.write(output)\n",
        "\n",
        "_print(['Have', 'a', 'good', 'day'])\n",
        "_print(123)\n",
        "_print('Have a good day!')\n"
      ],
      "metadata": {
        "colab": {
          "base_uri": "https://localhost:8080/"
        },
        "id": "TOGHeSVkEtVW",
        "outputId": "748e74c1-9e4a-4267-edb4-1dea185fcc6e"
      },
      "execution_count": null,
      "outputs": [
        {
          "output_type": "stream",
          "name": "stdout",
          "text": [
            "['Have', 'a', 'good', 'day']\n",
            "123\n",
            "Have a good day!\n"
          ]
        }
      ]
    },
    {
      "cell_type": "markdown",
      "source": [
        "### 4.3"
      ],
      "metadata": {
        "id": "1gKZNIXsAxqn"
      }
    },
    {
      "cell_type": "code",
      "source": [
        "from ctypes import *\n",
        "\n",
        "def decrypt(v, k):\n",
        "    v0, v1 = c_uint32(v[0]), c_uint32(v[1])\n",
        "    delta = 0x9e3779b9 \n",
        "    k0, k1, k2, k3 = k[0], k[1], k[2], k[3]\n",
        "\n",
        "    total = c_uint32(delta * 32)\n",
        "    for i in range(32):                       \n",
        "        v1.value -= ((v0.value<<4) + k2) ^ (v0.value + total.value) ^ ((v0.value>>5) + k3) \n",
        "        v0.value -= ((v1.value<<4) + k0) ^ (v1.value + total.value) ^ ((v1.value>>5) + k1)  \n",
        "        total.value -= delta\n",
        "\n",
        "    return v0.value, v1.value   \n",
        "\n",
        "\n",
        "message = [   \n",
        "    [0xE3238557, 0x6204A1F8], [0xE6537611, 0x174E5747],\n",
        "    [0x5D954DA8, 0x8C2DFE97], [0x2911CB4C, 0x2CB7C66B],\n",
        "    [0xE7F185A0, 0xC7E3FA40], [0x42419867, 0x374044DF],\n",
        "    [0x2519F07D, 0x5A0C24D4], [0xF4A960C5, 0x31159418],\n",
        "    [0xF2768EC7, 0xAEAF14CF], [0x071B2C95, 0xC9F22699],\n",
        "    [0xFFB06F41, 0x2AC90051], [0xA53F035D, 0x830601A7],\n",
        "    [0xEB475702, 0x183BAA6F], [0x12626744, 0x9B75A72F],\n",
        "    [0x8DBFBFEC, 0x73C1A46E], [0xFFB06F41, 0x2AC90051],\n",
        "    [0x97C5E4E9, 0xB1C26A21], [0xDD4A3463, 0x6B71162F],\n",
        "    [0x8C075668, 0x7975D565], [0x6D95A700, 0x7272E637],\n",
        "]\n",
        "\n",
        "key = [0, 4, 5, 1]\n",
        "res = \"\"\n",
        "decrypted_message = []\n",
        "for pair in message:\n",
        "    decrypted_pair = decrypt(pair, key)\n",
        "    decrypted_message.append(decrypted_pair[0])\n",
        "    decrypted_message.append(decrypted_pair[1])\n",
        "\n",
        "print(\"\".join(chr(x) for x in decrypted_message))\n"
      ],
      "metadata": {
        "colab": {
          "base_uri": "https://localhost:8080/"
        },
        "id": "SDky5LYeTGKj",
        "outputId": "ee7ce8ee-f898-42bf-8881-f5e9179768af"
      },
      "execution_count": null,
      "outputs": [
        {
          "output_type": "stream",
          "name": "stdout",
          "text": [
            "Поздравляю! Вы нашли секретное сообщение\n"
          ]
        }
      ]
    },
    {
      "cell_type": "markdown",
      "source": [
        "## 5. Редакционное расстояние"
      ],
      "metadata": {
        "id": "w6WCIy-bpHc5"
      }
    },
    {
      "cell_type": "markdown",
      "source": [
        "### 5.1."
      ],
      "metadata": {
        "id": "JAsouWs-pKTD"
      }
    },
    {
      "cell_type": "code",
      "source": [
        "def ham_dist(num1, num2):\n",
        "    bin_num1 = bin(num1)[2:].zfill(max(len(bin(num1)), len(bin(num2))))\n",
        "    bin_num2 = bin(num2)[2:].zfill(max(len(bin(num1)), len(bin(num2))))\n",
        "\n",
        "    hamming_distance = 0\n",
        "    for i in range(len(bin_num1)):\n",
        "        if bin_num1[i] != bin_num2[i]:\n",
        "            hamming_distance += 1\n",
        "\n",
        "    return hamming_distance\n"
      ],
      "metadata": {
        "id": "eAiudqPdxBBo"
      },
      "execution_count": null,
      "outputs": []
    },
    {
      "cell_type": "code",
      "source": [
        "def ham_dist(num1, num2):\n",
        "    return sum(1 for bit in bin(num1 ^ num2) if bit == '1')\n",
        "\n",
        "ham_dist(0b1100, 0b0011)"
      ],
      "metadata": {
        "colab": {
          "base_uri": "https://localhost:8080/"
        },
        "id": "u7xlDmWAqYVQ",
        "outputId": "ee2b40cf-39d4-43a1-b7fb-9a7e7dc49883"
      },
      "execution_count": null,
      "outputs": [
        {
          "output_type": "execute_result",
          "data": {
            "text/plain": [
              "4"
            ]
          },
          "metadata": {},
          "execution_count": 13
        }
      ]
    },
    {
      "cell_type": "markdown",
      "source": [
        "### 5.3."
      ],
      "metadata": {
        "id": "A3CKZVXOpQCT"
      }
    },
    {
      "cell_type": "code",
      "source": [
        "!pip install functools\n",
        "from functools import cache\n",
        "\n",
        "\n",
        "@cache\n",
        "def levenshtein(s1, s2):\n",
        "    if len(s1) < len(s2):\n",
        "        return levenshtein(s2, s1)\n",
        "    if len(s2) == 0:\n",
        "        return len(s1)\n",
        "\n",
        "    previous_row = range(len(s2) + 1)\n",
        "    for i, c1 in enumerate(s1):\n",
        "        current_row = [i + 1]\n",
        "        for j, c2 in enumerate(s2):\n",
        "            insertions = previous_row[j + 1] + 1\n",
        "            deletions = current_row[j] + 1\n",
        "            substitutions = previous_row[j] + (c1 != c2)\n",
        "            current_row.append(min(insertions, deletions, substitutions))\n",
        "        previous_row = current_row\n",
        "\n",
        "    return previous_row[-1]\n",
        "print(levenshtein('столб', 'слон'))\n"
      ],
      "metadata": {
        "id": "u3l2fEfYtZQT"
      },
      "execution_count": null,
      "outputs": []
    },
    {
      "cell_type": "markdown",
      "source": [
        "### 5.4."
      ],
      "metadata": {
        "id": "NsabAdpfpQub"
      }
    },
    {
      "cell_type": "code",
      "source": [
        "def lev_dist_ops(s, t):\n",
        "    m, n = len(s), len(t)\n",
        "    d = [[0] * (n + 1) for i in range(m + 1)]\n",
        "    for i in range(m + 1):\n",
        "        d[i][0] = i\n",
        "    for j in range(n + 1):\n",
        "        d[0][j] = j\n",
        "    for j in range(1, n + 1):\n",
        "        for i in range(1, m + 1):\n",
        "            if s[i-1] == t[j-1]:\n",
        "                d[i][j] = d[i-1][j-1]\n",
        "            else:\n",
        "                d[i][j] = min(d[i-1][j], d[i][j-1], d[i-1][j-1]) + 1\n",
        "    ops = []\n",
        "    i, j = m, n\n",
        "    while i > 0 or j > 0:\n",
        "        if i > 0 and j > 0 and s[i-1] == t[j-1]:\n",
        "            i, j = i-1, j-1\n",
        "        elif i > 0 and d[i-1][j] < d[i][j-1]:\n",
        "            ops.append('удаление')\n",
        "            i -= 1\n",
        "        elif j > 0 and d[i][j-1] < d[i-1][j]:\n",
        "            ops.append('вставка')\n",
        "            j -= 1\n",
        "        else:\n",
        "            ops.append('замена')\n",
        "            i, j = i-1, j-1\n",
        "    return ops[::-1]\n",
        "\n",
        "\n",
        "\n",
        "print(lev_dist_ops('столб', 'слон'))"
      ],
      "metadata": {
        "colab": {
          "base_uri": "https://localhost:8080/"
        },
        "id": "rQJ1124XRVfx",
        "outputId": "568fda8a-5db8-4228-c111-80670f1cb5c5"
      },
      "execution_count": null,
      "outputs": [
        {
          "output_type": "stream",
          "name": "stdout",
          "text": [
            "['замена', 'замена', 'удаление']\n"
          ]
        }
      ]
    },
    {
      "cell_type": "markdown",
      "source": [
        "### 5.5."
      ],
      "metadata": {
        "id": "8YcqTIgspRoL"
      }
    },
    {
      "cell_type": "code",
      "source": [
        "def lev_dist_gen(s, t):\n",
        "    m, n = len(s), len(t)\n",
        "    d = [[0] * (n + 1) for _ in range(m + 1)]\n",
        "    for i in range(m + 1):\n",
        "        d[i][0] = i\n",
        "    for j in range(n + 1):\n",
        "        d[0][j] = j\n",
        "    for i in range(1, m + 1):\n",
        "        for j in range(1, n + 1):\n",
        "            cost = int(s[i - 1] != t[j - 1])\n",
        "            d[i][j] = min(d[i - 1][j] + 1,\n",
        "                          d[i][j - 1] + 1,\n",
        "                          d[i - 1][j - 1] + cost)\n",
        "    operations = []\n",
        "    i, j = m, n\n",
        "    while i > 0 or j > 0:\n",
        "        if i > 0 and j > 0 and s[i - 1] == t[j - 1]:\n",
        "            i, j = i - 1, j - 1\n",
        "            continue\n",
        "        if i > 0 and j > 0 and d[i - 1][j - 1] + 1 == d[i][j]:\n",
        "            operations.append(f\"x[{i - 1}] = y[{j - 1}]\")\n",
        "            i, j = i - 1, j - 1\n",
        "        elif i > 0 and d[i - 1][j] + 1 == d[i][j]:\n",
        "            operations.append(f\"del x[{i - 1}]\")\n",
        "            i -= 1\n",
        "        elif j > 0 and d[i][j - 1] + 1 == d[i][j]:\n",
        "            operations.append(f\"x.insert({i}, y[{j - 1}])\")\n",
        "            j -= 1\n",
        "\n",
        "    return operations\n",
        "\n",
        "\n",
        "print('\\n'.join(lev_dist_gen('достаток', 'остаточный')))\n"
      ],
      "metadata": {
        "colab": {
          "base_uri": "https://localhost:8080/"
        },
        "id": "nVtrNkGoz9dk",
        "outputId": "1086a000-c3d1-46c5-9254-4562b135aebd"
      },
      "execution_count": null,
      "outputs": [
        {
          "output_type": "stream",
          "name": "stdout",
          "text": [
            "x[7] = y[9]\n",
            "x.insert(7, y[8])\n",
            "x.insert(7, y[7])\n",
            "x.insert(7, y[6])\n",
            "del x[0]\n"
          ]
        }
      ]
    },
    {
      "cell_type": "markdown",
      "source": [
        "### 5.6."
      ],
      "metadata": {
        "id": "9RFPisIxpSkw"
      }
    },
    {
      "cell_type": "code",
      "source": [
        "def levenshtein(s1, s2):\n",
        "    if len(s1) < len(s2):\n",
        "        return levenshtein(s2, s1)\n",
        "    if len(s2) == 0:\n",
        "        return len(s1)\n",
        "\n",
        "    previous_row = range(len(s2) + 1)\n",
        "    for i, c1 in enumerate(s1):\n",
        "        current_row = [i + 1]\n",
        "        for j, c2 in enumerate(s2):\n",
        "            insertions = previous_row[j + 1] + 1\n",
        "            deletions = current_row[j] + 1\n",
        "            substitutions = previous_row[j] + (c1 != c2)\n",
        "            current_row.append(min(insertions, deletions, substitutions))\n",
        "        previous_row = current_row\n",
        "\n",
        "    return previous_row[-1]\n",
        "\n",
        "\n",
        "def loadData():\n",
        "    with open('words.txt', 'r', encoding='utf-8') as f:\n",
        "        lines = f.readlines()\n",
        "\n",
        "    data_dict = {}\n",
        "\n",
        "    for line in lines:\n",
        "        parts = line.strip().split()\n",
        "        key = parts[0]\n",
        "        value = int(parts[1])\n",
        "        data_dict[key] = value\n",
        "    return data_dict\n",
        "\n",
        "\n",
        "def spell(str):\n",
        "    data_dict = loadData()\n",
        "    result = \"\"\n",
        "    arr = str.split()\n",
        "    for ar in arr:\n",
        "        if data_dict.get(ar) is not None:\n",
        "            result += ar + ' '\n",
        "        else:\n",
        "            concac1 = {}\n",
        "            concac2 = {}\n",
        "            for key in data_dict:\n",
        "                if levenshtein(ar, key) == 1:\n",
        "                    concac1[key] = data_dict[key]\n",
        "                elif levenshtein(ar, key) == 2:\n",
        "                    concac2[key] = data_dict[key]\n",
        "            if len(concac1) != 0:\n",
        "                result += max(concac1, key=lambda k: concac1[k]) + ' '\n",
        "            elif len(concac2) != 0:\n",
        "                result += max(concac2, key=lambda k: concac2[k]) + ' '\n",
        "            else:\n",
        "                result += ar + ' '\n",
        "    return result\n",
        "\n",
        "print(spell('помоему я напесал усё правильна'))\n"
      ],
      "metadata": {
        "colab": {
          "base_uri": "https://localhost:8080/",
          "height": 346
        },
        "id": "eUsghzrgqXI-",
        "outputId": "0ed98258-fca5-44c9-f360-7dd8a981fdd7"
      },
      "execution_count": null,
      "outputs": [
        {
          "output_type": "error",
          "ename": "FileNotFoundError",
          "evalue": "ignored",
          "traceback": [
            "\u001b[0;31m---------------------------------------------------------------------------\u001b[0m",
            "\u001b[0;31mFileNotFoundError\u001b[0m                         Traceback (most recent call last)",
            "\u001b[0;32m<ipython-input-4-94d31cfa7d4d>\u001b[0m in \u001b[0;36m<module>\u001b[0;34m\u001b[0m\n\u001b[1;32m     55\u001b[0m     \u001b[0;32mreturn\u001b[0m \u001b[0mresult\u001b[0m\u001b[0;34m\u001b[0m\u001b[0;34m\u001b[0m\u001b[0m\n\u001b[1;32m     56\u001b[0m \u001b[0;34m\u001b[0m\u001b[0m\n\u001b[0;32m---> 57\u001b[0;31m \u001b[0mprint\u001b[0m\u001b[0;34m(\u001b[0m\u001b[0mspell\u001b[0m\u001b[0;34m(\u001b[0m\u001b[0;34m'помоему я напесал усё правильна'\u001b[0m\u001b[0;34m)\u001b[0m\u001b[0;34m)\u001b[0m\u001b[0;34m\u001b[0m\u001b[0;34m\u001b[0m\u001b[0m\n\u001b[0m",
            "\u001b[0;32m<ipython-input-4-94d31cfa7d4d>\u001b[0m in \u001b[0;36mspell\u001b[0;34m(str)\u001b[0m\n\u001b[1;32m     33\u001b[0m \u001b[0;34m\u001b[0m\u001b[0m\n\u001b[1;32m     34\u001b[0m \u001b[0;32mdef\u001b[0m \u001b[0mspell\u001b[0m\u001b[0;34m(\u001b[0m\u001b[0mstr\u001b[0m\u001b[0;34m)\u001b[0m\u001b[0;34m:\u001b[0m\u001b[0;34m\u001b[0m\u001b[0;34m\u001b[0m\u001b[0m\n\u001b[0;32m---> 35\u001b[0;31m     \u001b[0mdata_dict\u001b[0m \u001b[0;34m=\u001b[0m \u001b[0mloadData\u001b[0m\u001b[0;34m(\u001b[0m\u001b[0;34m)\u001b[0m\u001b[0;34m\u001b[0m\u001b[0;34m\u001b[0m\u001b[0m\n\u001b[0m\u001b[1;32m     36\u001b[0m     \u001b[0mresult\u001b[0m \u001b[0;34m=\u001b[0m \u001b[0;34m\"\"\u001b[0m\u001b[0;34m\u001b[0m\u001b[0;34m\u001b[0m\u001b[0m\n\u001b[1;32m     37\u001b[0m     \u001b[0marr\u001b[0m \u001b[0;34m=\u001b[0m \u001b[0mstr\u001b[0m\u001b[0;34m.\u001b[0m\u001b[0msplit\u001b[0m\u001b[0;34m(\u001b[0m\u001b[0;34m)\u001b[0m\u001b[0;34m\u001b[0m\u001b[0;34m\u001b[0m\u001b[0m\n",
            "\u001b[0;32m<ipython-input-4-94d31cfa7d4d>\u001b[0m in \u001b[0;36mloadData\u001b[0;34m()\u001b[0m\n\u001b[1;32m     19\u001b[0m \u001b[0;34m\u001b[0m\u001b[0m\n\u001b[1;32m     20\u001b[0m \u001b[0;32mdef\u001b[0m \u001b[0mloadData\u001b[0m\u001b[0;34m(\u001b[0m\u001b[0;34m)\u001b[0m\u001b[0;34m:\u001b[0m\u001b[0;34m\u001b[0m\u001b[0;34m\u001b[0m\u001b[0m\n\u001b[0;32m---> 21\u001b[0;31m     \u001b[0;32mwith\u001b[0m \u001b[0mopen\u001b[0m\u001b[0;34m(\u001b[0m\u001b[0;34m'words.txt'\u001b[0m\u001b[0;34m,\u001b[0m \u001b[0;34m'r'\u001b[0m\u001b[0;34m,\u001b[0m \u001b[0mencoding\u001b[0m\u001b[0;34m=\u001b[0m\u001b[0;34m'utf-8'\u001b[0m\u001b[0;34m)\u001b[0m \u001b[0;32mas\u001b[0m \u001b[0mf\u001b[0m\u001b[0;34m:\u001b[0m\u001b[0;34m\u001b[0m\u001b[0;34m\u001b[0m\u001b[0m\n\u001b[0m\u001b[1;32m     22\u001b[0m         \u001b[0mlines\u001b[0m \u001b[0;34m=\u001b[0m \u001b[0mf\u001b[0m\u001b[0;34m.\u001b[0m\u001b[0mreadlines\u001b[0m\u001b[0;34m(\u001b[0m\u001b[0;34m)\u001b[0m\u001b[0;34m\u001b[0m\u001b[0;34m\u001b[0m\u001b[0m\n\u001b[1;32m     23\u001b[0m \u001b[0;34m\u001b[0m\u001b[0m\n",
            "\u001b[0;31mFileNotFoundError\u001b[0m: [Errno 2] No such file or directory: 'words.txt'"
          ]
        }
      ]
    },
    {
      "cell_type": "markdown",
      "source": [
        "## 6. Генераторы текстов"
      ],
      "metadata": {
        "id": "9qP35PuAdfz7"
      }
    },
    {
      "cell_type": "markdown",
      "source": [
        "### 6.1."
      ],
      "metadata": {
        "id": "vrXJzFtJpTZ1"
      }
    },
    {
      "cell_type": "code",
      "source": [
        "import random\n",
        "\n",
        "def generate_paragraphs():\n",
        "    t1 = [\"Коллеги,\", \"В то же время,\", \"Однако,\", \"Тем не менее,\", \"Следовательно,\", \"Соответственно,\", \"Вместе с тем,\", \"С другой стороны,\"]\n",
        "    t2 = [\"парадигма цифровой экономики\", \"контекст цифровой трансформации\", \"диджитализация бизнес-процессов,\", \"прагматичный подход к цифровым платформам\", \"совокупность сквозных технологий\", \"программа прорывных исследований\", \"ускорение блокчейн-транзакций\", \"экспоненциальный рост Big Data\"]\n",
        "    t3 = [\"открывает новые возможности для\", \"выдвигает новые требования\", \"несёт в себе риски\", \"расширяет горизонты\", \"заставляет искать варианты\", \"не оставляет шанса для\", \"повышает вероятность\", \"обостряет проблему\"]\n",
        "    t4 = [\"дальнейшего углубления\", \"бюджетного финансирования\", \"синергетического эффекта\", \"компрометации конфиденциальных\", \"универсальной коммодитизации\", \"несанкционированной кастомизации\", \"нормативного регулирования\", \"практического применения\"]\n",
        "    t5 = [\"знаний и компетенций.\", \"непроверенных гипотез.\", \"волатильных активов.\", \"опасных экспериментов.\", \"государственно-частных партнёрств.\", \"цифровых следов граждан.\", \"нежелательных последствий.\", \"внезапных открытий.\"]\n",
        "\n",
        "    num_sentences = 3\n",
        "    paragraphs = []\n",
        "    for i in range(3):\n",
        "        sentences = []\n",
        "        for j in range(num_sentences):\n",
        "            sentence = random.choice(t1) + ' ' + random.choice(t2) + ' ' + random.choice(t3) + ' ' + random.choice(t4) + ' ' + random.choice(t5)\n",
        "            sentences.append(sentence)\n",
        "        paragraph = ' '.join(sentences)\n",
        "        paragraphs.append(paragraph)\n",
        "\n",
        "    return paragraphs\n",
        "\n",
        "\n",
        "paragraphs = generate_paragraphs()\n",
        "for paragraph in paragraphs:\n",
        "    print(paragraph + '\\n')"
      ],
      "metadata": {
        "colab": {
          "base_uri": "https://localhost:8080/"
        },
        "id": "btCz_aQt16io",
        "outputId": "a71a3f78-fd6a-41b3-9c7c-cda44f9e4f46"
      },
      "execution_count": null,
      "outputs": [
        {
          "output_type": "stream",
          "name": "stdout",
          "text": [
            "Коллеги, контекст цифровой трансформации обостряет проблему компрометации конфиденциальных внезапных открытий. В то же время, программа прорывных исследований выдвигает новые требования универсальной коммодитизации волатильных активов. Тем не менее, парадигма цифровой экономики не оставляет шанса для бюджетного финансирования внезапных открытий.\n",
            "\n",
            "Соответственно, диджитализация бизнес-процессов, выдвигает новые требования синергетического эффекта цифровых следов граждан. Вместе с тем, совокупность сквозных технологий не оставляет шанса для дальнейшего углубления волатильных активов. Следовательно, прагматичный подход к цифровым платформам не оставляет шанса для практического применения цифровых следов граждан.\n",
            "\n",
            "Следовательно, программа прорывных исследований обостряет проблему нормативного регулирования знаний и компетенций. Однако, совокупность сквозных технологий заставляет искать варианты синергетического эффекта непроверенных гипотез. Тем не менее, контекст цифровой трансформации выдвигает новые требования несанкционированной кастомизации волатильных активов.\n",
            "\n"
          ]
        }
      ]
    },
    {
      "cell_type": "markdown",
      "source": [
        "### 6.2"
      ],
      "metadata": {
        "id": "0Y3IJBX61_CE"
      }
    },
    {
      "cell_type": "code",
      "source": [
        "# -*- coding: utf-8 -*-\n",
        "\n",
        "def split_sentence(text):\n",
        "    sentences = text.split(', ')\n",
        "    sentences = [sentence.strip() for sentence in sentences if sentence.strip()]\n",
        "    result = []\n",
        "    for sentence in sentences:\n",
        "        words = sentence.split(' ')\n",
        "        if len(words) > 5:\n",
        "            mid = len(words) // 2\n",
        "            result.append(' '.join(words[:mid]))\n",
        "            result.append(' '.join(words[mid:]))\n",
        "        else:\n",
        "            result.append(sentence)\n",
        "    print(result)\n",
        "\n",
        "\n",
        "def split_paragraph(text):\n",
        "    sentences = text.split('. ')\n",
        "    for sentence in sentences:\n",
        "        split_sentence(sentence)\n",
        "\n",
        "\n",
        "text = \"Коллеги, совокупность сквозных технологий повышает вероятность нормативного регулирования опасных экспериментов. С другой стороны, совокупность сквозных технологий несёт в себе риски нормативного регулирования внезапных открытий. Тем не менее, совокупность сквозных технологий открывает новые возможности несанкционированной кастомизации опасных экспериментов.\"\n",
        "split_paragraph(text)\n"
      ],
      "metadata": {
        "colab": {
          "base_uri": "https://localhost:8080/"
        },
        "id": "r9-BIMUo9zow",
        "outputId": "413836d0-4e10-45e8-883a-df7e57ff2201"
      },
      "execution_count": null,
      "outputs": [
        {
          "output_type": "stream",
          "name": "stdout",
          "text": [
            "['Коллеги', 'совокупность сквозных технологий повышает', 'вероятность нормативного регулирования опасных экспериментов']\n",
            "['С другой стороны', 'совокупность сквозных технологий несёт в', 'себе риски нормативного регулирования внезапных открытий']\n",
            "['Тем не менее', 'совокупность сквозных технологий открывает новые', 'возможности несанкционированной кастомизации опасных экспериментов.']\n"
          ]
        }
      ]
    },
    {
      "cell_type": "markdown",
      "source": [
        "### 6.3"
      ],
      "metadata": {
        "id": "woFMdkRiJs0s"
      }
    },
    {
      "cell_type": "code",
      "source": [
        "import random\n",
        "names = ['Александр', 'Данил', 'Егор', 'Иван', 'Кирилл', 'Лев', 'Максим', 'Никита', 'Олег', 'Павел', 'Роман', 'Семен', 'Тимофей', 'Федор', 'Ярослав']\n",
        "surnames = ['Иванов', 'Петров', 'Сидоров', 'Смирнов', 'Кузнецов', 'Попов', 'Васильев', 'Зайцев', 'Соловьев', 'Морозов', 'Новиков', 'Федоров', 'Михайлов', 'Алексеев', 'Яковлев']\n",
        "def generate_name():\n",
        "    name = random.choice(names)\n",
        "    patronymic = random.choice(['А.', 'Б.', 'В.', 'Г.', 'Д.', 'Е.'])\n",
        "    surname = random.choice(surnames)\n",
        "    return f'{name} {patronymic} {surname}'\n",
        "\n",
        "print(generate_name())\n"
      ],
      "metadata": {
        "colab": {
          "base_uri": "https://localhost:8080/"
        },
        "id": "HMhItOYpJwEh",
        "outputId": "0d059162-341c-4143-f413-aa4965bbfa12"
      },
      "execution_count": null,
      "outputs": [
        {
          "output_type": "stream",
          "name": "stdout",
          "text": [
            "Никита Б. Соловьев\n"
          ]
        }
      ]
    },
    {
      "cell_type": "markdown",
      "source": [
        "# Практическое занятие №3"
      ],
      "metadata": {
        "id": "oNVouLq_2Qu7"
      }
    },
    {
      "cell_type": "markdown",
      "source": [
        "## 1. Модули"
      ],
      "metadata": {
        "id": "Dry8YfSh2VDD"
      }
    },
    {
      "cell_type": "markdown",
      "source": [
        "### 1.1."
      ],
      "metadata": {
        "id": "TSBEwpgR2lv_"
      }
    },
    {
      "cell_type": "code",
      "source": [
        "# module1.py\n",
        "\n",
        "import module2\n",
        "\n",
        "\n",
        "def foo():\n",
        "    return module2.bar()\n"
      ],
      "metadata": {
        "id": "RctqF-ML6jQV"
      },
      "execution_count": null,
      "outputs": []
    },
    {
      "cell_type": "code",
      "source": [
        "# module2.py\n",
        "\n",
        "import module1\n",
        "\n",
        "def bar():\n",
        "    return module1.foo()\n",
        "\n",
        "\n",
        "result = module1.foo()\n",
        "\n",
        "print(result)"
      ],
      "metadata": {
        "id": "WbsHXfvu7VjJ"
      },
      "execution_count": null,
      "outputs": []
    },
    {
      "cell_type": "markdown",
      "source": [
        "![image.png](data:image/png;base64,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)"
      ],
      "metadata": {
        "id": "zmZN64Lj7X-A"
      }
    },
    {
      "cell_type": "markdown",
      "source": [
        "### 1.2."
      ],
      "metadata": {
        "id": "4cxMq-Dp2va1"
      }
    },
    {
      "cell_type": "markdown",
      "source": [
        "Модуль загружается только один раз, при первом импорте, и далее используется кэш, чтобы избежать повторной загрузки. Это делается для оптимизации работы приложения и сокращения времени загрузки."
      ],
      "metadata": {
        "id": "RJcu7iKo8DmB"
      }
    },
    {
      "cell_type": "code",
      "source": [
        "# module1.py\n",
        "\n",
        "print(\"Module 1 is loaded\")\n",
        "\n",
        "\n",
        "def foo():\n",
        "    print(\"Function foo from module 1 is called\")\n"
      ],
      "metadata": {
        "id": "EIa6WSpZ8DRL"
      },
      "execution_count": null,
      "outputs": []
    },
    {
      "cell_type": "code",
      "source": [
        "# module2.py\n",
        "\n",
        "print(\"Module 2 is loaded\")\n",
        "\n",
        "\n",
        "def bar():\n",
        "    print(\"Function bar from module 2 is called\")\n"
      ],
      "metadata": {
        "id": "HRlE11A68IYQ"
      },
      "execution_count": null,
      "outputs": []
    },
    {
      "cell_type": "code",
      "source": [
        "# module3.py\n",
        "\n",
        "import module1\n",
        "import module2\n",
        "\n",
        "module1.foo()\n",
        "module2.bar()\n",
        "\n",
        "print(\"Reloading modules...\")\n",
        "\n",
        "import module1\n",
        "import module2\n",
        "\n",
        "module1.foo()\n",
        "module2.bar()\n"
      ],
      "metadata": {
        "id": "uViZN61T8MPV"
      },
      "execution_count": null,
      "outputs": []
    },
    {
      "cell_type": "markdown",
      "source": [
        "![image.png](data:image/png;base64,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)"
      ],
      "metadata": {
        "id": "PxGBHEO_8jsY"
      }
    },
    {
      "cell_type": "markdown",
      "source": [
        "При повторном запуске модуля 3 вы увидите, что модули 1 и 2 не загружаются снова, а функции foo() и bar() вызываются из кэша. Это подтверждает, что модуль загружается только один раз."
      ],
      "metadata": {
        "id": "Pp456dQ38vOH"
      }
    },
    {
      "cell_type": "markdown",
      "source": [
        "### 1.3."
      ],
      "metadata": {
        "id": "fELjyM-o2z0E"
      }
    },
    {
      "cell_type": "markdown",
      "source": [
        "Этот код изменит значение глобальной переменной GLOBAL_VAR только в текущем модуле. Если другие модули импортировали GLOBAL_VAR из some_module, они продолжат использовать старое значение, поскольку импортированный объект - это ссылка на оригинальный объект в модуле some_module, и изменения этой ссылки в текущем модуле не влияют на другие модули."
      ],
      "metadata": {
        "id": "j3GhiPgw99D9"
      }
    },
    {
      "cell_type": "code",
      "source": [
        "#some_module\n",
        "\n",
        "GLOBAL_VAR = 10\n",
        "\n",
        "def set_global_var(new_value):\n",
        "    global GLOBAL_VAR\n",
        "    GLOBAL_VAR = new_value\n"
      ],
      "metadata": {
        "id": "JS-vdGpt9-vC"
      },
      "execution_count": null,
      "outputs": []
    },
    {
      "cell_type": "code",
      "source": [
        "#module1\n",
        "from some_module import set_global_var\n",
        "\n",
        "set_global_var(42)\n"
      ],
      "metadata": {
        "id": "wKT3prrN-CZr"
      },
      "execution_count": null,
      "outputs": []
    },
    {
      "cell_type": "code",
      "source": [
        "#module2\n",
        "from some_module import GLOBAL_VAR\n",
        "\n",
        "print(GLOBAL_VAR)  # выводит 42, если set_global_var был вызван в другом модуле\n"
      ],
      "metadata": {
        "id": "oLndwO0h-F0D"
      },
      "execution_count": null,
      "outputs": []
    },
    {
      "cell_type": "markdown",
      "source": [
        "### 1.4."
      ],
      "metadata": {
        "id": "N9hXUccm20nX"
      }
    },
    {
      "cell_type": "code",
      "source": [
        "# my_module.py\n",
        "\n",
        "def foo():\n",
        "    pass\n",
        "\n",
        "def bar():\n",
        "    pass\n",
        "\n",
        "def baz():\n",
        "    pass\n",
        "\n",
        "def qux():\n",
        "    pass\n",
        "\n",
        "__all__ = ['foo', 'bar', 'qux']"
      ],
      "metadata": {
        "id": "KZPf-7j7G8wV"
      },
      "execution_count": null,
      "outputs": []
    },
    {
      "cell_type": "code",
      "source": [
        "from my_module import *\n",
        "\n",
        "foo()  # вызов функции foo() работает\n",
        "bar()  # вызов функции bar() работает\n",
        "baz()  # вызов функции baz() вызовет AttributeError\n",
        "qux()  # вызов функции qux() работает"
      ],
      "metadata": {
        "id": "pTis-a8jG9b5"
      },
      "execution_count": null,
      "outputs": []
    },
    {
      "cell_type": "markdown",
      "source": [
        "### 1.5."
      ],
      "metadata": {
        "id": "XRQgkffp21Wy"
      }
    },
    {
      "cell_type": "code",
      "source": [
        "def load_config(filename):\n",
        "    with open(filename) as f:\n",
        "        code = compile(f.read(), filename, 'exec')\n",
        "        exec(code, globals())"
      ],
      "metadata": {
        "id": "4foC4mcuIOGW"
      },
      "execution_count": null,
      "outputs": []
    },
    {
      "cell_type": "markdown",
      "source": [
        "Плюсы подхода с использованием импорта:\n",
        "\n",
        " \n",
        "\n",
        "*   Безопасность: модуль импортируется в отдельном namespace, что уменьшает возможность конфликтов имен или загрязнения глобального пространства имен.\n",
        "*   Явная зависимость: при использовании импорта, зависимость от конфигурационного файла явно указывается в коде.\n",
        "*   Поддержка статического анализа: импортирование модуля позволяет использовать инструменты статического анализа кода для поиска ошибок и улучшения читаемости кода.\n",
        "\n",
        "Минусы подхода с использованием импорта:\n",
        "\n",
        "*   Нужен модуль: для использования импорта требуется наличие модуля, что может быть неудобно в некоторых случаях.\n",
        "*   Ограниченная гибкость: импортируемый модуль должен иметь определенную структуру, что может быть неудобно при создании конфигурационных файлов.\n",
        "\n",
        "Плюсы подхода с прямым выполнением кода:\n",
        "\n",
        "\n",
        "*   Гибкость: конфигурационный файл может иметь любую структуру, что дает большую гибкость при создании файлов конфигурации.\n",
        "*   Простота использования: прямое выполнение кода не требует наличия модуля и может быть использовано в любом месте кода.\n",
        "Минусы подхода с прямым выполнением кода:\n",
        "\n",
        "\n",
        "*   Безопасность: прямое выполнение кода может привести к конфликтам имен или загрязнению глобального пространства имен, что может быть небезопасным.\n",
        "*   Скрытая зависимость: при использовании прямого выполнения кода, зависимость от конфигурационного файла может быть скрыта от других разработчиков, что может усложнить поддержку и отладку кода.\n",
        "*   Отсутствие поддержки статического анализа: прямое выполнение кода не позволяет использовать инструменты статического анализа для поиска ошибок и улучшения читаемости кода.\n"
      ],
      "metadata": {
        "id": "lV3qllXpRVOt"
      }
    },
    {
      "cell_type": "markdown",
      "source": [
        "### 1.6."
      ],
      "metadata": {
        "id": "SWdgH5X_22Nh"
      }
    },
    {
      "cell_type": "code",
      "source": [
        "# package/package/__init__.py\n",
        "\n",
        "from .module1 import *\n",
        "from .module2 import *"
      ],
      "metadata": {
        "id": "rrEwNI0kYjEP"
      },
      "execution_count": null,
      "outputs": []
    },
    {
      "cell_type": "code",
      "source": [
        "# package/module1.py\n",
        "\n",
        "def func1():\n",
        "    print(\"This is function 1 from module 1.\")\n"
      ],
      "metadata": {
        "id": "WHxQmmGcYjqT"
      },
      "execution_count": null,
      "outputs": []
    },
    {
      "cell_type": "code",
      "source": [
        "# package/package/module2.py\n",
        "\n",
        "def func2():\n",
        "    print(\"This is function 2 from module 2.\")\n"
      ],
      "metadata": {
        "id": "f9yuUXp_Yoi-"
      },
      "execution_count": null,
      "outputs": []
    },
    {
      "cell_type": "code",
      "source": [
        "# package/package/data.json\n",
        "\n",
        "{\n",
        "  \"name\": \"John\",\n",
        "  \"age\": 30,\n",
        "  \"city\": \"New York\"\n",
        "}\n"
      ],
      "metadata": {
        "id": "YnRkk91jYrFy"
      },
      "execution_count": null,
      "outputs": []
    },
    {
      "cell_type": "code",
      "source": [
        "# package/setup.py\n",
        "\n",
        "from setuptools import setup, find_packages\n",
        "\n",
        "setup(\n",
        "    name=\"package\",\n",
        "    version=\"0.1\",\n",
        "    packages=find_packages(),\n",
        "    install_requires=[],\n",
        "    package_data={\"package\": [\"data.json\"]},\n",
        "    classifiers=[\n",
        "        \"Programming Language :: Python :: 3\",\n",
        "        \"License :: OSI Approved :: MIT License\",\n",
        "        \"Operating System :: OS Independent\",\n",
        "    ],\n",
        ")\n"
      ],
      "metadata": {
        "id": "QItJHpUFYxnN"
      },
      "execution_count": null,
      "outputs": []
    },
    {
      "cell_type": "code",
      "source": [
        "# package/example.py\n",
        "\n",
        "from package import func1, func2\n",
        "import json\n",
        "\n",
        "func1()\n",
        "func2()\n",
        "\n",
        "with open(\"package/data.json\", \"r\") as f:\n",
        "    data = json.load(f)\n",
        "print(data)"
      ],
      "metadata": {
        "id": "t9zW8EQMZCdx"
      },
      "execution_count": null,
      "outputs": []
    },
    {
      "cell_type": "code",
      "source": [
        "pip install setuptools | wheel\n",
        "python setup.py sdist\n",
        "pip install example_package-0.1.tar.gz"
      ],
      "metadata": {
        "id": "Gpg377hgZJN9"
      },
      "execution_count": null,
      "outputs": []
    },
    {
      "cell_type": "markdown",
      "source": [
        "## 2. Процедурная графика"
      ],
      "metadata": {
        "id": "En63-DSh2Wzc"
      }
    },
    {
      "cell_type": "markdown",
      "source": [
        "### 2.1."
      ],
      "metadata": {
        "id": "BRgkXR2-a7Hk"
      }
    },
    {
      "cell_type": "code",
      "source": [
        "import numpy as np\n",
        "import matplotlib.pyplot as plt\n",
        "\n",
        "\n",
        "def generate_sprite():\n",
        "    sprite = np.random.randint(0, 2, size=(5, 5))\n",
        "    sprite[:, 2:] = sprite[:, 2::-1]\n",
        "    return sprite\n",
        "\n",
        "\n",
        "sprite = generate_sprite()\n",
        "plt.imshow(sprite, cmap=\"gray\")\n",
        "plt.show()\n"
      ],
      "metadata": {
        "colab": {
          "base_uri": "https://localhost:8080/",
          "height": 265
        },
        "id": "8ZS7VNqSZhzA",
        "outputId": "0c895f60-54ff-4c9d-8429-ecc145aed2a2"
      },
      "execution_count": null,
      "outputs": [
        {
          "output_type": "display_data",
          "data": {
            "text/plain": [
              "<Figure size 432x288 with 1 Axes>"
            ],
            "image/png": "[encoded data removed]"
          },
          "metadata": {
            "needs_background": "light"
          }
        }
      ]
    },
    {
      "cell_type": "markdown",
      "source": [
        "### 2.2."
      ],
      "metadata": {
        "id": "N2AKNvhDa-TX"
      }
    },
    {
      "cell_type": "code",
      "source": [
        "def generate_sprite():\n",
        "    sprite = np.random.randint(0, 2, size=(5, 5))\n",
        "    sprite[:, 2:] = sprite[:, 2::-1]\n",
        "    sprite = np.pad(sprite, pad_width=2, mode=\"constant\", constant_values= 0)\n",
        "    return sprite\n",
        "\n",
        "ms = False\n",
        "ls = False\n",
        "map_n, map_m = 10, 20\n",
        "for i in range(map_n):\n",
        "    for j in range(map_m):\n",
        "        b = generate_sprite()\n",
        "        if (ls is not True):\n",
        "            ls = True\n",
        "            line_sprite = b\n",
        "        else:\n",
        "            line_sprite = np.concatenate((line_sprite, b), axis=1)\n",
        "    ls = False\n",
        "    if (ms is not True):\n",
        "        ms = True\n",
        "        map_sprite = line_sprite\n",
        "    else:\n",
        "        map_sprite = np.concatenate((map_sprite, line_sprite))\n",
        "    \n",
        "plt.figure(figsize=(20,20))\n",
        "plt.imshow(map_sprite, cmap='gray', interpolation='nearest')\n",
        "plt.show()"
      ],
      "metadata": {
        "id": "IM-w6Yc2bXXi",
        "colab": {
          "base_uri": "https://localhost:8080/",
          "height": 607
        },
        "outputId": "5eb1a7da-6494-41c5-8e7c-1d31cb805974"
      },
      "execution_count": null,
      "outputs": [
        {
          "output_type": "display_data",
          "data": {
            "text/plain": [
              "<Figure size 1440x1440 with 1 Axes>"
            ],
            "image/png": "[encoded data removed]"
          },
          "metadata": {
            "needs_background": "light"
          }
        }
      ]
    },
    {
      "cell_type": "markdown",
      "source": [
        "### 2.3."
      ],
      "metadata": {
        "id": "gbsQGmZ_a_ti"
      }
    },
    {
      "cell_type": "code",
      "source": [
        "def generate_sprite():\n",
        "    colors = ['1D2B53', '7E2553', '008751', 'AB5236', '5F574F', 'C2C3C7', 'FFF1E8', 'FF004D', 'FFA300', 'FFEC27', '00E436', '29ADFF', '83769C', 'FF77A8', 'FFCCAA']\n",
        "    color_map = {i: colors[i] for i in range(15)}\n",
        "    \n",
        "    sprite = np.random.randint(0, 15, size=(5, 5))\n",
        "    sprite[:, 2:] = sprite[:, 2::-1]\n",
        "    sprite = np.pad(sprite, pad_width=2, mode=\"constant\", constant_values=0)\n",
        "    \n",
        "    colored_sprite = np.zeros((sprite.shape[0], sprite.shape[1], 3), dtype=np.uint8)\n",
        "    for i in range(sprite.shape[0]):\n",
        "        for j in range(sprite.shape[1]):\n",
        "            color_code = color_map[sprite[i, j]]\n",
        "            color = tuple(int(color_code[i:i+2], 16) for i in (0, 2 ,4))\n",
        "            colored_sprite[i, j] = color\n",
        "    \n",
        "    return colored_sprite\n",
        "\n",
        "\n",
        "ms = False\n",
        "ls = False\n",
        "map_n, map_m = 10, 20\n",
        "for i in range(map_n):\n",
        "    for j in range(map_m):\n",
        "        b = generate_sprite()\n",
        "        if (ls is not True):\n",
        "            ls = True\n",
        "            line_sprite = b\n",
        "        else:\n",
        "            line_sprite = np.concatenate((line_sprite, b), axis=1)\n",
        "    ls = False\n",
        "    if (ms is not True):\n",
        "        ms = True\n",
        "        map_sprite = line_sprite\n",
        "    else:\n",
        "        map_sprite = np.concatenate((map_sprite, line_sprite))\n",
        "    \n",
        "plt.figure(figsize=(20,20))\n",
        "plt.imshow(map_sprite)\n",
        "plt.show()\n"
      ],
      "metadata": {
        "colab": {
          "base_uri": "https://localhost:8080/",
          "height": 607
        },
        "id": "ZbQnuXRhGD0-",
        "outputId": "ad032198-2146-4a74-afe9-17a922333bb5"
      },
      "execution_count": null,
      "outputs": [
        {
          "output_type": "display_data",
          "data": {
            "text/plain": [
              "<Figure size 1440x1440 with 1 Axes>"
            ],
            "image/png": "[encoded data removed]"
          },
          "metadata": {
            "needs_background": "light"
          }
        }
      ]
    },
    {
      "cell_type": "markdown",
      "source": [
        "### 2.4."
      ],
      "metadata": {
        "id": "9yLKPVcNbAm7"
      }
    },
    {
      "cell_type": "markdown",
      "source": [
        "### 2.5."
      ],
      "metadata": {
        "id": "F17ZyC7ZbBUq"
      }
    },
    {
      "cell_type": "markdown",
      "source": [
        "### 2.6."
      ],
      "metadata": {
        "id": "k9miV5M7bCyQ"
      }
    },
    {
      "cell_type": "markdown",
      "source": [
        "### 2.7."
      ],
      "metadata": {
        "id": "VpG-YtaQbEm-"
      }
    },
    {
      "cell_type": "markdown",
      "source": [
        "### 2.8."
      ],
      "metadata": {
        "id": "Eo0bLppKbHac"
      }
    },
    {
      "cell_type": "markdown",
      "source": [
        "### 2.9."
      ],
      "metadata": {
        "id": "4R9VQzoNbIPK"
      }
    },
    {
      "cell_type": "markdown",
      "source": [
        "### 2.10."
      ],
      "metadata": {
        "id": "ohhNR5jpbJHL"
      }
    },
    {
      "cell_type": "markdown",
      "source": [
        "### 2.11."
      ],
      "metadata": {
        "id": "Bt2Wydr_bJ-c"
      }
    },
    {
      "cell_type": "markdown",
      "source": [
        "### 2.12."
      ],
      "metadata": {
        "id": "zp8W6AE-bKs0"
      }
    },
    {
      "cell_type": "markdown",
      "source": [
        "### 2.13."
      ],
      "metadata": {
        "id": "e3S1m2yVbLZ-"
      }
    },
    {
      "cell_type": "markdown",
      "source": [
        "### 2.14."
      ],
      "metadata": {
        "id": "QCdxZeDRbMeh"
      }
    },
    {
      "cell_type": "markdown",
      "source": [
        "### 2.15."
      ],
      "metadata": {
        "id": "o096mqShbNS-"
      }
    },
    {
      "cell_type": "markdown",
      "source": [
        "## 3. Инфографика"
      ],
      "metadata": {
        "id": "hRGUnO3c2Ycs"
      }
    }
  ]
}